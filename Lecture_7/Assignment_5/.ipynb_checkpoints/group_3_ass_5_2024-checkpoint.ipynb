{
 "cells": [
  {
   "cell_type": "markdown",
   "metadata": {},
   "source": [
    "# Assignment 5\n",
    "The script should not give an error. Any mistake will be consider as 0.\n"
   ]
  },
  {
   "cell_type": "code",
   "execution_count": 1,
   "metadata": {},
   "outputs": [
    {
     "data": {
      "text/html": [
       "\n",
       "<style>\n",
       "    div#notebook-container    { width: 95%; }\n",
       "    div#menubar-container     { width: 65%; }\n",
       "    div#maintoolbar-container { width: 99%; }a\n",
       "</style>\n"
      ],
      "text/plain": [
       "<IPython.core.display.HTML object>"
      ]
     },
     "metadata": {},
     "output_type": "display_data"
    }
   ],
   "source": [
    "from IPython.display import display, HTML\n",
    "\n",
    "display(HTML(data=\"\"\"\n",
    "<style>\n",
    "    div#notebook-container    { width: 95%; }\n",
    "    div#menubar-container     { width: 65%; }\n",
    "    div#maintoolbar-container { width: 99%; }a\n",
    "</style>\n",
    "\"\"\"))"
   ]
  },
  {
   "cell_type": "code",
   "execution_count": 2,
   "metadata": {},
   "outputs": [
    {
     "name": "stdout",
     "output_type": "stream",
     "text": [
      "Requirement already satisfied: selenium in c:\\users\\ddelgado\\anaconda3\\lib\\site-packages (4.16.0)\n",
      "Requirement already satisfied: trio-websocket~=0.9 in c:\\users\\ddelgado\\anaconda3\\lib\\site-packages (from selenium) (0.11.1)\n",
      "Requirement already satisfied: certifi>=2021.10.8 in c:\\users\\ddelgado\\anaconda3\\lib\\site-packages (from selenium) (2022.9.14)\n",
      "Requirement already satisfied: urllib3[socks]<3,>=1.26 in c:\\users\\ddelgado\\anaconda3\\lib\\site-packages (from selenium) (1.26.11)\n",
      "Requirement already satisfied: trio~=0.17 in c:\\users\\ddelgado\\anaconda3\\lib\\site-packages (from selenium) (0.24.0)\n",
      "Requirement already satisfied: idna in c:\\users\\ddelgado\\anaconda3\\lib\\site-packages (from trio~=0.17->selenium) (3.3)\n",
      "Requirement already satisfied: exceptiongroup in c:\\users\\ddelgado\\anaconda3\\lib\\site-packages (from trio~=0.17->selenium) (1.2.0)\n",
      "Requirement already satisfied: sortedcontainers in c:\\users\\ddelgado\\anaconda3\\lib\\site-packages (from trio~=0.17->selenium) (2.4.0)\n",
      "Requirement already satisfied: outcome in c:\\users\\ddelgado\\anaconda3\\lib\\site-packages (from trio~=0.17->selenium) (1.3.0.post0)\n",
      "Requirement already satisfied: sniffio>=1.3.0 in c:\\users\\ddelgado\\anaconda3\\lib\\site-packages (from trio~=0.17->selenium) (1.3.0)\n",
      "Requirement already satisfied: attrs>=20.1.0 in c:\\users\\ddelgado\\anaconda3\\lib\\site-packages (from trio~=0.17->selenium) (21.4.0)\n",
      "Requirement already satisfied: cffi>=1.14 in c:\\users\\ddelgado\\anaconda3\\lib\\site-packages (from trio~=0.17->selenium) (1.15.1)\n",
      "Requirement already satisfied: wsproto>=0.14 in c:\\users\\ddelgado\\anaconda3\\lib\\site-packages (from trio-websocket~=0.9->selenium) (1.2.0)\n",
      "Requirement already satisfied: PySocks!=1.5.7,<2.0,>=1.5.6 in c:\\users\\ddelgado\\anaconda3\\lib\\site-packages (from urllib3[socks]<3,>=1.26->selenium) (1.7.1)\n",
      "Requirement already satisfied: pycparser in c:\\users\\ddelgado\\anaconda3\\lib\\site-packages (from cffi>=1.14->trio~=0.17->selenium) (2.21)\n",
      "Requirement already satisfied: h11<1,>=0.9.0 in c:\\users\\ddelgado\\anaconda3\\lib\\site-packages (from wsproto>=0.14->trio-websocket~=0.9->selenium) (0.14.0)\n",
      "Requirement already satisfied: webdriver-manager in c:\\users\\ddelgado\\anaconda3\\lib\\site-packages (4.0.1)\n",
      "Requirement already satisfied: requests in c:\\users\\ddelgado\\anaconda3\\lib\\site-packages (from webdriver-manager) (2.28.1)\n",
      "Requirement already satisfied: packaging in c:\\users\\ddelgado\\anaconda3\\lib\\site-packages (from webdriver-manager) (21.3)\n",
      "Requirement already satisfied: python-dotenv in c:\\users\\ddelgado\\anaconda3\\lib\\site-packages (from webdriver-manager) (1.0.0)\n",
      "Requirement already satisfied: pyparsing!=3.0.5,>=2.0.2 in c:\\users\\ddelgado\\anaconda3\\lib\\site-packages (from packaging->webdriver-manager) (3.0.9)\n",
      "Requirement already satisfied: charset-normalizer<3,>=2 in c:\\users\\ddelgado\\anaconda3\\lib\\site-packages (from requests->webdriver-manager) (2.0.4)\n",
      "Requirement already satisfied: urllib3<1.27,>=1.21.1 in c:\\users\\ddelgado\\anaconda3\\lib\\site-packages (from requests->webdriver-manager) (1.26.11)\n",
      "Requirement already satisfied: idna<4,>=2.5 in c:\\users\\ddelgado\\anaconda3\\lib\\site-packages (from requests->webdriver-manager) (3.3)\n",
      "Requirement already satisfied: certifi>=2017.4.17 in c:\\users\\ddelgado\\anaconda3\\lib\\site-packages (from requests->webdriver-manager) (2022.9.14)\n"
     ]
    }
   ],
   "source": [
    "!pip install selenium\n",
    "!pip install webdriver-manager"
   ]
  },
  {
   "cell_type": "code",
   "execution_count": 3,
   "metadata": {},
   "outputs": [],
   "source": [
    "# this library is to manipulate browser\n",
    "from selenium import webdriver\n",
    "\n",
    "# it allows you to work with differen versions of drivers\n",
    "# We call ChromeDriver\n",
    "from webdriver_manager.chrome import ChromeDriverManager\n",
    "import re\n",
    "import time \n",
    "from selenium.webdriver.common.by import By\n",
    "import pandas as pd # for table import\n",
    "from selenium import webdriver\n",
    "from selenium.webdriver.chrome.service import Service"
   ]
  },
  {
   "cell_type": "code",
   "execution_count": 4,
   "metadata": {},
   "outputs": [
    {
     "data": {
      "text/plain": [
       "'C:\\\\Users\\\\DDelgado\\\\Documents\\\\GitHub\\\\Diplomado_PUCP\\\\Lecture_7\\\\Assignment_5'"
      ]
     },
     "execution_count": 4,
     "metadata": {},
     "output_type": "execute_result"
    }
   ],
   "source": [
    "pwd"
   ]
  },
  {
   "cell_type": "code",
   "execution_count": 53,
   "metadata": {},
   "outputs": [],
   "source": [
    "# Set driver\n",
    "\n",
    "service = Service(executable_path=\"../chromedriver-win64/chromedriver.exe\")\n",
    "options = webdriver.ChromeOptions()\n",
    "driver = webdriver.Chrome(service=service, options=options)\n",
    "url = 'https://infogob.jne.gob.pe/Eleccion'\n",
    "driver.get(url)"
   ]
  },
  {
   "cell_type": "code",
   "execution_count": 67,
   "metadata": {},
   "outputs": [
    {
     "ename": "InvalidSelectorException",
     "evalue": "Message: invalid selector: The result of the xpath expression \"/html/body/div[1]/section/div[2]/div[1]/h3/text()\" is: [object Text]. It should be an element.\n  (Session info: chrome=120.0.6099.218); For documentation on this error, please visit: https://www.selenium.dev/documentation/webdriver/troubleshooting/errors#invalid-selector-exception\nStacktrace:\n\tGetHandleVerifier [0x00007FF648522142+3514994]\n\t(No symbol) [0x00007FF648140CE2]\n\t(No symbol) [0x00007FF647FE76AA]\n\t(No symbol) [0x00007FF647FECFC0]\n\t(No symbol) [0x00007FF647FEF38F]\n\t(No symbol) [0x00007FF647FEF480]\n\t(No symbol) [0x00007FF648031624]\n\t(No symbol) [0x00007FF64803197C]\n\t(No symbol) [0x00007FF648074EE7]\n\t(No symbol) [0x00007FF64805602F]\n\t(No symbol) [0x00007FF6480728F6]\n\t(No symbol) [0x00007FF648055D93]\n\t(No symbol) [0x00007FF648024BDC]\n\t(No symbol) [0x00007FF648025C64]\n\tGetHandleVerifier [0x00007FF64854E16B+3695259]\n\tGetHandleVerifier [0x00007FF6485A6737+4057191]\n\tGetHandleVerifier [0x00007FF64859E4E3+4023827]\n\tGetHandleVerifier [0x00007FF6482704F9+689705]\n\t(No symbol) [0x00007FF64814C048]\n\t(No symbol) [0x00007FF648148044]\n\t(No symbol) [0x00007FF6481481C9]\n\t(No symbol) [0x00007FF6481388C4]\n\tBaseThreadInitThunk [0x00007FFD6943257D+29]\n\tRtlUserThreadStart [0x00007FFD6B38AA58+40]\n",
     "output_type": "error",
     "traceback": [
      "\u001b[1;31m---------------------------------------------------------------------------\u001b[0m",
      "\u001b[1;31mInvalidSelectorException\u001b[0m                  Traceback (most recent call last)",
      "\u001b[1;32m~\\AppData\\Local\\Temp\\ipykernel_15540\\871096006.py\u001b[0m in \u001b[0;36m<module>\u001b[1;34m\u001b[0m\n\u001b[0;32m     27\u001b[0m \u001b[1;33m\u001b[0m\u001b[0m\n\u001b[0;32m     28\u001b[0m     \u001b[1;31m# Periodo proceso\u001b[0m\u001b[1;33m\u001b[0m\u001b[1;33m\u001b[0m\u001b[0m\n\u001b[1;32m---> 29\u001b[1;33m     \u001b[0mperiodo_path\u001b[0m \u001b[1;33m=\u001b[0m \u001b[0mdriver\u001b[0m\u001b[1;33m.\u001b[0m\u001b[0mfind_element\u001b[0m\u001b[1;33m(\u001b[0m\u001b[0mBy\u001b[0m\u001b[1;33m.\u001b[0m\u001b[0mXPATH\u001b[0m\u001b[1;33m,\u001b[0m \u001b[1;34m'/html/body/div[1]/section/div[2]/div[1]/h3/text()'\u001b[0m\u001b[1;33m)\u001b[0m\u001b[1;33m.\u001b[0m\u001b[0mtext\u001b[0m\u001b[1;33m\u001b[0m\u001b[1;33m\u001b[0m\u001b[0m\n\u001b[0m\u001b[0;32m     30\u001b[0m     \u001b[0mperiodo_value\u001b[0m \u001b[1;33m=\u001b[0m \u001b[0mperiodo_path\u001b[0m\u001b[1;33m.\u001b[0m\u001b[0mget_attribute\u001b[0m\u001b[1;33m(\u001b[0m \u001b[1;34m'innerHTML'\u001b[0m \u001b[1;33m)\u001b[0m\u001b[1;33m\u001b[0m\u001b[1;33m\u001b[0m\u001b[0m\n\u001b[0;32m     31\u001b[0m \u001b[1;33m\u001b[0m\u001b[0m\n",
      "\u001b[1;32m~\\anaconda3\\lib\\site-packages\\selenium\\webdriver\\remote\\webdriver.py\u001b[0m in \u001b[0;36mfind_element\u001b[1;34m(self, by, value)\u001b[0m\n\u001b[0;32m    740\u001b[0m             \u001b[0mvalue\u001b[0m \u001b[1;33m=\u001b[0m \u001b[1;34mf'[name=\"{value}\"]'\u001b[0m\u001b[1;33m\u001b[0m\u001b[1;33m\u001b[0m\u001b[0m\n\u001b[0;32m    741\u001b[0m \u001b[1;33m\u001b[0m\u001b[0m\n\u001b[1;32m--> 742\u001b[1;33m         \u001b[1;32mreturn\u001b[0m \u001b[0mself\u001b[0m\u001b[1;33m.\u001b[0m\u001b[0mexecute\u001b[0m\u001b[1;33m(\u001b[0m\u001b[0mCommand\u001b[0m\u001b[1;33m.\u001b[0m\u001b[0mFIND_ELEMENT\u001b[0m\u001b[1;33m,\u001b[0m \u001b[1;33m{\u001b[0m\u001b[1;34m\"using\"\u001b[0m\u001b[1;33m:\u001b[0m \u001b[0mby\u001b[0m\u001b[1;33m,\u001b[0m \u001b[1;34m\"value\"\u001b[0m\u001b[1;33m:\u001b[0m \u001b[0mvalue\u001b[0m\u001b[1;33m}\u001b[0m\u001b[1;33m)\u001b[0m\u001b[1;33m[\u001b[0m\u001b[1;34m\"value\"\u001b[0m\u001b[1;33m]\u001b[0m\u001b[1;33m\u001b[0m\u001b[1;33m\u001b[0m\u001b[0m\n\u001b[0m\u001b[0;32m    743\u001b[0m \u001b[1;33m\u001b[0m\u001b[0m\n\u001b[0;32m    744\u001b[0m     \u001b[1;32mdef\u001b[0m \u001b[0mfind_elements\u001b[0m\u001b[1;33m(\u001b[0m\u001b[0mself\u001b[0m\u001b[1;33m,\u001b[0m \u001b[0mby\u001b[0m\u001b[1;33m=\u001b[0m\u001b[0mBy\u001b[0m\u001b[1;33m.\u001b[0m\u001b[0mID\u001b[0m\u001b[1;33m,\u001b[0m \u001b[0mvalue\u001b[0m\u001b[1;33m:\u001b[0m \u001b[0mOptional\u001b[0m\u001b[1;33m[\u001b[0m\u001b[0mstr\u001b[0m\u001b[1;33m]\u001b[0m \u001b[1;33m=\u001b[0m \u001b[1;32mNone\u001b[0m\u001b[1;33m)\u001b[0m \u001b[1;33m->\u001b[0m \u001b[0mList\u001b[0m\u001b[1;33m[\u001b[0m\u001b[0mWebElement\u001b[0m\u001b[1;33m]\u001b[0m\u001b[1;33m:\u001b[0m\u001b[1;33m\u001b[0m\u001b[1;33m\u001b[0m\u001b[0m\n",
      "\u001b[1;32m~\\anaconda3\\lib\\site-packages\\selenium\\webdriver\\remote\\webdriver.py\u001b[0m in \u001b[0;36mexecute\u001b[1;34m(self, driver_command, params)\u001b[0m\n\u001b[0;32m    346\u001b[0m         \u001b[0mresponse\u001b[0m \u001b[1;33m=\u001b[0m \u001b[0mself\u001b[0m\u001b[1;33m.\u001b[0m\u001b[0mcommand_executor\u001b[0m\u001b[1;33m.\u001b[0m\u001b[0mexecute\u001b[0m\u001b[1;33m(\u001b[0m\u001b[0mdriver_command\u001b[0m\u001b[1;33m,\u001b[0m \u001b[0mparams\u001b[0m\u001b[1;33m)\u001b[0m\u001b[1;33m\u001b[0m\u001b[1;33m\u001b[0m\u001b[0m\n\u001b[0;32m    347\u001b[0m         \u001b[1;32mif\u001b[0m \u001b[0mresponse\u001b[0m\u001b[1;33m:\u001b[0m\u001b[1;33m\u001b[0m\u001b[1;33m\u001b[0m\u001b[0m\n\u001b[1;32m--> 348\u001b[1;33m             \u001b[0mself\u001b[0m\u001b[1;33m.\u001b[0m\u001b[0merror_handler\u001b[0m\u001b[1;33m.\u001b[0m\u001b[0mcheck_response\u001b[0m\u001b[1;33m(\u001b[0m\u001b[0mresponse\u001b[0m\u001b[1;33m)\u001b[0m\u001b[1;33m\u001b[0m\u001b[1;33m\u001b[0m\u001b[0m\n\u001b[0m\u001b[0;32m    349\u001b[0m             \u001b[0mresponse\u001b[0m\u001b[1;33m[\u001b[0m\u001b[1;34m\"value\"\u001b[0m\u001b[1;33m]\u001b[0m \u001b[1;33m=\u001b[0m \u001b[0mself\u001b[0m\u001b[1;33m.\u001b[0m\u001b[0m_unwrap_value\u001b[0m\u001b[1;33m(\u001b[0m\u001b[0mresponse\u001b[0m\u001b[1;33m.\u001b[0m\u001b[0mget\u001b[0m\u001b[1;33m(\u001b[0m\u001b[1;34m\"value\"\u001b[0m\u001b[1;33m,\u001b[0m \u001b[1;32mNone\u001b[0m\u001b[1;33m)\u001b[0m\u001b[1;33m)\u001b[0m\u001b[1;33m\u001b[0m\u001b[1;33m\u001b[0m\u001b[0m\n\u001b[0;32m    350\u001b[0m             \u001b[1;32mreturn\u001b[0m \u001b[0mresponse\u001b[0m\u001b[1;33m\u001b[0m\u001b[1;33m\u001b[0m\u001b[0m\n",
      "\u001b[1;32m~\\anaconda3\\lib\\site-packages\\selenium\\webdriver\\remote\\errorhandler.py\u001b[0m in \u001b[0;36mcheck_response\u001b[1;34m(self, response)\u001b[0m\n\u001b[0;32m    227\u001b[0m                 \u001b[0malert_text\u001b[0m \u001b[1;33m=\u001b[0m \u001b[0mvalue\u001b[0m\u001b[1;33m[\u001b[0m\u001b[1;34m\"alert\"\u001b[0m\u001b[1;33m]\u001b[0m\u001b[1;33m.\u001b[0m\u001b[0mget\u001b[0m\u001b[1;33m(\u001b[0m\u001b[1;34m\"text\"\u001b[0m\u001b[1;33m)\u001b[0m\u001b[1;33m\u001b[0m\u001b[1;33m\u001b[0m\u001b[0m\n\u001b[0;32m    228\u001b[0m             \u001b[1;32mraise\u001b[0m \u001b[0mexception_class\u001b[0m\u001b[1;33m(\u001b[0m\u001b[0mmessage\u001b[0m\u001b[1;33m,\u001b[0m \u001b[0mscreen\u001b[0m\u001b[1;33m,\u001b[0m \u001b[0mstacktrace\u001b[0m\u001b[1;33m,\u001b[0m \u001b[0malert_text\u001b[0m\u001b[1;33m)\u001b[0m  \u001b[1;31m# type: ignore[call-arg]  # mypy is not smart enough here\u001b[0m\u001b[1;33m\u001b[0m\u001b[1;33m\u001b[0m\u001b[0m\n\u001b[1;32m--> 229\u001b[1;33m         \u001b[1;32mraise\u001b[0m \u001b[0mexception_class\u001b[0m\u001b[1;33m(\u001b[0m\u001b[0mmessage\u001b[0m\u001b[1;33m,\u001b[0m \u001b[0mscreen\u001b[0m\u001b[1;33m,\u001b[0m \u001b[0mstacktrace\u001b[0m\u001b[1;33m)\u001b[0m\u001b[1;33m\u001b[0m\u001b[1;33m\u001b[0m\u001b[0m\n\u001b[0m",
      "\u001b[1;31mInvalidSelectorException\u001b[0m: Message: invalid selector: The result of the xpath expression \"/html/body/div[1]/section/div[2]/div[1]/h3/text()\" is: [object Text]. It should be an element.\n  (Session info: chrome=120.0.6099.218); For documentation on this error, please visit: https://www.selenium.dev/documentation/webdriver/troubleshooting/errors#invalid-selector-exception\nStacktrace:\n\tGetHandleVerifier [0x00007FF648522142+3514994]\n\t(No symbol) [0x00007FF648140CE2]\n\t(No symbol) [0x00007FF647FE76AA]\n\t(No symbol) [0x00007FF647FECFC0]\n\t(No symbol) [0x00007FF647FEF38F]\n\t(No symbol) [0x00007FF647FEF480]\n\t(No symbol) [0x00007FF648031624]\n\t(No symbol) [0x00007FF64803197C]\n\t(No symbol) [0x00007FF648074EE7]\n\t(No symbol) [0x00007FF64805602F]\n\t(No symbol) [0x00007FF6480728F6]\n\t(No symbol) [0x00007FF648055D93]\n\t(No symbol) [0x00007FF648024BDC]\n\t(No symbol) [0x00007FF648025C64]\n\tGetHandleVerifier [0x00007FF64854E16B+3695259]\n\tGetHandleVerifier [0x00007FF6485A6737+4057191]\n\tGetHandleVerifier [0x00007FF64859E4E3+4023827]\n\tGetHandleVerifier [0x00007FF6482704F9+689705]\n\t(No symbol) [0x00007FF64814C048]\n\t(No symbol) [0x00007FF648148044]\n\t(No symbol) [0x00007FF6481481C9]\n\t(No symbol) [0x00007FF6481388C4]\n\tBaseThreadInitThunk [0x00007FFD6943257D+29]\n\tRtlUserThreadStart [0x00007FFD6B38AA58+40]\n"
     ]
    }
   ],
   "source": [
    "# We set the dictionary to compile dfs\n",
    "all_tables = {}\n",
    "\n",
    "# We then set a loop to look for each table and turn it into a df and store it in the dictioary \n",
    "\n",
    "for periodo in range(26, 1, -1):\n",
    "    time.sleep(4)\n",
    "    # Proceso para llegar a la tabla\n",
    "    proceso = driver.find_element(By.XPATH, '/html/body/div[1]/section/div[2]/div[2]/div[2]/div[1]/div')\n",
    "    proceso.click()\n",
    "    time.sleep(3)\n",
    "\n",
    "    presidencial = driver.find_element(By.XPATH, '/html/body/div[1]/section/div[2]/div[2]/div[2]/div[1]/div/div[2]/div[2]')\n",
    "    presidencial.click()\n",
    "    time.sleep(3)\n",
    "\n",
    "    eleccion = driver.find_element(By.XPATH, '/html/body/div[1]/section/div[2]/div[2]/div[2]/div[2]/div')\n",
    "    eleccion.click()\n",
    "    time.sleep(3)\n",
    "\n",
    "    # Seleccionar el periodo actual\n",
    "    periodo_xpath = f'/html/body/div[1]/section/div[2]/div[2]/div[2]/div[2]/div/div[2]/div[{periodo}]'\n",
    "    periodo_element = driver.find_element(By.XPATH, periodo_xpath)\n",
    "    \n",
    "    periodo_element.click()\n",
    "    time.sleep(3)\n",
    "\n",
    "    # Hacer clic en el botón de buscar\n",
    "    buscar = driver.find_element(By.XPATH, '/html/body/div[1]/section/div[2]/div[2]/div[3]/div/button')\n",
    "    buscar.click()\n",
    "    time.sleep(3)\n",
    "\n",
    "    # Periodo proceso\n",
    "    #periodo_path = driver.find_element(By.XPATH, '/html/body/div[1]/section/div[2]/div[1]/h3/text()').text\n",
    "    #periodo_value = periodo_path.get_attribute( 'innerHTML' )\n",
    "    \n",
    "    # Hacer clic en la pestaña de resultados\n",
    "    resultados = driver.find_element(By.XPATH, '/html/body/div[1]/section/div[2]/div[3]/div[1]/ul/li[2]/a')\n",
    "    resultados.click()\n",
    "    time.sleep(3)\n",
    "\n",
    "    # Obtener el HTML de la tabla\n",
    "    table_path = driver.find_element(By.XPATH, '/html/body/div[1]/section/div[2]/div[3]')  # Añade el XPATH de la tabla aquí\n",
    "    table_html = table_path.get_attribute('innerHTML')\n",
    "    time.sleep(3)\n",
    "    \n",
    "    # Read table\n",
    "    table = pd.read_html( table_html )\n",
    "    table[0]\n",
    "    all_tables[periodo] = table[0] \n",
    "    \n",
    "    #table[0][\"Periodo\"] = periodo_value\n",
    "    time.sleep(3)\n",
    "    \n",
    "    if periodo != 1:\n",
    "        # We go back to search for the remaining tables\n",
    "        back = driver.find_element(By.XPATH , '/html/body/div[1]/section/div[1]/a[2]')\n",
    "        back.click()\n"
   ]
  },
  {
   "cell_type": "code",
   "execution_count": null,
   "metadata": {},
   "outputs": [],
   "source": [
    "# Append datasets\n",
    "all_tables_df = pd.concat(all_tables.values(), axis=0, ignore_index=True)\n",
    "\n",
    "all_tables_df\n",
    "\n"
   ]
  },
  {
   "cell_type": "markdown",
   "metadata": {},
   "source": [
    "### Siguientes pasos:\n",
    "- Definir variable que capture la elección\n",
    "- Abordar casos con más de una tabla (varios partidos en eleccion que no entran en una sola tabla y se dividen por paginas)\n",
    "- Recortar dataframe y mantener solo variables de interés"
   ]
  },
  {
   "cell_type": "code",
   "execution_count": null,
   "metadata": {},
   "outputs": [],
   "source": [
    "#Run packages\n",
    "\n",
    "# Create a dataframe to collect the results (out of the for loop)\n",
    "results = pd.DataFrame()\n",
    "\n",
    "#### Possibly for loop starts here\n",
    "\n",
    "# Open driver\n",
    "\n",
    "service = Service(executable_path=\"../chromedriver-win64/chromedriver.exe\")\n",
    "options = webdriver.ChromeOptions()\n",
    "driver = webdriver.Chrome(service=service, options=options)\n",
    "\n",
    "# Enter in the website\n",
    "url = 'https://infogob.jne.gob.pe/Eleccion'\n",
    "driver.get(url)\n",
    "time.sleep(5)\n",
    "\n",
    "# Open first selection box **(relevant in the for loop)**\n",
    "proceso = driver.find_element(By.XPATH, '/html/body/div[1]/section/div[2]/div[2]/div[2]/div[1]/div')\n",
    "proceso.click()\n",
    "time.sleep(3)\n",
    "\n",
    "# Select \"PROCESO PRESIDENCIAL\"\n",
    "presidencial = driver.find_element(By.XPATH, '/html/body/div[1]/section/div[2]/div[2]/div[2]/div[1]/div/div[2]/div[2]')\n",
    "presidencial.click()\n",
    "time.sleep(3)\n",
    "\n",
    "# Open second box\n",
    "eleccion = driver.find_element(By.XPATH, '/html/body/div[1]/section/div[2]/div[2]/div[2]/div[2]/div')\n",
    "eleccion.click()\n",
    "time.sleep(3)\n",
    "\n",
    "# EXAMPLE: Select first option\n",
    "periodo_element = driver.find_element(By.XPATH, '/html/body/div[1]/section/div[2]/div[2]/div[2]/div[2]/div/div[2]/div[2]')\n",
    "periodo_element.click()\n",
    "\n",
    "# get text\n",
    "elecciones_name = periodo_element.text\n",
    "time.sleep(1)\n",
    "\n",
    "# Click in search box\n",
    "buscar = driver.find_element(By.XPATH, '/html/body/div[1]/section/div[2]/div[2]/div[3]/div/button')\n",
    "buscar.click()\n",
    "time.sleep(3)\n",
    "\n",
    "# Click \"Resultados\"\n",
    "resultados = driver.find_element(By.XPATH, '/html/body/div[1]/section/div[2]/div[3]/div[1]/ul/li[2]/a')\n",
    "resultados.click()\n",
    "time.sleep(3)\n",
    "\n",
    "# Get table\n",
    "raw_table = driver.find_element(By.XPATH, \"/html/body/div[1]/section/div[2]/div[3]/div[3]/div/div/div/div[1]/div[2]/div[2]/div[2]\" )\n",
    "raw_table_html = raw_table.get_attribute( 'innerHTML' )\n",
    "\n",
    "# Organize the table\n",
    "tabla = pd.read_html(raw_table_html)[0]\n",
    "tabla_final = tabla[['ORGANIZACIÓN POLÍTICA', 'TOTAL VOTOS']]  #keep the most important columns\n",
    "tabla_final.insert(0,'Elecciones', elecciones_name)            #insert the name of round of election in the fisrt column\n",
    "\n",
    "# Append the table in the results dataframe **(relevant in the for loop)**\n",
    "results = pd.concat([results, tabla_final], ignore_index=True)\n",
    "\n",
    "\n",
    "######## For loop ends here\n",
    "\n",
    "# After finishing the loop, export the result table as an Excel file\n",
    "\n",
    "results.to_excel('Results_group3.xlsx', index=False)"
   ]
  }
 ],
 "metadata": {
  "hide_input": false,
  "kernelspec": {
   "display_name": "Python 3 (ipykernel)",
   "language": "python",
   "name": "python3"
  },
  "language_info": {
   "codemirror_mode": {
    "name": "ipython",
    "version": 3
   },
   "file_extension": ".py",
   "mimetype": "text/x-python",
   "name": "python",
   "nbconvert_exporter": "python",
   "pygments_lexer": "ipython3",
   "version": "3.9.12"
  },
  "toc": {
   "base_numbering": 1,
   "nav_menu": {},
   "number_sections": true,
   "sideBar": true,
   "skip_h1_title": false,
   "title_cell": "Table of Contents",
   "title_sidebar": "Contents",
   "toc_cell": false,
   "toc_position": {},
   "toc_section_display": true,
   "toc_window_display": false
  }
 },
 "nbformat": 4,
 "nbformat_minor": 4
}
