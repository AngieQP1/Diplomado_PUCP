{
 "cells": [
  {
   "cell_type": "code",
   "execution_count": 4,
   "id": "8b4870f5",
   "metadata": {},
   "outputs": [],
   "source": [
    "from selenium import webdriver\n",
    "from selenium.webdriver.chrome.service import Service\n",
    "from selenium.webdriver.common.keys import Keys\n",
    "from selenium.webdriver import ActionChains\n",
    "from bs4 import BeautifulSoup\n",
    "import os\n",
    "import time\n",
    "from selenium import webdriver\n",
    "from selenium.webdriver.common.by import By\n",
    "from selenium.webdriver.common.action_chains import ActionChains\n",
    "from selenium.webdriver.support.ui import WebDriverWait\n",
    "from selenium.webdriver.support import expected_conditions as EC\n",
    "import requests"
   ]
  },
  {
   "cell_type": "markdown",
   "id": "057bf62d",
   "metadata": {},
   "source": [
    "## Launch the driver "
   ]
  },
  {
   "cell_type": "code",
   "execution_count": 5,
   "id": "e5801fe6",
   "metadata": {},
   "outputs": [],
   "source": [
    "service = Service(executable_path=r'../chromedriver-win64/chromedriver.exe')\n",
    "options = webdriver.ChromeOptions()\n",
    "driver = webdriver.Chrome(service=service, options=options)\n",
    "\n",
    "url = 'https://infogob.jne.gob.pe/Eleccion'\n",
    "driver.get(url)\n",
    "driver.maximize_window()"
   ]
  },
  {
   "cell_type": "markdown",
   "id": "751f7917",
   "metadata": {},
   "source": [
    "## Select the 2021 presidential election in the dropdown list"
   ]
  },
  {
   "cell_type": "code",
   "execution_count": 6,
   "id": "4ea82e83",
   "metadata": {},
   "outputs": [],
   "source": [
    "# we open the dropdown list for 'Tipo de eleccion'\n",
    "dropdown_tipo = WebDriverWait(driver, 10).until(\n",
    "    EC.element_to_be_clickable((By.XPATH, '/html/body/div[1]/section/div[2]/div[2]/div[2]/div[1]/div'))\n",
    ")\n",
    "dropdown_tipo.click()\n",
    "\n",
    "# We select the option that contains 'ELECCIONES PRESIDENCIALES'\n",
    "time.sleep(3)\n",
    "\n",
    "option_presidencial = WebDriverWait(driver, 10).until(\n",
    "    EC.element_to_be_clickable((By.XPATH, '//div[contains(text(), \"ELECCIONES PRESIDENCIALES\")]'))\n",
    ")\n",
    "option_presidencial.click()\n",
    "time.sleep(3)\n",
    "\n",
    "# We open the second dropdown and select t\n",
    "dropdown_eleccion = WebDriverWait(driver, 10).until(\n",
    "    EC.element_to_be_clickable((By.XPATH, '/html/body/div[1]/section/div[2]/div[2]/div[2]/div[2]/div'))\n",
    ")\n",
    "dropdown_eleccion.click()\n",
    "\n",
    "# We select the option from the second dropdown\n",
    "option_presidencial21 = WebDriverWait(driver, 10).until(\n",
    "    EC.element_to_be_clickable((By.XPATH, '//div[contains(text(), \"PRESIDENCIAL 2021 - 2DA VUELTA\")]'))\n",
    ")\n",
    "time.sleep(3)\n",
    "option_presidencial21.click()\n"
   ]
  },
  {
   "cell_type": "code",
   "execution_count": 11,
   "id": "ebbfa35c",
   "metadata": {},
   "outputs": [
    {
     "ename": "NoSuchElementException",
     "evalue": "Message: no such element: Unable to locate element: {\"method\":\"css selector\",\"selector\":\"[id=\"btnVerDatos\"]\"}\n  (Session info: chrome=120.0.6099.225); For documentation on this error, please visit: https://www.selenium.dev/documentation/webdriver/troubleshooting/errors#no-such-element-exception\nStacktrace:\n\tGetHandleVerifier [0x00007FF7A82B2142+3514994]\n\t(No symbol) [0x00007FF7A7ED0CE2]\n\t(No symbol) [0x00007FF7A7D776AA]\n\t(No symbol) [0x00007FF7A7DC1860]\n\t(No symbol) [0x00007FF7A7DC197C]\n\t(No symbol) [0x00007FF7A7E04EE7]\n\t(No symbol) [0x00007FF7A7DE602F]\n\t(No symbol) [0x00007FF7A7E028F6]\n\t(No symbol) [0x00007FF7A7DE5D93]\n\t(No symbol) [0x00007FF7A7DB4BDC]\n\t(No symbol) [0x00007FF7A7DB5C64]\n\tGetHandleVerifier [0x00007FF7A82DE16B+3695259]\n\tGetHandleVerifier [0x00007FF7A8336737+4057191]\n\tGetHandleVerifier [0x00007FF7A832E4E3+4023827]\n\tGetHandleVerifier [0x00007FF7A80004F9+689705]\n\t(No symbol) [0x00007FF7A7EDC048]\n\t(No symbol) [0x00007FF7A7ED8044]\n\t(No symbol) [0x00007FF7A7ED81C9]\n\t(No symbol) [0x00007FF7A7EC88C4]\n\tBaseThreadInitThunk [0x00007FFD59637614+20]\n\tRtlUserThreadStart [0x00007FFD59B626F1+33]\n",
     "output_type": "error",
     "traceback": [
      "\u001b[1;31m---------------------------------------------------------------------------\u001b[0m",
      "\u001b[1;31mNoSuchElementException\u001b[0m                    Traceback (most recent call last)",
      "Cell \u001b[1;32mIn[11], line 2\u001b[0m\n\u001b[0;32m      1\u001b[0m \u001b[38;5;66;03m# We click the search button\u001b[39;00m\n\u001b[1;32m----> 2\u001b[0m driver\u001b[38;5;241m.\u001b[39mfind_element(By\u001b[38;5;241m.\u001b[39mID,\u001b[38;5;124m'\u001b[39m\u001b[38;5;124mbtnVerDatos\u001b[39m\u001b[38;5;124m'\u001b[39m)\u001b[38;5;241m.\u001b[39mclick()\n",
      "File \u001b[1;32m~\\AppData\\Local\\anaconda3\\Lib\\site-packages\\selenium\\webdriver\\remote\\webdriver.py:742\u001b[0m, in \u001b[0;36mWebDriver.find_element\u001b[1;34m(self, by, value)\u001b[0m\n\u001b[0;32m    739\u001b[0m     by \u001b[38;5;241m=\u001b[39m By\u001b[38;5;241m.\u001b[39mCSS_SELECTOR\n\u001b[0;32m    740\u001b[0m     value \u001b[38;5;241m=\u001b[39m \u001b[38;5;124mf\u001b[39m\u001b[38;5;124m'\u001b[39m\u001b[38;5;124m[name=\u001b[39m\u001b[38;5;124m\"\u001b[39m\u001b[38;5;132;01m{\u001b[39;00mvalue\u001b[38;5;132;01m}\u001b[39;00m\u001b[38;5;124m\"\u001b[39m\u001b[38;5;124m]\u001b[39m\u001b[38;5;124m'\u001b[39m\n\u001b[1;32m--> 742\u001b[0m \u001b[38;5;28;01mreturn\u001b[39;00m \u001b[38;5;28mself\u001b[39m\u001b[38;5;241m.\u001b[39mexecute(Command\u001b[38;5;241m.\u001b[39mFIND_ELEMENT, {\u001b[38;5;124m\"\u001b[39m\u001b[38;5;124musing\u001b[39m\u001b[38;5;124m\"\u001b[39m: by, \u001b[38;5;124m\"\u001b[39m\u001b[38;5;124mvalue\u001b[39m\u001b[38;5;124m\"\u001b[39m: value})[\u001b[38;5;124m\"\u001b[39m\u001b[38;5;124mvalue\u001b[39m\u001b[38;5;124m\"\u001b[39m]\n",
      "File \u001b[1;32m~\\AppData\\Local\\anaconda3\\Lib\\site-packages\\selenium\\webdriver\\remote\\webdriver.py:348\u001b[0m, in \u001b[0;36mWebDriver.execute\u001b[1;34m(self, driver_command, params)\u001b[0m\n\u001b[0;32m    346\u001b[0m response \u001b[38;5;241m=\u001b[39m \u001b[38;5;28mself\u001b[39m\u001b[38;5;241m.\u001b[39mcommand_executor\u001b[38;5;241m.\u001b[39mexecute(driver_command, params)\n\u001b[0;32m    347\u001b[0m \u001b[38;5;28;01mif\u001b[39;00m response:\n\u001b[1;32m--> 348\u001b[0m     \u001b[38;5;28mself\u001b[39m\u001b[38;5;241m.\u001b[39merror_handler\u001b[38;5;241m.\u001b[39mcheck_response(response)\n\u001b[0;32m    349\u001b[0m     response[\u001b[38;5;124m\"\u001b[39m\u001b[38;5;124mvalue\u001b[39m\u001b[38;5;124m\"\u001b[39m] \u001b[38;5;241m=\u001b[39m \u001b[38;5;28mself\u001b[39m\u001b[38;5;241m.\u001b[39m_unwrap_value(response\u001b[38;5;241m.\u001b[39mget(\u001b[38;5;124m\"\u001b[39m\u001b[38;5;124mvalue\u001b[39m\u001b[38;5;124m\"\u001b[39m, \u001b[38;5;28;01mNone\u001b[39;00m))\n\u001b[0;32m    350\u001b[0m     \u001b[38;5;28;01mreturn\u001b[39;00m response\n",
      "File \u001b[1;32m~\\AppData\\Local\\anaconda3\\Lib\\site-packages\\selenium\\webdriver\\remote\\errorhandler.py:229\u001b[0m, in \u001b[0;36mErrorHandler.check_response\u001b[1;34m(self, response)\u001b[0m\n\u001b[0;32m    227\u001b[0m         alert_text \u001b[38;5;241m=\u001b[39m value[\u001b[38;5;124m\"\u001b[39m\u001b[38;5;124malert\u001b[39m\u001b[38;5;124m\"\u001b[39m]\u001b[38;5;241m.\u001b[39mget(\u001b[38;5;124m\"\u001b[39m\u001b[38;5;124mtext\u001b[39m\u001b[38;5;124m\"\u001b[39m)\n\u001b[0;32m    228\u001b[0m     \u001b[38;5;28;01mraise\u001b[39;00m exception_class(message, screen, stacktrace, alert_text)  \u001b[38;5;66;03m# type: ignore[call-arg]  # mypy is not smart enough here\u001b[39;00m\n\u001b[1;32m--> 229\u001b[0m \u001b[38;5;28;01mraise\u001b[39;00m exception_class(message, screen, stacktrace)\n",
      "\u001b[1;31mNoSuchElementException\u001b[0m: Message: no such element: Unable to locate element: {\"method\":\"css selector\",\"selector\":\"[id=\"btnVerDatos\"]\"}\n  (Session info: chrome=120.0.6099.225); For documentation on this error, please visit: https://www.selenium.dev/documentation/webdriver/troubleshooting/errors#no-such-element-exception\nStacktrace:\n\tGetHandleVerifier [0x00007FF7A82B2142+3514994]\n\t(No symbol) [0x00007FF7A7ED0CE2]\n\t(No symbol) [0x00007FF7A7D776AA]\n\t(No symbol) [0x00007FF7A7DC1860]\n\t(No symbol) [0x00007FF7A7DC197C]\n\t(No symbol) [0x00007FF7A7E04EE7]\n\t(No symbol) [0x00007FF7A7DE602F]\n\t(No symbol) [0x00007FF7A7E028F6]\n\t(No symbol) [0x00007FF7A7DE5D93]\n\t(No symbol) [0x00007FF7A7DB4BDC]\n\t(No symbol) [0x00007FF7A7DB5C64]\n\tGetHandleVerifier [0x00007FF7A82DE16B+3695259]\n\tGetHandleVerifier [0x00007FF7A8336737+4057191]\n\tGetHandleVerifier [0x00007FF7A832E4E3+4023827]\n\tGetHandleVerifier [0x00007FF7A80004F9+689705]\n\t(No symbol) [0x00007FF7A7EDC048]\n\t(No symbol) [0x00007FF7A7ED8044]\n\t(No symbol) [0x00007FF7A7ED81C9]\n\t(No symbol) [0x00007FF7A7EC88C4]\n\tBaseThreadInitThunk [0x00007FFD59637614+20]\n\tRtlUserThreadStart [0x00007FFD59B626F1+33]\n"
     ]
    }
   ],
   "source": [
    "# We click the search button\n",
    "driver.find_element(By.ID,'btnVerDatos').click()"
   ]
  },
  {
   "cell_type": "code",
   "execution_count": null,
   "id": "dfb7dcc5",
   "metadata": {},
   "outputs": [],
   "source": []
  }
 ],
 "metadata": {
  "kernelspec": {
   "display_name": "Python 3 (ipykernel)",
   "language": "python",
   "name": "python3"
  },
  "language_info": {
   "codemirror_mode": {
    "name": "ipython",
    "version": 3
   },
   "file_extension": ".py",
   "mimetype": "text/x-python",
   "name": "python",
   "nbconvert_exporter": "python",
   "pygments_lexer": "ipython3",
   "version": "3.11.5"
  }
 },
 "nbformat": 4,
 "nbformat_minor": 5
}
