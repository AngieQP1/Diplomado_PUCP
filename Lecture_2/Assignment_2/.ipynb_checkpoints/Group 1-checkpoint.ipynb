{
 "cells": [
  {
   "cell_type": "markdown",
   "id": "a0e93338",
   "metadata": {},
   "source": [
    "1 Assignment\n",
    "It is totally prohibited to use any kind of loop. You can use stackoverflow. If you copy codes from previous answers, explain each step. No explanation is 0 points.\n",
    "\n",
    "1.1 Tuple\n",
    "Print the first item of the second item of tuple1 object. Hint: Use indexing\n",
    "\n",
    "Print the last item of the tuple1 object.Hint: Use indexing\n",
    "\n",
    "Change the value \"orange\" for \"pink grapefruit\". Comment the output. Hint: Is it possible?\n",
    "\n",
    "Print the length of tuple1. Hint: Length function\n",
    "\n",
    "Sum all the elements of tuple2 and describe your steps and explain each of them. Hint: Use map function.\n",
    "\n",
    "Generate a new tuple object named as tuple3 with the half values of tuple2. This tuple should be similar as tuple2, tuple of lists. Hint: Use map funciont."
   ]
  },
  {
   "cell_type": "code",
   "execution_count": 4,
   "id": "4e1baef4",
   "metadata": {},
   "outputs": [],
   "source": [
    "tuple1 = (\"Orange\", [10, 20, 30], (5, 15, 25))\n",
    "tuple2 = ([7, 8], [9, 1], [10, 7])"
   ]
  }
 ],
 "metadata": {
  "kernelspec": {
   "display_name": "Python 3 (ipykernel)",
   "language": "python",
   "name": "python3"
  },
  "language_info": {
   "codemirror_mode": {
    "name": "ipython",
    "version": 3
   },
   "file_extension": ".py",
   "mimetype": "text/x-python",
   "name": "python",
   "nbconvert_exporter": "python",
   "pygments_lexer": "ipython3",
   "version": "3.11.5"
  }
 },
 "nbformat": 4,
 "nbformat_minor": 5
}
