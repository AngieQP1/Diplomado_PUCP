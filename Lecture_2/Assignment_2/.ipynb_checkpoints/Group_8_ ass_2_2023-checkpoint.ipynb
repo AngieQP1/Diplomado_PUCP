{
 "cells": [
  {
   "cell_type": "markdown",
   "id": "f6dbb54a",
   "metadata": {},
   "source": [
    "1 Assignment\n",
    "It is totally prohibited to use any kind of loop. You can use stackoverflow. If you copy codes from previous answers, explain each step. No explanation is 0 points.\n",
    "\n",
    "1.1 Tuple\n",
    "Print the first item of the second item of tuple1 object. Hint: Use indexing\n",
    "\n",
    "Print the last item of the tuple1 object.Hint: Use indexing\n",
    "\n",
    "Change the value \"orange\" for \"pink grapefruit\". Comment the output. Hint: Is it possible?\n",
    "\n",
    "Print the length of tuple1. Hint: Length function\n",
    "\n",
    "Sum all the elements of tuple2 and describe your steps and explain each of them. Hint: Use map function.\n",
    "\n",
    "Generate a new tuple object named as tuple3 with the half values of tuple2. This tuple should be similar as tuple2, tuple of lists. Hint: Use map funciont.\n"
   ]
  },
  {
   "cell_type": "code",
   "execution_count": null,
   "id": "422145fa",
   "metadata": {},
   "outputs": [],
   "source": [
    "tuple1 = (\"Orange\", [10, 20, 30], (5, 15, 25))\n",
    "tuple2 = ([7, 8], [9, 1], [10, 7])"
   ]
  },
  {
   "cell_type": "markdown",
   "id": "e5d69f94",
   "metadata": {},
   "source": [
    "1.2 Lists\n",
    "Show the indices of the np.nan values in the f_list list. We want to see this output: The indices 0, 1, 4, 7 have np.nan values. Hint: Use print function and f-strings to insert the indices values.\n",
    "\n",
    "\n",
    "Replicate 4 times the values of the list p2_list. We expect an ouput like this: [ 2 , 3, 4, 5, 2 , 3, 4, 5, 2 , 3, 4, 5, 2 , 3, 4, 5]. Hint: Use multiplication function in listsand see the output.\n",
    "\n",
    "\n",
    "Print the length of f_list. Hint: Length function\n",
    "\n",
    "\n",
    "Print My teacher assistant is so boring. using text1 list. Hint: Use the join function\n",
    "\n",
    "\n",
    "Print My TA is so boring, but is very funny. using text1 list.Hint: Use the join function, and extend method.\n",
    "\n",
    "\n",
    "Print\n",
    "\n",
    "The max value of values1 is 86 and is located in the 0 index.\n",
    "The min value of values1 is 0 and is located in the 7 index.\n",
    "Hint: Use the f-string, min, and max functions.\n",
    "\n",
    "\n",
    "7. Get two lists: `names` and `last_names` using `last_and_name` list. **Hint: Use `map` and `split`.**\n",
    "8. Give only the last names of students who do not have email. Use the `emails` and `last_names` listt. **Hint: Use `map` and `split`.**"
   ]
  },
  {
   "cell_type": "code",
   "execution_count": null,
   "id": "9398fb5b",
   "metadata": {},
   "outputs": [],
   "source": [
    "\n"
   ]
  },
  {
   "cell_type": "markdown",
   "id": "4fa2fc22",
   "metadata": {},
   "source": [
    "1.3 Strings\n",
    "Drop the duplicated blank spaces in str1. Do not use the regular expresions. Do not use the code shown in class. Explain your steps.Hint: Use split method and join function.\n",
    "\n",
    "Get the number of letters in the string .Hint: Use lenfunction.\n",
    "\n",
    "Get the number of blank spaces (all of them) in the string .Hint: Use lenfunction.\n",
    "\n",
    "Get the position of @ in each string in the emails list. Hint: Use mapfunction and find method.\n",
    "\n",
    "Identifies if exists .edu. in each string in the emails list. Get a list of Booleans. Hint: Use mapfunction and find method.\n",
    "\n",
    "Get all the strings before the first dot .in each string in the emails list. Identifies how many of them has @. Hint: Use mapfunction and find method."
   ]
  },
  {
   "cell_type": "code",
   "execution_count": null,
   "id": "cddcfcff",
   "metadata": {},
   "outputs": [],
   "source": []
  }
 ],
 "metadata": {
  "kernelspec": {
   "display_name": "Python 3 (ipykernel)",
   "language": "python",
   "name": "python3"
  },
  "language_info": {
   "codemirror_mode": {
    "name": "ipython",
    "version": 3
   },
   "file_extension": ".py",
   "mimetype": "text/x-python",
   "name": "python",
   "nbconvert_exporter": "python",
   "pygments_lexer": "ipython3",
   "version": "3.11.5"
  }
 },
 "nbformat": 4,
 "nbformat_minor": 5
}
