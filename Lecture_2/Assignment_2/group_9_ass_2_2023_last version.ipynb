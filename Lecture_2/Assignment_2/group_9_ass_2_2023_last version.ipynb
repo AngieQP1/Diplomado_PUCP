{
 "cells": [
  {
   "cell_type": "markdown",
   "id": "1da09235",
   "metadata": {},
   "source": [
    "# 1 Assignment\n",
    "\n",
    "It is totally prohibited to use any kind of loop. You can use stackoverflow. If you copy codes from previous answers, explain each step. No explanation is `0 points`."
   ]
  },
  {
   "cell_type": "markdown",
   "id": "0d76e3f0",
   "metadata": {},
   "source": [
    "## 1.1 Tuple\n",
    "\n",
    "\n",
    "\n",
    "1. Print the first item of the second item of `tuple1` object. **Hint: Use indexing**<br><br>\n",
    "2. Print the last item of the `tuple1` object.**Hint: Use indexing**<br><br>\n",
    "3. Change the value \"orange\" for \"pink grapefruit\". Comment the output. **Hint: Is it possible?** <br><br>\n",
    "4. Print the length of `tuple1`. **Hint: Length function**<br><br>\n",
    "5. Sum all the elements of tuple2 and describe your steps and explain each of them. **Hint: Use `map` function.**<br><br>\n",
    "6. Generate a new tuple object named as `tuple3` with the half values of `tuple2`. This tuple should be similar as `tuple2`, tuple of lists.  **Hint: Use `map` funciont.**<br><br>"
   ]
  },
  {
   "cell_type": "code",
   "execution_count": 1,
   "id": "0c6dbdc1",
   "metadata": {},
   "outputs": [],
   "source": [
    "tuple1 = (\"Orange\", [10, 20, 30], (5, 15, 25))\n",
    "tuple2 = ([7, 8], [9, 1], [10, 7])"
   ]
  },
  {
   "cell_type": "markdown",
   "id": "65405ea1",
   "metadata": {},
   "source": [
    "### Solution"
   ]
  },
  {
   "cell_type": "markdown",
   "id": "2b577dc7",
   "metadata": {},
   "source": [
    "### 1.1.1. Print the first item of the second item of tuple1 object"
   ]
  },
  {
   "cell_type": "markdown",
   "id": "35e5aa64",
   "metadata": {},
   "source": [
    "We use 'indexing' function to print the first element of the object of tuple 1"
   ]
  },
  {
   "cell_type": "code",
   "execution_count": 2,
   "id": "52990bf1",
   "metadata": {},
   "outputs": [
    {
     "name": "stdout",
     "output_type": "stream",
     "text": [
      "The first item of the second item of tuple1: 10\n"
     ]
    }
   ],
   "source": [
    "#tuple1[1]: Accesses the second item of tuple1, which is a list [10, 20, 30]\n",
    "#[tuple1][0]: Accesses the first item of that list, which is 10\n",
    "print(\"The first item of the second item of tuple1:\", tuple1[1][0])"
   ]
  },
  {
   "cell_type": "markdown",
   "id": "0577b03a",
   "metadata": {},
   "source": [
    "### 1.1.2. Print the last item of the tuple1 object"
   ]
  },
  {
   "cell_type": "markdown",
   "id": "acc53014",
   "metadata": {},
   "source": [
    "We use the 'indexing' function to print the last element of object 1"
   ]
  },
  {
   "cell_type": "code",
   "execution_count": 3,
   "id": "12d4c366",
   "metadata": {},
   "outputs": [
    {
     "name": "stdout",
     "output_type": "stream",
     "text": [
      "The last item of the tuple1: (5, 15, 25)\n"
     ]
    }
   ],
   "source": [
    "#tuple1[-1]: Accesses the last item of tuple1\n",
    "print(\"The last item of the tuple1:\", tuple1[-1])"
   ]
  },
  {
   "cell_type": "markdown",
   "id": "0b9796cd",
   "metadata": {},
   "source": [
    "### 1.1.3 Change the value \"orange\" for \"pink grapefruit\""
   ]
  },
  {
   "cell_type": "code",
   "execution_count": 4,
   "id": "db3a607f",
   "metadata": {},
   "outputs": [
    {
     "ename": "TypeError",
     "evalue": "'tuple' object does not support item assignment",
     "output_type": "error",
     "traceback": [
      "\u001b[1;31m---------------------------------------------------------------------------\u001b[0m",
      "\u001b[1;31mTypeError\u001b[0m                                 Traceback (most recent call last)",
      "Input \u001b[1;32mIn [4]\u001b[0m, in \u001b[0;36m<cell line: 2>\u001b[1;34m()\u001b[0m\n\u001b[0;32m      1\u001b[0m \u001b[38;5;66;03m#No, it's not possible because a tuple is inmmutable. Therefore, when the code is run, an error appears as shown below\u001b[39;00m\n\u001b[1;32m----> 2\u001b[0m tuple1[\u001b[38;5;241m0\u001b[39m] \u001b[38;5;241m=\u001b[39m \u001b[38;5;124m\"\u001b[39m\u001b[38;5;124mpink grapefruit\u001b[39m\u001b[38;5;124m\"\u001b[39m\n\u001b[0;32m      3\u001b[0m \u001b[38;5;28mprint\u001b[39m(tuple1)\n",
      "\u001b[1;31mTypeError\u001b[0m: 'tuple' object does not support item assignment"
     ]
    }
   ],
   "source": [
    "#No, it's not possible because a tuple is inmmutable. Therefore, when the code is run, an error appears as shown below\n",
    "tuple1[0] = \"pink grapefruit\"\n",
    "print(tuple1)\n",
    "\n",
    "#An alternative would be to create a new tuple with this modification"
   ]
  },
  {
   "cell_type": "markdown",
   "id": "3353129f",
   "metadata": {},
   "source": [
    "### 1.1.4 Print the length of tuple1"
   ]
  },
  {
   "cell_type": "markdown",
   "id": "f0eddf47",
   "metadata": {},
   "source": [
    "We use the length function to print the length of tuple 1"
   ]
  },
  {
   "cell_type": "code",
   "execution_count": null,
   "id": "b31cac48",
   "metadata": {},
   "outputs": [],
   "source": [
    "#tuple1 has three elements: a string, a list, and another tuple\n",
    "print(\"Length of tuple1:\", len(tuple1))"
   ]
  },
  {
   "cell_type": "markdown",
   "id": "d1245e34",
   "metadata": {},
   "source": [
    "### 1.1.5 Sum all the elements of tuple2, describe and explain the steps "
   ]
  },
  {
   "cell_type": "markdown",
   "id": "5dc47071",
   "metadata": {},
   "source": [
    "We use the map function which applies a specific function to all elements of one or more sequences (such as lists or tuples). Let's analyze each step:"
   ]
  },
  {
   "cell_type": "code",
   "execution_count": null,
   "id": "bd9bcbcc",
   "metadata": {},
   "outputs": [],
   "source": [
    "#STEP 1: CREATE A MAP OBJECT WITH THE SUM FUNCTION\n",
    "#       map(sum, tuple2) applies the sum function to each sublist in tuple2\n",
    "#        partial_sum is a map object that contains the partial sums of each sublist\n",
    "\n",
    "partial_sum = map(sum, tuple2)\n",
    "\n",
    "#STEP 2: CALCULATE THE TOTAL SUM OF PARTIAL SUMS\n",
    "#        sum(partial_sum) sums all elements in partial_sum, which are the partial sums of each sublist in tuple2\n",
    "\n",
    "total_sum = sum(partial_sum)\n",
    "\n",
    "#STEP 3: PRINT THE RESULT \n",
    "\n",
    "print(\"The sum of all the elements in tuple2 is:\", total_sum)"
   ]
  },
  {
   "cell_type": "markdown",
   "id": "27373d51",
   "metadata": {},
   "source": [
    "### 1.1.6 Generate a new tuple object named as tuple3 with the half values of tuple2"
   ]
  },
  {
   "cell_type": "markdown",
   "id": "604c54d3",
   "metadata": {},
   "source": [
    "We also use the 'lambda' function to define anonymous functions that apply to each element of the sublists in tuple2. Let's analyze each part:"
   ]
  },
  {
   "cell_type": "code",
   "execution_count": null,
   "id": "a42a7b35",
   "metadata": {},
   "outputs": [],
   "source": [
    "#PART 1: map(lambda x: x / 2, sublist)\n",
    "#        For each element 'x' in sublist 'sublist' of tuple2, apply the function 'lambda' that divides each element 'x' by 2\n",
    "#        Then, returns a 'map' object (an iterator) that contains the results\n",
    "\n",
    "\n",
    "#PART 2: list(map(lambda x: x / 2, sublist)\n",
    "#        Converts the result of the previous operation (a map object) to a list\n",
    "\n",
    "#PART 3: map(lambda sublist: ..., tuple2)\n",
    "#        'lambda' function is applied to each sublist of tuple2\n",
    "#        Like step 1, it returns a 'map' object that contains the results of applying the lambda function to each element of tuple2\n",
    "\n",
    "#PART 4: tuple(...)\n",
    "#        Convert the result to a tuple\n",
    "\n",
    "tuple3 = tuple(map(lambda sublist: list(map(lambda x: x / 2, sublist)), tuple2))\n",
    "\n",
    "#PART 5: Print the result\n",
    "print(\"Tuple3 with half values of Tuple2:\", tuple3)"
   ]
  }
 ],
 "metadata": {
  "kernelspec": {
   "display_name": "Python 3 (ipykernel)",
   "language": "python",
   "name": "python3"
  },
  "language_info": {
   "codemirror_mode": {
    "name": "ipython",
    "version": 3
   },
   "file_extension": ".py",
   "mimetype": "text/x-python",
   "name": "python",
   "nbconvert_exporter": "python",
   "pygments_lexer": "ipython3",
   "version": "3.9.12"
  }
 },
 "nbformat": 4,
 "nbformat_minor": 5
}
