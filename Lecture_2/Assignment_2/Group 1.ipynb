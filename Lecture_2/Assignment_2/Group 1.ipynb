{
 "cells": [
  {
   "cell_type": "markdown",
   "id": "aba7c516",
   "metadata": {},
   "source": [
    "# **1 Assignment**\n",
    "\n",
    "It is totally prohibited to use any kind of loop. You can use stackoverflow. If you copy codes from previous answers, explain each step. No explanation is 0 points.\n",
    "\n",
    "## **1.1 Tuple**\n",
    "\n",
    "Print the first item of the second item of tuple1 object. Hint: Use indexing\n",
    "\n",
    "Print the last item of the tuple1 object.Hint: Use indexing\n",
    "\n",
    "Change the value \"orange\" for \"pink grapefruit\". Comment the output. Hint: Is it possible?\n",
    "\n",
    "Print the length of tuple1. Hint: Length function\n",
    "\n",
    "Sum all the elements of tuple2 and describe your steps and explain each of them. Hint: Use map function.\n",
    "\n",
    "Generate a new tuple object named as tuple3 with the half values of tuple2. This tuple should be similar as tuple2, tuple of lists. Hint: Use map funciont."
   ]
  },
  {
   "cell_type": "code",
   "execution_count": 2,
   "id": "f0121b67",
   "metadata": {},
   "outputs": [],
   "source": [
    "tuple1 = (\"Orange\", [10, 20, 30], (5, 15, 25))\n",
    "tuple2 = ([7, 8], [9, 1], [10, 7])"
   ]
  },
  {
   "cell_type": "markdown",
   "id": "b7ff715c",
   "metadata": {},
   "source": [
    "**Print the first item of the second item of tuple1 object. Hint: Use indexing**"
   ]
  },
  {
   "cell_type": "code",
   "execution_count": 35,
   "id": "50078351",
   "metadata": {},
   "outputs": [
    {
     "name": "stdout",
     "output_type": "stream",
     "text": [
      "10\n"
     ]
    }
   ],
   "source": [
    "second_item = tuple1[1]\n",
    "result = second_item[0]\n",
    "print(result)"
   ]
  },
  {
   "cell_type": "markdown",
   "id": "2d0fafa3",
   "metadata": {},
   "source": [
    "**Print the last item of the tuple1 object.Hint: Use indexing**"
   ]
  },
  {
   "cell_type": "code",
   "execution_count": 21,
   "id": "50e3cdd3",
   "metadata": {},
   "outputs": [
    {
     "data": {
      "text/plain": [
       "(5, 15, 25)"
      ]
     },
     "execution_count": 21,
     "metadata": {},
     "output_type": "execute_result"
    }
   ],
   "source": [
    "tuple1[-1]"
   ]
  },
  {
   "cell_type": "markdown",
   "id": "631d7f47",
   "metadata": {},
   "source": [
    "**Change the value \"orange\" for \"pink grapefruit\". Comment the output. Hint: Is it possible?**"
   ]
  },
  {
   "cell_type": "markdown",
   "id": "113c2f5c",
   "metadata": {},
   "source": [
    "NO es posible cambiar los elementos de la tupla. Para ello, se recomienta usar una lista"
   ]
  },
  {
   "cell_type": "code",
   "execution_count": 34,
   "id": "0045335c",
   "metadata": {},
   "outputs": [
    {
     "name": "stdout",
     "output_type": "stream",
     "text": [
      "['pink grapefruit', [10, 20, 30], (5, 15, 25)]\n"
     ]
    }
   ],
   "source": [
    "List1 = [\"Orange\", [10, 20, 30], (5, 15, 25)]\n",
    "List1[0] = \"pink grapefruit\"\n",
    "print(List1)"
   ]
  },
  {
   "cell_type": "markdown",
   "id": "9e8bedf3",
   "metadata": {},
   "source": [
    "**Print the length of tuple1. Hint: Length function**"
   ]
  },
  {
   "cell_type": "code",
   "execution_count": 17,
   "id": "051f5c83",
   "metadata": {},
   "outputs": [
    {
     "data": {
      "text/plain": [
       "3"
      ]
     },
     "execution_count": 17,
     "metadata": {},
     "output_type": "execute_result"
    }
   ],
   "source": [
    "len(tuple1)"
   ]
  },
  {
   "cell_type": "markdown",
   "id": "9e37e833",
   "metadata": {},
   "source": [
    "**Sum all the elements of tuple2 and describe your steps and explain each of them. Hint: Use map function.**"
   ]
  },
  {
   "cell_type": "code",
   "execution_count": 30,
   "id": "1193ec80",
   "metadata": {},
   "outputs": [
    {
     "name": "stdout",
     "output_type": "stream",
     "text": [
      "La suma de los elementos de cada lista es: [15, 10, 17]\n",
      "La suma total de todos los elementos de la tupla es: 42\n"
     ]
    }
   ],
   "source": [
    "sumas_por_lista = [sum(sublista) for sublista in tuple2]\n",
    "suma_total = sum(sumas_por_lista)\n",
    "print(\"La suma de los elementos de cada lista es:\", sumas_por_lista)\n",
    "print(\"La suma total de todos los elementos de la tupla es:\", suma_total)"
   ]
  },
  {
   "cell_type": "markdown",
   "id": "b72a3aa4",
   "metadata": {},
   "source": [
    "**Generate a new tuple object named as tuple3 with the half values of tuple2. This tuple should be similar as tuple2, tuple of lists. Hint: Use map funciont.**"
   ]
  }
 ],
 "metadata": {
  "kernelspec": {
   "display_name": "Python 3 (ipykernel)",
   "language": "python",
   "name": "python3"
  },
  "language_info": {
   "codemirror_mode": {
    "name": "ipython",
    "version": 3
   },
   "file_extension": ".py",
   "mimetype": "text/x-python",
   "name": "python",
   "nbconvert_exporter": "python",
   "pygments_lexer": "ipython3",
   "version": "3.11.5"
  }
 },
 "nbformat": 4,
 "nbformat_minor": 5
}
