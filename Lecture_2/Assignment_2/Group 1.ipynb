{
 "cells": [
  {
   "cell_type": "markdown",
   "id": "aba7c516",
   "metadata": {},
   "source": [
    "# **1 Assignment**\n",
    "\n",
    "It is totally prohibited to use any kind of loop. You can use stackoverflow. If you copy codes from previous answers, explain each step. No explanation is 0 points.\n",
    "\n",
    "## **1.1 Tuple**\n",
    "\n",
    "Print the first item of the second item of tuple1 object. Hint: Use indexing\n",
    "\n",
    "Print the last item of the tuple1 object.Hint: Use indexing\n",
    "\n",
    "Change the value \"orange\" for \"pink grapefruit\". Comment the output. Hint: Is it possible?\n",
    "\n",
    "Print the length of tuple1. Hint: Length function\n",
    "\n",
    "Sum all the elements of tuple2 and describe your steps and explain each of them. Hint: Use map function.\n",
    "\n",
    "Generate a new tuple object named as tuple3 with the half values of tuple2. This tuple should be similar as tuple2, tuple of lists. Hint: Use map funciont."
   ]
  },
  {
   "cell_type": "code",
   "execution_count": 1,
   "id": "f0121b67",
   "metadata": {},
   "outputs": [],
   "source": [
    "tuple1 = (\"Orange\", [10, 20, 30], (5, 15, 25))\n",
    "tuple2 = ([7, 8], [9, 1], [10, 7])"
   ]
  },
  {
   "cell_type": "markdown",
   "id": "b7ff715c",
   "metadata": {},
   "source": [
    "**Print the first item of the second item of tuple1 object. Hint: Use indexing**"
   ]
  },
  {
   "cell_type": "code",
   "execution_count": 2,
   "id": "50078351",
   "metadata": {},
   "outputs": [
    {
     "name": "stdout",
     "output_type": "stream",
     "text": [
      "10\n"
     ]
    }
   ],
   "source": [
    "second_item = tuple1[1]\n",
    "result = second_item[0]\n",
    "print(result)"
   ]
  },
  {
   "cell_type": "markdown",
   "id": "2d0fafa3",
   "metadata": {},
   "source": [
    "**Print the last item of the tuple1 object.Hint: Use indexing**"
   ]
  },
  {
   "cell_type": "code",
   "execution_count": 3,
   "id": "50e3cdd3",
   "metadata": {},
   "outputs": [
    {
     "data": {
      "text/plain": [
       "(5, 15, 25)"
      ]
     },
     "execution_count": 3,
     "metadata": {},
     "output_type": "execute_result"
    }
   ],
   "source": [
    "tuple1[-1]"
   ]
  },
  {
   "cell_type": "markdown",
   "id": "631d7f47",
   "metadata": {},
   "source": [
    "**Change the value \"orange\" for \"pink grapefruit\". Comment the output. Hint: Is it possible?**"
   ]
  },
  {
   "cell_type": "markdown",
   "id": "113c2f5c",
   "metadata": {},
   "source": [
    "NO es posible cambiar los elementos de la tupla. Para ello, se recomienta usar una lista"
   ]
  },
  {
   "cell_type": "code",
   "execution_count": 4,
   "id": "0045335c",
   "metadata": {},
   "outputs": [
    {
     "name": "stdout",
     "output_type": "stream",
     "text": [
      "['pink grapefruit', [10, 20, 30], (5, 15, 25)]\n"
     ]
    }
   ],
   "source": [
    "List1 = [\"Orange\", [10, 20, 30], (5, 15, 25)]\n",
    "List1[0] = \"pink grapefruit\"\n",
    "print(List1)"
   ]
  },
  {
   "cell_type": "markdown",
   "id": "9e8bedf3",
   "metadata": {},
   "source": [
    "**Print the length of tuple1. Hint: Length function**"
   ]
  },
  {
   "cell_type": "code",
   "execution_count": 5,
   "id": "051f5c83",
   "metadata": {},
   "outputs": [
    {
     "data": {
      "text/plain": [
       "3"
      ]
     },
     "execution_count": 5,
     "metadata": {},
     "output_type": "execute_result"
    }
   ],
   "source": [
    "len(tuple1)"
   ]
  },
  {
   "cell_type": "markdown",
   "id": "9e37e833",
   "metadata": {},
   "source": [
    "**Sum all the elements of tuple2 and describe your steps and explain each of them. Hint: Use map function.**"
   ]
  },
  {
   "cell_type": "code",
   "execution_count": 6,
   "id": "1193ec80",
   "metadata": {},
   "outputs": [
    {
     "name": "stdout",
     "output_type": "stream",
     "text": [
      "La suma de los elementos de cada lista es: [15, 10, 17]\n",
      "La suma total de todos los elementos de la tupla es: 42\n"
     ]
    }
   ],
   "source": [
    "sumas_por_lista = [sum(sublista) for sublista in tuple2]\n",
    "suma_total = sum(sumas_por_lista)\n",
    "print(\"La suma de los elementos de cada lista es:\", sumas_por_lista)\n",
    "print(\"La suma total de todos los elementos de la tupla es:\", suma_total)"
   ]
  },
  {
   "cell_type": "markdown",
   "id": "b72a3aa4",
   "metadata": {},
   "source": [
    "**Generate a new tuple object named as tuple3 with the half values of tuple2. This tuple should be similar as tuple2, tuple of lists. Hint: Use map funciont.**"
   ]
  },
  {
   "cell_type": "code",
   "execution_count": 7,
   "id": "3d65e5d8",
   "metadata": {},
   "outputs": [],
   "source": [
    "p2_list = [ 2 , 3, 4, 5 ]"
   ]
  },
  {
   "cell_type": "code",
   "execution_count": 8,
   "id": "7bf981b3",
   "metadata": {},
   "outputs": [],
   "source": [
    "values1 = [ 86, 86, 85, 85, 85, 83, 23, 0, 84, 1 ]"
   ]
  },
  {
   "cell_type": "markdown",
   "id": "689bd8cd",
   "metadata": {},
   "source": [
    "**Replicate 4 times the values of the list p2_list. We expect an ouput like this: [ 2 , 3, 4, 5, 2 , 3, 4, 5, 2 , 3, 4, 5, 2 , 3, 4, 5]. Hint: Use multiplication function in listsand see the output.**"
   ]
  },
  {
   "cell_type": "code",
   "execution_count": 9,
   "id": "6eb92d16",
   "metadata": {},
   "outputs": [
    {
     "data": {
      "text/plain": [
       "[2, 3, 4, 5, 2, 3, 4, 5, 2, 3, 4, 5, 2, 3, 4, 5]"
      ]
     },
     "execution_count": 9,
     "metadata": {},
     "output_type": "execute_result"
    }
   ],
   "source": [
    "4*p2_list"
   ]
  },
  {
   "cell_type": "markdown",
   "id": "45a0023c",
   "metadata": {},
   "source": [
    "**The max value of values1 is 86 and is located in the 0 index.\n",
    "The min value of values1 is 0 and is located in the 7 index.\n",
    "Hint: Use the f-string, min, and max functions.**"
   ]
  },
  {
   "cell_type": "code",
   "execution_count": 10,
   "id": "28d3ecb6",
   "metadata": {},
   "outputs": [
    {
     "name": "stdout",
     "output_type": "stream",
     "text": [
      "The max value of values1 is 86 and is located in the 0 index.\n",
      "The min value of values1 is 0 and is located in the 7 index.\n"
     ]
    }
   ],
   "source": [
    "max_value = max(values1)\n",
    "max_index = values1.index(max_value)\n",
    "\n",
    "min_value = min(values1)\n",
    "min_index = values1.index(min_value)\n",
    "\n",
    "print(f\"The max value of values1 is {max_value} and is located in the {max_index} index.\")\n",
    "print(f\"The min value of values1 is {min_value} and is located in the {min_index} index.\")"
   ]
  }
 ],
 "metadata": {
  "kernelspec": {
   "display_name": "Python 3 (ipykernel)",
   "language": "python",
   "name": "python3"
  },
  "language_info": {
   "codemirror_mode": {
    "name": "ipython",
    "version": 3
   },
   "file_extension": ".py",
   "mimetype": "text/x-python",
   "name": "python",
   "nbconvert_exporter": "python",
   "pygments_lexer": "ipython3",
   "version": "3.11.5"
  }
 },
 "nbformat": 4,
 "nbformat_minor": 5
}
