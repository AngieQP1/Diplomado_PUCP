{
 "cells": [
  {
   "cell_type": "markdown",
   "id": "cfaa0d8a",
   "metadata": {},
   "source": [
    "# Trabajo grupal de Python"
   ]
  },
  {
   "cell_type": "markdown",
   "id": "ca423ddd",
   "metadata": {},
   "source": [
    "## Pregunta 1"
   ]
  },
  {
   "cell_type": "code",
   "execution_count": 2,
   "id": "f0f68fbf",
   "metadata": {},
   "outputs": [],
   "source": [
    "tuple1 = (\"Orange\", [10, 20, 30], (5, 15, 25))\n",
    "tuple2 = ([7, 8], [9, 1], [10, 7])"
   ]
  },
  {
   "cell_type": "markdown",
   "id": "1f274d0a",
   "metadata": {},
   "source": [
    "### Pregunta 1.A"
   ]
  },
  {
   "cell_type": "code",
   "execution_count": 3,
   "id": "ff399985",
   "metadata": {},
   "outputs": [
    {
     "name": "stdout",
     "output_type": "stream",
     "text": [
      "El primer elemento de la seguda tupla es 10\n"
     ]
    }
   ],
   "source": [
    "print(f'El primer elemento de la seguda tupla es {tuple1[1][0]}')"
   ]
  },
  {
   "cell_type": "markdown",
   "id": "cb2d3c56",
   "metadata": {},
   "source": [
    "### Pregunta 1.B"
   ]
  },
  {
   "cell_type": "code",
   "execution_count": 4,
   "id": "d51355d3",
   "metadata": {},
   "outputs": [
    {
     "name": "stdout",
     "output_type": "stream",
     "text": [
      "the last item of the tuple1 object is 25\n"
     ]
    }
   ],
   "source": [
    "print(f'the last item of the tuple1 object is {tuple1[2][-1]}')"
   ]
  },
  {
   "cell_type": "markdown",
   "id": "b4e53040",
   "metadata": {},
   "source": [
    "### Pregunta 1.C\n",
    "\n",
    "Change the value \"orange\" for \"pink grapefruit\". Comment the output. Hint: Is it possible?"
   ]
  },
  {
   "cell_type": "markdown",
   "id": "150e0554",
   "metadata": {},
   "source": [
    "Tuples are immutable, when the tuple is created, its values cannot be changed."
   ]
  },
  {
   "cell_type": "code",
   "execution_count": 5,
   "id": "2c7ca1a2",
   "metadata": {},
   "outputs": [
    {
     "name": "stdout",
     "output_type": "stream",
     "text": [
      "Tuples are immutable\n"
     ]
    }
   ],
   "source": [
    "try:\n",
    "  tuple1[0] = \"pink grapefruit\"\n",
    "  print(tuple1)\n",
    "except Exception as e:\n",
    "  print('Tuples are immutable')"
   ]
  },
  {
   "cell_type": "markdown",
   "id": "196a700e",
   "metadata": {},
   "source": [
    "### Pregunta 1.D\n",
    "Print the length of tuple1. Hint: Length function"
   ]
  },
  {
   "cell_type": "code",
   "execution_count": 6,
   "id": "b74744fc",
   "metadata": {},
   "outputs": [
    {
     "name": "stdout",
     "output_type": "stream",
     "text": [
      "the length of tuple1 is 3\n"
     ]
    }
   ],
   "source": [
    "print(f'the length of tuple1 is {len(tuple1)}')"
   ]
  },
  {
   "cell_type": "markdown",
   "id": "31375e35",
   "metadata": {},
   "source": [
    "### Pregunta 1.E\n",
    "Sum all the elements of tuple2 and describe your steps and explain each of them. Hint: Use map function."
   ]
  },
  {
   "cell_type": "code",
   "execution_count": 7,
   "id": "0ee50602",
   "metadata": {},
   "outputs": [
    {
     "name": "stdout",
     "output_type": "stream",
     "text": [
      "42\n"
     ]
    }
   ],
   "source": [
    "# create function to sum \n",
    "def suma(l):\n",
    "  return sum(l)\n",
    "\n",
    "# Apply function to each sublist of tuple2 using the `map()`\n",
    "r = map(suma, tuple2)\n",
    "\n",
    "# Convert the `map` object to a list and calculate the overall sum\n",
    "sumaTotal = sum(r)\n",
    "\n",
    "print(sumaTotal)"
   ]
  },
  {
   "cell_type": "markdown",
   "id": "e7ceb530",
   "metadata": {},
   "source": [
    "### Pregunta 1.F\n",
    "Generate a new tuple object named as tuple3 with the half values of tuple2. This tuple should be similar as tuple2, tuple of lists. Hint: Use map funciont."
   ]
  },
  {
   "cell_type": "code",
   "execution_count": 8,
   "id": "c3e5436e",
   "metadata": {},
   "outputs": [
    {
     "name": "stdout",
     "output_type": "stream",
     "text": [
      "([3.5, 4.0], [4.5, 0.5], [5.0, 3.5])\n"
     ]
    }
   ],
   "source": [
    "# function to halve the elements of a list\n",
    "def mitad(lista):\n",
    "  return [e / 2 for e in lista]\n",
    "\n",
    "# Apply the `mitad` function to each sublist of tuple2 using the `map()` function\n",
    "mitad_valores = map(mitad, tuple2)\n",
    "\n",
    "# Convert the `map` object to a list and create a new tuple named `tuple3`\n",
    "tuple3 = tuple(mitad_valores)\n",
    "\n",
    "print(tuple3)"
   ]
  },
  {
   "cell_type": "code",
   "execution_count": null,
   "id": "04895e34",
   "metadata": {},
   "outputs": [],
   "source": []
  },
  {
   "cell_type": "code",
   "execution_count": null,
   "id": "ea5bed1d",
   "metadata": {},
   "outputs": [],
   "source": []
  },
  {
   "cell_type": "code",
   "execution_count": null,
   "id": "919d5506",
   "metadata": {},
   "outputs": [],
   "source": []
  }
 ],
 "metadata": {
  "kernelspec": {
   "display_name": "Python 3 (ipykernel)",
   "language": "python",
   "name": "python3"
  },
  "language_info": {
   "codemirror_mode": {
    "name": "ipython",
    "version": 3
   },
   "file_extension": ".py",
   "mimetype": "text/x-python",
   "name": "python",
   "nbconvert_exporter": "python",
   "pygments_lexer": "ipython3",
   "version": "3.11.5"
  }
 },
 "nbformat": 4,
 "nbformat_minor": 5
}
