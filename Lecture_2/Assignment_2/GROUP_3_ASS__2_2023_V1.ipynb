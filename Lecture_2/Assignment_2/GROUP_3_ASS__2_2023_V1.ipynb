{
 "cells": [
  {
   "cell_type": "markdown",
   "id": "5deaa915",
   "metadata": {},
   "source": [
    "1.1 Tuple\n",
    "a)Print the first item of the second item of tuple1 object. Hint: Use indexing\n",
    "\n",
    "b)Print the last item of the tuple1 object.Hint: Use indexing\n",
    "\n",
    "c)hange the value \"orange\" for \"pink grapefruit\". Comment the output. Hint: Is it possible?\n",
    "\n",
    "d)Print the length of tuple1. Hint: Length function\n",
    "\n",
    "e)Sum all the elements of tuple2 and describe your steps and explain each of them. Hint: Use map function.\n",
    "\n",
    "Generate a new tuple object named as tuple3 with the half values of tuple2. This tuple should be similar as tuple2, tuple of lists. Hint: Use map funciont."
   ]
  },
  {
   "cell_type": "code",
   "execution_count": null,
   "id": "7f3ceeec",
   "metadata": {},
   "outputs": [],
   "source": [
    "tuple1 = (\"Orange\", [10, 20, 30], (5, 15, 25))\n",
    "tuple2 = ([7, 8], [9, 1], [10, 7])"
   ]
  },
  {
   "cell_type": "markdown",
   "id": "a4fe78b7",
   "metadata": {},
   "source": [
    "a)Print the first item of the second item of tuple1 object. Hint: Use indexing\n",
    "Definidas las duplas, solo debemos seleccionar el primer elemento del segundo elemento de la dupla.Considerando 0"
   ]
  },
  {
   "cell_type": "code",
   "execution_count": 1,
   "id": "a1bae8e6",
   "metadata": {},
   "outputs": [],
   "source": [
    "tuple1 = (\"Orange\", [10, 20, 30], (5, 15, 25))"
   ]
  },
  {
   "cell_type": "code",
   "execution_count": 8,
   "id": "ccd4ee8b",
   "metadata": {},
   "outputs": [
    {
     "name": "stdout",
     "output_type": "stream",
     "text": [
      "('Orange', [10, 20, 30], (5, 15, 25))\n"
     ]
    }
   ],
   "source": [
    "print(tuple1)"
   ]
  },
  {
   "cell_type": "code",
   "execution_count": 12,
   "id": "32fa01e9",
   "metadata": {},
   "outputs": [
    {
     "name": "stdout",
     "output_type": "stream",
     "text": [
      "('Orange', [10, 20, 30], (5, 15, 25))\n"
     ]
    }
   ],
   "source": [
    "print(tuple1)\n"
   ]
  },
  {
   "cell_type": "code",
   "execution_count": 13,
   "id": "e2f01cc0",
   "metadata": {},
   "outputs": [
    {
     "data": {
      "text/plain": [
       "[10, 20, 30]"
      ]
     },
     "execution_count": 13,
     "metadata": {},
     "output_type": "execute_result"
    }
   ],
   "source": [
    "tuple1[1]"
   ]
  },
  {
   "cell_type": "code",
   "execution_count": 27,
   "id": "e4f309b9",
   "metadata": {},
   "outputs": [
    {
     "data": {
      "text/plain": [
       "0"
      ]
     },
     "execution_count": 27,
     "metadata": {},
     "output_type": "execute_result"
    }
   ],
   "source": [
    "tuple1[1].index(10)"
   ]
  },
  {
   "cell_type": "code",
   "execution_count": 28,
   "id": "0eb99e05",
   "metadata": {},
   "outputs": [],
   "source": [
    "result=tuple1[1][0]"
   ]
  },
  {
   "cell_type": "code",
   "execution_count": 29,
   "id": "2d24ae66",
   "metadata": {},
   "outputs": [
    {
     "data": {
      "text/plain": [
       "10"
      ]
     },
     "execution_count": 29,
     "metadata": {},
     "output_type": "execute_result"
    }
   ],
   "source": [
    "result"
   ]
  },
  {
   "cell_type": "markdown",
   "id": "a79b7fdc",
   "metadata": {},
   "source": [
    "b)Print the last item of the tuple1 object.Hint: Use indexing\n",
    "el último elemento de la tupla1"
   ]
  },
  {
   "cell_type": "code",
   "execution_count": 30,
   "id": "70314000",
   "metadata": {},
   "outputs": [],
   "source": [
    "tuple1 = (\"Orange\", [10, 20, 30], (5, 15, 25))"
   ]
  },
  {
   "cell_type": "code",
   "execution_count": 31,
   "id": "db352faf",
   "metadata": {},
   "outputs": [
    {
     "name": "stdout",
     "output_type": "stream",
     "text": [
      "('Orange', [10, 20, 30], (5, 15, 25))\n"
     ]
    }
   ],
   "source": [
    "print(tuple1)"
   ]
  },
  {
   "cell_type": "code",
   "execution_count": 32,
   "id": "04226b67",
   "metadata": {},
   "outputs": [
    {
     "data": {
      "text/plain": [
       "(5, 15, 25)"
      ]
     },
     "execution_count": 32,
     "metadata": {},
     "output_type": "execute_result"
    }
   ],
   "source": [
    "tuple1[-1]"
   ]
  },
  {
   "cell_type": "markdown",
   "id": "7a547f49",
   "metadata": {},
   "source": [
    "c)hange the value \"orange\" for \"pink grapefruit\". Comment the output. Hint: Is it possible?\n"
   ]
  },
  {
   "cell_type": "markdown",
   "id": "bb278626",
   "metadata": {},
   "source": [
    "NO es posible, una vez que se ha creado una dupla, no se pueden modificar. "
   ]
  },
  {
   "cell_type": "markdown",
   "id": "d65049a1",
   "metadata": {},
   "source": []
  },
  {
   "cell_type": "markdown",
   "id": "99996a1e",
   "metadata": {},
   "source": [
    "d)Print the length of tuple1. Hint: Length function\n",
    "    Usamos leng"
   ]
  },
  {
   "cell_type": "code",
   "execution_count": 34,
   "id": "3b468748",
   "metadata": {},
   "outputs": [],
   "source": [
    "tuple1 = (\"Orange\", [10, 20, 30], (5, 15, 25))"
   ]
  },
  {
   "cell_type": "code",
   "execution_count": 35,
   "id": "5d74c356",
   "metadata": {},
   "outputs": [
    {
     "data": {
      "text/plain": [
       "('Orange', [10, 20, 30], (5, 15, 25))"
      ]
     },
     "execution_count": 35,
     "metadata": {},
     "output_type": "execute_result"
    }
   ],
   "source": [
    "tuple1"
   ]
  },
  {
   "cell_type": "code",
   "execution_count": 38,
   "id": "5f83ce93",
   "metadata": {},
   "outputs": [
    {
     "data": {
      "text/plain": [
       "3"
      ]
     },
     "execution_count": 38,
     "metadata": {},
     "output_type": "execute_result"
    }
   ],
   "source": [
    "len(tuple1)"
   ]
  },
  {
   "cell_type": "markdown",
   "id": "f5ff2d80",
   "metadata": {},
   "source": [
    "La longitud de la tupla es 3"
   ]
  },
  {
   "cell_type": "markdown",
   "id": "665707ab",
   "metadata": {},
   "source": [
    "e)Sum all the elements of tuple2 and describe your steps and explain each of them. Hint: Use map function."
   ]
  },
  {
   "cell_type": "code",
   "execution_count": 39,
   "id": "7eb80fec",
   "metadata": {},
   "outputs": [],
   "source": [
    "tuple2 = ([7, 8], [9, 1], [10, 7])"
   ]
  },
  {
   "cell_type": "code",
   "execution_count": 40,
   "id": "dcddb411",
   "metadata": {},
   "outputs": [
    {
     "data": {
      "text/plain": [
       "([7, 8], [9, 1], [10, 7])"
      ]
     },
     "execution_count": 40,
     "metadata": {},
     "output_type": "execute_result"
    }
   ],
   "source": [
    "tuple2"
   ]
  },
  {
   "cell_type": "code",
   "execution_count": 41,
   "id": "59f7b669",
   "metadata": {},
   "outputs": [
    {
     "data": {
      "text/plain": [
       "(<function sum(iterable, /, start=0)>, ([7, 8], [9, 1], [10, 7]))"
      ]
     },
     "execution_count": 41,
     "metadata": {},
     "output_type": "execute_result"
    }
   ],
   "source": [
    "sum, tuple2"
   ]
  },
  {
   "cell_type": "code",
   "execution_count": 42,
   "id": "daaf1497",
   "metadata": {},
   "outputs": [
    {
     "name": "stdout",
     "output_type": "stream",
     "text": [
      "42\n"
     ]
    }
   ],
   "source": [
    "total_sum = sum(map(sum, tuple2))\n",
    "\n",
    "print(total_sum)"
   ]
  },
  {
   "cell_type": "code",
   "execution_count": null,
   "id": "fc737c24",
   "metadata": {},
   "outputs": [],
   "source": []
  }
 ],
 "metadata": {
  "kernelspec": {
   "display_name": "Python 3 (ipykernel)",
   "language": "python",
   "name": "python3"
  },
  "language_info": {
   "codemirror_mode": {
    "name": "ipython",
    "version": 3
   },
   "file_extension": ".py",
   "mimetype": "text/x-python",
   "name": "python",
   "nbconvert_exporter": "python",
   "pygments_lexer": "ipython3",
   "version": "3.11.5"
  }
 },
 "nbformat": 4,
 "nbformat_minor": 5
}
