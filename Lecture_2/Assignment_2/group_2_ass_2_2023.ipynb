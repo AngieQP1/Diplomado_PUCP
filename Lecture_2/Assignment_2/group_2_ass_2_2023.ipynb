 },
  {
   "cell_type": "code",
   "execution_count": 28,
   "id": "b11f85d2",
   "metadata": {},
   "outputs": [
       "10"
      ]
     },
     "execution_count": 28,
     "metadata": {},
     "output_type": "execute_result"
    }
  },
  {
   "cell_type": "code",
   "execution_count": 29,
   "id": "12f3bfe5",
   "metadata": {},
   "outputs": [
       "(5, 15, 25)"
      ]
     },
     "execution_count": 29,
     "metadata": {},
     "output_type": "execute_result"
    }
  },
  {
   "cell_type": "code",
   "execution_count": 30,
   "id": "798153da",
   "metadata": {},
   "outputs": [
     "evalue": "'tuple' object does not support item assignment",
     "output_type": "error",
     "traceback": [
      "\u001b[1;31mTypeError\u001b[0m                                 Traceback (most recent call last)",
      "\u001b[1;32m~\\AppData\\Local\\Temp\\ipykernel_16148\\1194730823.py\u001b[0m in \u001b[0;36m<module>\u001b[1;34m\u001b[0m\n\u001b[1;32m----> 1\u001b[1;33m \u001b[0mtuple1\u001b[0m\u001b[1;33m[\u001b[0m\u001b[1;36m0\u001b[0m\u001b[1;33m]\u001b[0m\u001b[1;33m=\u001b[0m\u001b[1;34m\"pink gratefuit\"\u001b[0m\u001b[1;33m\u001b[0m\u001b[1;33m\u001b[0m\u001b[0m\n\u001b[0m",
      "\u001b[1;31mTypeError\u001b[0m: 'tuple' object does not support item assignment"
     ]
    }
   ],
  },
  {
   "cell_type": "code",
   "execution_count": 31,
   "id": "3523318b",
   "metadata": {},
   "outputs": [
    {
     "data": {
      "text/plain": [
       "3"
      ]
     },
     "execution_count": 31,
     "metadata": {},
     "output_type": "execute_result"
    }
   ],
   "source": [
    "len(tuple1)"
   ]
  },
  {
   "cell_type": "code",
   "execution_count": 32,
   "id": "5f4e9c68",
   "metadata": {},
   "outputs": [
    {
     "data": {
      "text/plain": [
       "<map at 0x109cfd150>"
       "<map at 0x1a6b896cf10>"
      ]
     },
     "execution_count": 32,
     "metadata": {},
     "output_type": "execute_result"
    }
  },
  {
   "cell_type": "code",
   "execution_count": 33,
   "id": "38a6ce67",
   "metadata": {},
   "outputs": [
  },
  {
   "cell_type": "code",
   "execution_count": 34,
   "id": "7709efe0",
   "metadata": {},
   "outputs": [
       "([7], [8], [9])"
      ]
     },
     "execution_count": 34,
     "metadata": {},
     "output_type": "execute_result"
    }
  },
  {
   "cell_type": "code",
   "execution_count": 35,
   "id": "a2e11623",
   "metadata": {},
   "outputs": [
  },
  {
   "cell_type": "code",
   "execution_count": 36,
   "id": "c0670791",
   "metadata": {},
   "outputs": [
  },
  {
   "cell_type": "code",
   "execution_count": 37,
   "id": "9d780691",
   "metadata": {},
   "outputs": [
  },
  {
   "cell_type": "code",
   "execution_count": 38,
   "id": "b6ce4b8e",
   "metadata": {},
   "outputs": [
  },
  {
   "cell_type": "code",
   "execution_count": 39,
   "id": "32da1761",
   "metadata": {},
   "outputs": [],
  },
  {
   "cell_type": "code",
   "execution_count": 40,
   "id": "593865ec",
   "metadata": {},
   "outputs": [
  },
  {
   "cell_type": "code",
   "execution_count": 41,
   "id": "3626b0b9",
   "metadata": {},
   "outputs": [],
  },
  {
   "cell_type": "code",
   "execution_count": 42,
   "id": "deb3d9aa",
   "metadata": {},
   "outputs": [
  },
  {
   "cell_type": "code",
   "execution_count": 43,
   "id": "7624f231",
   "metadata": {},
   "outputs": [
  },
  {
   "cell_type": "code",
   "execution_count": 69,
   "id": "337f3b56",
   "metadata": {},
   "outputs": [],
  },
  {
   "cell_type": "code",
   "execution_count": 45,
   "id": "3fbbb779",
   "metadata": {},
   "outputs": [],
  },
  {
   "cell_type": "code",
   "execution_count": 46,
   "id": "6097fbaa",
   "metadata": {},
   "outputs": [
       "'I am too old'"
      ]
     },
     "execution_count": 46,
     "metadata": {},
     "output_type": "execute_result"
    }
  },
  {
   "cell_type": "code",
   "execution_count": 47,
   "id": "b534ca75",
   "metadata": {},
   "outputs": [
       "9"
      ]
     },
     "execution_count": 47,
     "metadata": {},
     "output_type": "execute_result"
    }
   "source": [
    "Explanation: To only count the lenght of the letters we use a similar method as the preview question, but now our separator is just no space (''). Like that, when we join the split string with our separator, our final string (result) is just the words toghether. So our final string (result) is the words together and with the function len we count it's letters.  "
   ]
  },
  {
   "cell_type": "markdown",
   "id": "04acbd4c",
   "metadata": {},
   "source": [
    "3. Get the number of blank spaces (all of them) in the string .**Hint: Use `len` function**"
   ]
  },
  {
   "cell_type": "code",
   "execution_count": 48,
   "id": "18059153",
   "metadata": {},
   "outputs": [
    {
     "data": {
      "text/plain": [
       "3"
      ]
     },
     "execution_count": 48,
     "metadata": {},
     "output_type": "execute_result"
    }
   ],
   "source": [
    "str_split = str1.split()\n",
    "str_split\n",
    "separator = ' '\n",
    "result = separator.join(str_split) \n",
    "result.count(\" \")"
   ]
  },
  {
   "cell_type": "markdown",
   "id": "97cec6e2",
   "metadata": {},
   "source": [
    "Explanation: We use `count()` function to count the blank spaces in the string, specifying that we want the character \" \"."
   ]
  },
  {
   "cell_type": "markdown",
   "id": "c1f5a280",
   "metadata": {},
   "source": [
    "4. Get the position of @ in each string in the emails list. **Hint: Use `map` function and find method.**"
   ]
  },
  {
   "cell_type": "code",
   "execution_count": 94,
   "id": "664ea7ec",
   "metadata": {
    "scrolled": false
   },
   "outputs": [
    {
     "name": "stdout",
     "output_type": "stream",
     "text": [
      "[9, 11, 14, 9, 12, 8, 14, 9, 8, 16, 12, 13, 6, 9, 10, 12, 8, 11, 14, 6, 11, 7, 15, 9, 12, 8, 9, 11, 13, 6, 9, 12, 11, 16, 11, -1, -1, -1, -1, -1, 8, -1, -1, -1, -1, -1, -1, -1, -1, -1, -1, 13]\n"
     ]
    }
   ],
   "source": [
    "position = list(map(lambda x: x.find(\"@\"), emails))\n",
    "print(position)"
   ]
  },
  {
   "cell_type": "markdown",
   "id": "67520579",
   "metadata": {},
   "source": [
    "Explanation: First, we create anonymous function that search for the sign `@` in list emails. After that, we insert map function to iterate this to the length of list `emails`. Finally, we transform this in a list."
   ]
  },
  {
   "cell_type": "markdown",
   "id": "d2e3d92f",
   "metadata": {},
   "source": [
    "5. Identifies if exists .edu. in each string in the emails list. Get a list of Booleans. Hint: Use mapfunction and find method."
   ]
  },
  {
   "cell_type": "code",
   "execution_count": 95,
   "id": "af29b26d",
   "metadata": {
    "scrolled": false
   },
   "outputs": [
    {
     "name": "stdout",
     "output_type": "stream",
     "text": [
      "[True, True, True, False, False, True, True, False, False, False, False, False, True, False, True, True, True, True, True, True, True, True, True, True, True, True, True, True, True, True, True, True, True, True, False, False, False, False, False, False, True, False, False, False, False, False, False, False, False, False, False, True]\n"
     ]
    }
   ],
   "source": [
    "edu_position = list(map(lambda x: x.find(\".edu\"), emails))\n",
    "edu = list(map(lambda x: x != -1, edu_position))\n",
    "print(edu)"
   ]
  },
  {
   "cell_type": "markdown",
   "id": "3dfa368b",
   "metadata": {},
   "source": [
    "Explanation: we proceed from the same logic of the item upside. we use map to iterate in order to see which of the elements in the list `edu_position` are different from `-1`, which is the number that indicate no `.edu`. Finally, we have a list of Booleans."
   ]
  },
  {
   "cell_type": "markdown",
   "id": "c4976ee5",
   "metadata": {},
   "source": [
    "6. Get all the strings before the first dot `.` in each string in the emails list. Identifies how many of them has `@`. **Hint: Use ``map``function and find method.**"
   ]
  },
  {
   "cell_type": "code",
   "execution_count": 93,
   "id": "dcaf905b",
   "metadata": {},
   "outputs": [
    {
     "name": "stdout",
     "output_type": "stream",
     "text": [
      "[9, -1, -1, 9, -1, 8, -1, 9, 8, -1, -1, -1, -1, 9, -1, -1, 8, -1, -1, 6, -1, -1, -1, 9, -1, 8, 9, -1, -1, 6, 9, -1, -1, -1, 11, -1, -1, -1, -1, -1, 8, -1, -1, -1, -1, -1, -1, -1, -1, -1, -1, -1]\n"
     ]
    }
   ],
   "source": [
    "names_emails = list(map(lambda x:  x.split('.')[0], emails))\n",
    "names_emails\n",
    "position_2 = list(map(lambda x: x.find(\"@\"), names_emails))\n",
    "print(position_2)"
   ]
  },
  {
   "cell_type": "markdown",
   "id": "f79a4901",
   "metadata": {},
   "source": [
    "Explanation: In this final request, we iterate the ``split`` function to the list ``emails`` and select the first part of them, based on the first dot that separate them. As we have the first list, we repeat the process of mapping with ``find()`` function and to the list ``names_emails``."
   ]
  }
 ],
 "metadata": {
   "name": "python",
   "nbconvert_exporter": "python",
   "pygments_lexer": "ipython3",
   "version": "3.9.13"
  }
 },
