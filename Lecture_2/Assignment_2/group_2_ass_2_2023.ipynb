{
 "cells": [
  {
   "cell_type": "markdown",
   "id": "8efd3831",
   "metadata": {},
   "source": [
    "# Assignment N°2 - Group 2\n",
    "\n",
    "## 1.1 Tuple\n"
   ]
  },
  {
   "cell_type": "markdown",
   "id": "86d0dcc5",
   "metadata": {},
   "source": [
    "**1. Print the first item of the second item of `tuple1` object.**\n",
    "\n",
    "Como primer paso creo un segundo objeto llamado `tuple_1_2` copiando el segundo elemento de `tuple1`, a continuación extraigo el primer elemento del nuevo objeto creado lo cual nos arroja el primer elemento de la tupla 1."
   ]
  },
  {
   "cell_type": "code",
   "execution_count": 34,
   "id": "b11f85d2",
   "metadata": {},
   "outputs": [
    {
     "data": {
      "text/plain": [
       "10"
      ]
     },
     "execution_count": 34,
     "metadata": {},
     "output_type": "execute_result"
    }
   ],
   "source": [
    "tuple1 = (\"Orange\", [10, 20, 30], (5, 15, 25))\n",
    "tuple_1_2 = tuple1[1]\n",
    "tuple_1_2[0]"
   ]
  },
  {
   "cell_type": "markdown",
   "id": "33347eb7",
   "metadata": {},
   "source": [
    "**2. Print the last item of the tuple1 object.**\n",
    "\n",
    "Seguimos la lógica del anterior código, a partir de la tupla 1 creamos un nuevo objeto llamado `tuple_1_3` que recoge el tercer elemento de la mencionada tupla. A continuación se hace un llamado a dicho objeto, lo cual nos mostrará el item solicitado."
   ]
  },
  {
   "cell_type": "code",
   "execution_count": 35,
   "id": "12f3bfe5",
   "metadata": {},
   "outputs": [
    {
     "data": {
      "text/plain": [
       "(5, 15, 25)"
      ]
     },
     "execution_count": 35,
     "metadata": {},
     "output_type": "execute_result"
    }
   ],
   "source": [
    "tuple_1_3=tuple1[2]\n",
    "tuple_1_3"
   ]
  },
  {
   "cell_type": "markdown",
   "id": "f7c8cda5",
   "metadata": {},
   "source": [
    "**3. Change the value \"orange\" for \"pink grapefruit\". Comment the output.**\n",
    "\n",
    "Las tuplas son un contener de Python que no se puede modificar, en consecuencia, en el output se me indica que el objeto `tuple1`no acepta asignación (en este caso modificación) en el item de interés."
   ]
  },
  {
   "cell_type": "code",
   "execution_count": 11,
   "id": "798153da",
   "metadata": {},
   "outputs": [
    {
     "ename": "TypeError",
     "evalue": "'tuple' object does not support item assignment",
     "output_type": "error",
     "traceback": [
      "\u001b[1;31m---------------------------------------------------------------------------\u001b[0m",
      "\u001b[1;31mTypeError\u001b[0m                                 Traceback (most recent call last)",
      "Cell \u001b[1;32mIn[11], line 1\u001b[0m\n\u001b[1;32m----> 1\u001b[0m tuple1[\u001b[38;5;241m0\u001b[39m]\u001b[38;5;241m=\u001b[39m\u001b[38;5;124m\"\u001b[39m\u001b[38;5;124mpink gratefuit\u001b[39m\u001b[38;5;124m\"\u001b[39m\n",
      "\u001b[1;31mTypeError\u001b[0m: 'tuple' object does not support item assignment"
     ]
    }
   ],
   "source": [
    "tuple1[0]=\"pink gratefuit\""
   ]
  },
  {
   "cell_type": "markdown",
   "id": "311d4d32",
   "metadata": {},
   "source": [
    "**4. Print the length of `tuple1`.**"
   ]
  },
  {
   "cell_type": "code",
   "execution_count": 12,
   "id": "3523318b",
   "metadata": {},
   "outputs": [
    {
     "data": {
      "text/plain": [
       "3"
      ]
     },
     "execution_count": 12,
     "metadata": {},
     "output_type": "execute_result"
    }
   ],
   "source": [
    "len(tuple1)"
   ]
  },
  {
   "cell_type": "markdown",
   "id": "eafbb67e",
   "metadata": {},
   "source": [
    "**5. Sum all the elements of tuple2 and describe your steps and explain each of them.**"
   ]
  },
  {
   "cell_type": "markdown",
   "id": "2983deb3",
   "metadata": {},
   "source": [
    "En el enunciado de este pregunta se indica que puede utilizar la función `map()` cuyos argumentos son: la función a utilizar y el objeto de interés. Sin embargo, no me permite visualizar el resultado porque dicha función solo realiza iteraciones mas no acciones de resultado por lo que es necesario solicitarle que realice la acción mediante otra función. "
   ]
  },
  {
   "cell_type": "code",
   "execution_count": 117,
   "id": "5f4e9c68",
   "metadata": {},
   "outputs": [
    {
     "data": {
      "text/plain": [
       "([7, 8], [9, 1], [10, 7])"
      ]
     },
     "execution_count": 117,
     "metadata": {},
     "output_type": "execute_result"
    }
   ],
   "source": [
    "tuple2 = ([7, 8], [9, 1], [10, 7])\n",
    "map(sum,tuple2)"
   ]
  },
  {
   "cell_type": "markdown",
   "id": "9b28309c",
   "metadata": {},
   "source": [
    "En tal sentido, se utiliza `list()`para revelar las acción realizada; se observa que se ha procedido con sumar cada una de los elementos dentro de la tupla. No obstante, se nos pide sumar todos los elementos de la tupla por tanto se procede a realizar dicha operación con `list()`. Es importante destacar que la función `list()` la tupla se convierte en una lista la cual puede ser modificada. -->"
   ]
  },
  {
   "cell_type": "code",
   "execution_count": 88,
   "id": "38a6ce67",
   "metadata": {},
   "outputs": [
    {
     "name": "stdout",
     "output_type": "stream",
     "text": [
      "[15, 10, 17]\n",
      "42\n"
     ]
    }
   ],
   "source": [
    "print(list(map(sum,tuple2)))\n",
    "print(sum(list(map(sum,tuple2))))"
   ]
  },
  {
   "cell_type": "markdown",
   "id": "69daf983",
   "metadata": {},
   "source": [
    "6. Generate a new tuple object named as `tuple3` with the half values of `tuple2`. This tuple should be similar as `tuple2`, tuple of lists."
   ]
  },
  {
   "cell_type": "code",
   "execution_count": 120,
   "id": "7709efe0",
   "metadata": {},
   "outputs": [
    {
     "name": "stdout",
     "output_type": "stream",
     "text": [
      "7\n",
      "8\n",
      "9\n"
     ]
    },
    {
     "data": {
      "text/plain": [
       "([7], [8], [9])"
      ]
     },
     "execution_count": 120,
     "metadata": {},
     "output_type": "execute_result"
    }
   ],
   "source": [
    "a=tuple2[0][0]\n",
    "print(a)\n",
    "b=tuple2[0][1]\n",
    "print(b)\n",
    "c=tuple2[1][0]\n",
    "print(c)\n",
    "tuple2_new=([a],[b],[c])\n",
    "tuple2_new"
   ]
  }
 ],
 "metadata": {
  "kernelspec": {
   "display_name": "Python 3 (ipykernel)",
   "language": "python",
   "name": "python3"
  },
  "language_info": {
   "codemirror_mode": {
    "name": "ipython",
    "version": 3
   },
   "file_extension": ".py",
   "mimetype": "text/x-python",
   "name": "python",
   "nbconvert_exporter": "python",
   "pygments_lexer": "ipython3",
   "version": "3.11.5"
  }
 },
 "nbformat": 4,
 "nbformat_minor": 5
}
