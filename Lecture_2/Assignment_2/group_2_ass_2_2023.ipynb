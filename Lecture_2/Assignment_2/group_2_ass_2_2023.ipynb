{
 "cells": [
  {
   "cell_type": "markdown",
   "id": "8efd3831",
   "metadata": {},
   "source": [
    "# Assignment N°2 - Group 2\n",
    "\n",
    "## 1.1 Tuple\n"
   ]
  },
  {
   "cell_type": "markdown",
   "id": "86d0dcc5",
   "metadata": {},
   "source": [
    "**1. Print the first item of the second item of `tuple1` object.**\n",
    "\n",
    "Como primer paso creo un segundo objeto llamado `tuple_1_2` copiando el segundo elemento de `tuple1`, a continuación extraigo el primer elemento del nuevo objeto creado lo cual nos arroja el primer elemento de la tupla 1."
   ]
  },
  {
   "cell_type": "code",
   "execution_count": 34,
   "id": "b11f85d2",
   "metadata": {},
   "outputs": [
    {
     "data": {
      "text/plain": [
       "10"
      ]
     },
     "execution_count": 34,
     "metadata": {},
     "output_type": "execute_result"
    }
   ],
   "source": [
    "tuple1 = (\"Orange\", [10, 20, 30], (5, 15, 25))\n",
    "tuple_1_2 = tuple1[1]\n",
    "tuple_1_2[0]"
   ]
  },
  {
   "cell_type": "markdown",
   "id": "33347eb7",
   "metadata": {},
   "source": [
    "**2. Print the last item of the tuple1 object.**\n",
    "\n",
    "Seguimos la lógica del anterior código, a partir de la tupla 1 creamos un nuevo objeto llamado `tuple_1_3` que recoge el tercer elemento de la mencionada tupla. A continuación se hace un llamado a dicho objeto, lo cual nos mostrará el item solicitado."
   ]
  },
  {
   "cell_type": "code",
   "execution_count": 35,
   "id": "12f3bfe5",
   "metadata": {},
   "outputs": [
    {
     "data": {
      "text/plain": [
       "(5, 15, 25)"
      ]
     },
     "execution_count": 35,
     "metadata": {},
     "output_type": "execute_result"
    }
   ],
   "source": [
    "tuple_1_3=tuple1[2]\n",
    "tuple_1_3"
   ]
  },
  {
   "cell_type": "markdown",
   "id": "f7c8cda5",
   "metadata": {},
   "source": [
    "**3. Change the value \"orange\" for \"pink grapefruit\". Comment the output.**\n",
    "\n",
    "Las tuplas son un contener de Python que no se puede modificar, en consecuencia, en el output se me indica que el objeto `tuple1`no acepta asignación (en este caso modificación) en el item de interés."
   ]
  },
  {
   "cell_type": "code",
   "execution_count": 11,
   "id": "798153da",
   "metadata": {},
   "outputs": [
    {
     "ename": "TypeError",
     "evalue": "'tuple' object does not support item assignment",
     "output_type": "error",
     "traceback": [
      "\u001b[1;31m---------------------------------------------------------------------------\u001b[0m",
      "\u001b[1;31mTypeError\u001b[0m                                 Traceback (most recent call last)",
      "Cell \u001b[1;32mIn[11], line 1\u001b[0m\n\u001b[1;32m----> 1\u001b[0m tuple1[\u001b[38;5;241m0\u001b[39m]\u001b[38;5;241m=\u001b[39m\u001b[38;5;124m\"\u001b[39m\u001b[38;5;124mpink gratefuit\u001b[39m\u001b[38;5;124m\"\u001b[39m\n",
      "\u001b[1;31mTypeError\u001b[0m: 'tuple' object does not support item assignment"
     ]
    }
   ],
   "source": [
    "tuple1[0]=\"pink gratefuit\""
   ]
  },
  {
   "cell_type": "markdown",
   "id": "311d4d32",
   "metadata": {},
   "source": [
    "**4. Print the length of `tuple1`.**"
   ]
  },
  {
   "cell_type": "code",
   "execution_count": 12,
   "id": "3523318b",
   "metadata": {},
   "outputs": [
    {
     "data": {
      "text/plain": [
       "3"
      ]
     },
     "execution_count": 12,
     "metadata": {},
     "output_type": "execute_result"
    }
   ],
   "source": [
    "len(tuple1)"
   ]
  },
  {
   "cell_type": "markdown",
   "id": "eafbb67e",
   "metadata": {},
   "source": [
    "**5. Sum all the elements of tuple2 and describe your steps and explain each of them.**"
   ]
  },
  {
   "cell_type": "markdown",
   "id": "2983deb3",
   "metadata": {},
   "source": [
    "En el enunciado de este pregunta se indica que puede utilizar la función `map()` cuyos argumentos son: la función a utilizar y el objeto de interés. Sin embargo, no me permite visualizar el resultado porque dicha función solo realiza iteraciones mas no acciones de resultado por lo que es necesario solicitarle que realice la acción mediante otra función. "
   ]
  },
  {
   "cell_type": "code",
   "execution_count": 117,
   "id": "5f4e9c68",
   "metadata": {},
   "outputs": [
    {
     "data": {
      "text/plain": [
       "([7, 8], [9, 1], [10, 7])"
      ]
     },
     "execution_count": 117,
     "metadata": {},
     "output_type": "execute_result"
    }
   ],
   "source": [
    "tuple2 = ([7, 8], [9, 1], [10, 7])\n",
    "map(sum,tuple2)"
   ]
  },
  {
   "cell_type": "markdown",
   "id": "9b28309c",
   "metadata": {},
   "source": [
    "En tal sentido, se utiliza `list()`para revelar las acción realizada; se observa que se ha procedido con sumar cada una de los elementos dentro de la tupla. No obstante, se nos pide sumar todos los elementos de la tupla por tanto se procede a realizar dicha operación con `list()`. Es importante destacar que la función `list()` la tupla se convierte en una lista la cual puede ser modificada. -->"
   ]
  },
  {
   "cell_type": "code",
   "execution_count": 88,
   "id": "38a6ce67",
   "metadata": {},
   "outputs": [
    {
     "name": "stdout",
     "output_type": "stream",
     "text": [
      "[15, 10, 17]\n",
      "42\n"
     ]
    }
   ],
   "source": [
    "print(list(map(sum,tuple2)))\n",
    "print(sum(list(map(sum,tuple2))))"
   ]
  },
  {
   "cell_type": "markdown",
   "id": "69daf983",
   "metadata": {},
   "source": [
    "6. Generate a new tuple object named as `tuple3` with the half values of `tuple2`. This tuple should be similar as `tuple2`, tuple of lists."
   ]
  },
  {
   "cell_type": "code",
   "execution_count": 120,
   "id": "7709efe0",
   "metadata": {},
   "outputs": [
    {
     "name": "stdout",
     "output_type": "stream",
     "text": [
      "7\n",
      "8\n",
      "9\n"
     ]
    },
    {
     "data": {
      "text/plain": [
       "([7], [8], [9])"
      ]
     },
     "execution_count": 120,
     "metadata": {},
     "output_type": "execute_result"
    }
   ],
   "source": [
    "a=tuple2[0][0]\n",
    "print(a)\n",
    "b=tuple2[0][1]\n",
    "print(b)\n",
    "c=tuple2[1][0]\n",
    "print(c)\n",
    "tuple2_new=([a],[b],[c])\n",
    "tuple2_new"
   ]
  },
  {
   "cell_type": "markdown",
   "id": "c7db30f7",
   "metadata": {},
   "source": [
    "## 1.2 Lists"
   ]
  },
  {
   "cell_type": "markdown",
   "id": "e6f274fa",
   "metadata": {},
   "source": [
    "1. Show the indices of the np.nan values in the f_list list. We want to see this output: The indices 0, 1, 4, 7 have np.nan values. Hint: Use print function and f-strings to insert the indices values."
   ]
  },
  {
   "cell_type": "markdown",
   "id": "caff00c4",
   "metadata": {},
   "source": [
    "In the statement it is requested to display the indexes of the list f_list. According to the indication, the np.nan are at positions 0, 1, 4, 7. The list is created accordingly. To identify the indices of the list, we use [index for index, value in enumerate(f_list) if value is np.nan], which means that for each element in f_list that is np.nan, it includes the corresponding index in the list nan_indices. So, nan_indices will be a list containing the indices of elements in f_list that are exactly equal to np.nan. \n",
    "\n",
    "Then, to display the sentence in the output, we use \"map(str, nan_indices)\" to convert each element of the nan_indices list into a string. And we use the \"join\" function to take each element converted to a string from nan_indices and join them into a single string, separated by ', '. From this conversion, the print function is added to display the statement \"The indices {indices_string} have np.nan values.\""
   ]
  },
  {
   "cell_type": "code",
   "execution_count": 50,
   "id": "a2e11623",
   "metadata": {},
   "outputs": [
    {
     "name": "stdout",
     "output_type": "stream",
     "text": [
      "The indices 0, 1, 4, 7 have np.nan values.\n"
     ]
    }
   ],
   "source": [
    "import numpy as np\n",
    "\n",
    "f_list = [np.nan, np.nan, \"Austria\", \"Germany\", np.nan, \"Pakistan\", \"np.nan\", np.nan]\n",
    "\n",
    "nan_indices = [index for index, value in enumerate(f_list) if value is np.nan]\n",
    "\n",
    "if nan_indices:\n",
    "    indices_string = ', '.join(map(str, nan_indices))\n",
    "    print(f'The indices {indices_string} have np.nan values.')\n",
    "else:\n",
    "    print('No np.nan values found in the list.')\n"
   ]
  },
  {
   "cell_type": "markdown",
   "id": "acc50c05",
   "metadata": {},
   "source": [
    "2. Replicate 4 times the values of the list p2_list. We expect an ouput like this: [ 2 , 3, 4, 5, 2 , 3, 4, 5, 2 , 3, 4, 5, 2 , 3, 4, 5]. Hint: Use multiplication function in listsand see the output."
   ]
  },
  {
   "cell_type": "markdown",
   "id": "e6b539de",
   "metadata": {},
   "source": [
    "The list is created with the values to be replicated: 2, 3, 4, 5. The list p2_list is then multiplied 4 times. "
   ]
  },
  {
   "cell_type": "code",
   "execution_count": 45,
   "id": "c0670791",
   "metadata": {},
   "outputs": [
    {
     "name": "stdout",
     "output_type": "stream",
     "text": [
      "[2, 3, 4, 5, 2, 3, 4, 5, 2, 3, 4, 5, 2, 3, 4, 5]\n"
     ]
    }
   ],
   "source": [
    "p2_list = [2, 3, 4, 5]\n",
    "p2_new_list = p2_list * 4\n",
    "\n",
    "print(p2_new_list)"
   ]
  },
  {
   "cell_type": "markdown",
   "id": "ab14bf2a",
   "metadata": {},
   "source": [
    "3. Print the length of f_list. Hint: Length function"
   ]
  },
  {
   "cell_type": "markdown",
   "id": "82f534af",
   "metadata": {},
   "source": [
    "Using the list created in question 1, the len function is used to find out the length of the list. Finally, the print function is used to display the result."
   ]
  },
  {
   "cell_type": "code",
   "execution_count": 47,
   "id": "9d780691",
   "metadata": {},
   "outputs": [
    {
     "name": "stdout",
     "output_type": "stream",
     "text": [
      "8\n"
     ]
    }
   ],
   "source": [
    "print(len(f_list))"
   ]
  },
  {
   "cell_type": "markdown",
   "id": "86f2bd4c",
   "metadata": {},
   "source": [
    "4. Print My teacher assistant is so boring. using text1 list. Hint: Use the join function"
   ]
  },
  {
   "cell_type": "markdown",
   "id": "c9f0c737",
   "metadata": {},
   "source": [
    "A partir de la lista 'texto1', usamos la función join. Se ha considerado previamente el espacio entre elementos \" \".  "
   ]
  },
  {
   "cell_type": "code",
   "execution_count": 67,
   "id": "b6ce4b8e",
   "metadata": {},
   "outputs": [
    {
     "name": "stdout",
     "output_type": "stream",
     "text": [
      "My teacher assistant is so boring.\n"
     ]
    }
   ],
   "source": [
    "text1 = ['My', 'teacher', 'assistant', 'is', 'so', 'boring.']\n",
    "text1_result = ' '.join(text1)\n",
    "print(text1_result)\n"
   ]
  },
  {
   "cell_type": "markdown",
   "id": "1c9d7844",
   "metadata": {},
   "source": [
    "5. Print My TA is so boring, but is very funny. using text1 list.Hint: Use the join function, and extend method."
   ]
  },
  {
   "cell_type": "markdown",
   "id": "2663b587",
   "metadata": {},
   "source": [
    "To generate this new output, we first have to replace the word \"boring.\" with \"boring\", because instead of a full stop, there should be a comma."
   ]
  },
  {
   "cell_type": "code",
   "execution_count": 68,
   "id": "32da1761",
   "metadata": {},
   "outputs": [],
   "source": [
    "text1[-1] = 'boring,'"
   ]
  },
  {
   "cell_type": "markdown",
   "id": "a870e5e7",
   "metadata": {},
   "source": [
    "Then, using the function \"append\" we add the new information \"but is very funny\". Finally, using the join function, we join both texts."
   ]
  },
  {
   "cell_type": "code",
   "execution_count": 69,
   "id": "593865ec",
   "metadata": {},
   "outputs": [
    {
     "name": "stdout",
     "output_type": "stream",
     "text": [
      "My teacher assistant is so boring, but is very funny.\n"
     ]
    }
   ],
   "source": [
    "text1.append( \"but is very funny.\" )\n",
    "text2_result = ' '.join(text1)\n",
    "print(text2_result)"
   ]
  }
 ],
 "metadata": {
  "kernelspec": {
   "display_name": "Python 3 (ipykernel)",
   "language": "python",
   "name": "python3"
  },
  "language_info": {
   "codemirror_mode": {
    "name": "ipython",
    "version": 3
   },
   "file_extension": ".py",
   "mimetype": "text/x-python",
   "name": "python",
   "nbconvert_exporter": "python",
   "pygments_lexer": "ipython3",
   "version": "3.11.5"
  }
 },
 "nbformat": 4,
 "nbformat_minor": 5
}
