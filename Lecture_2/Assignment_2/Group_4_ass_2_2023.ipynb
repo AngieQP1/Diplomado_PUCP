{
 "cells": [
  {
   "cell_type": "markdown",
   "id": "ac9d6fbf",
   "metadata": {},
   "source": [
    "# Assigment 2 - Group 4 "
   ]
  },
  {
   "cell_type": "markdown",
   "id": "6f49e9d3",
   "metadata": {},
   "source": [
    "## 1.1 Tuple"
   ]
  },
  {
   "cell_type": "code",
   "execution_count": 18,
   "id": "b57ad3f2",
   "metadata": {},
   "outputs": [],
   "source": [
    "tuple1 = (\"Orange\", [10, 20, 30], (5, 15, 25))\n",
    "tuple2 = ([7, 8], [9, 1], [10, 7])"
   ]
  },
  {
   "cell_type": "markdown",
   "id": "e36aec44",
   "metadata": {},
   "source": [
    "1. Print the first item of the second item of tuple1 object. **Hint: Use indexing**"
   ]
  },
  {
   "cell_type": "code",
   "execution_count": 19,
   "id": "8fa5fa51",
   "metadata": {},
   "outputs": [
    {
     "data": {
      "text/plain": [
       "10"
      ]
     },
     "execution_count": 19,
     "metadata": {},
     "output_type": "execute_result"
    }
   ],
   "source": [
    "# As Python starts counting from 0, the second item of tuple1 is 1 in counting.\n",
    "# Then, the first item of the second object is 0 in counting.\n",
    "tuple1[1][0]"
   ]
  },
  {
   "cell_type": "markdown",
   "id": "46fbe85a",
   "metadata": {},
   "source": [
    "2. Print the last item of the tuple1 object. **Hint: Use indexing**"
   ]
  },
  {
   "cell_type": "code",
   "execution_count": 21,
   "id": "ab4794dd",
   "metadata": {},
   "outputs": [
    {
     "data": {
      "text/plain": [
       "(5, 15, 25)"
      ]
     },
     "execution_count": 21,
     "metadata": {},
     "output_type": "execute_result"
    }
   ],
   "source": [
    "# -1 is used to identify the last item of a tuple. \n",
    "tuple1[-1]"
   ]
  },
  {
   "cell_type": "markdown",
   "id": "ba1e00b2",
   "metadata": {},
   "source": [
    "3. Change the value \"orange\" for \"pink grapefruit\". Comment the output. **Hint: Is it possible?**"
   ]
  },
  {
   "cell_type": "code",
   "execution_count": 27,
   "id": "7ea802cf",
   "metadata": {},
   "outputs": [
    {
     "name": "stdout",
     "output_type": "stream",
     "text": [
      "('Pink Grapefruit', [10, 20, 30], (5, 15, 25))\n"
     ]
    }
   ],
   "source": [
    "#It is not possible to modify a tuple. However, it is possible to modify a list.\n",
    "\n",
    "#First, convert the tuple to a list.\n",
    "list1 = list(tuple1)\n",
    "\n",
    "#Then, change the first value\n",
    "list1[0] = \"Pink Grapefruit\"\n",
    "\n",
    "#Convert the list to a tuple\n",
    "tuple1 = tuple(list1)\n",
    "\n",
    "print(tuple1)"
   ]
  },
  {
   "cell_type": "markdown",
   "id": "b99c43f6",
   "metadata": {},
   "source": [
    "4. Print the length of tuple1. **Hint: Length function**"
   ]
  },
  {
   "cell_type": "code",
   "execution_count": 29,
   "id": "40e01a65",
   "metadata": {},
   "outputs": [
    {
     "data": {
      "text/plain": [
       "3"
      ]
     },
     "execution_count": 29,
     "metadata": {},
     "output_type": "execute_result"
    }
   ],
   "source": [
    "len(tuple1)"
   ]
  },
  {
   "cell_type": "markdown",
   "id": "96372fbb",
   "metadata": {},
   "source": [
    "5. Sum all the elements of tuple2 and describe your steps and explain each of them. **Hint: Use `map` function.**"
   ]
  },
  {
   "cell_type": "code",
   "execution_count": 31,
   "id": "bc7dfdb9",
   "metadata": {},
   "outputs": [
    {
     "data": {
      "text/plain": [
       "42"
      ]
     },
     "execution_count": 31,
     "metadata": {},
     "output_type": "execute_result"
    }
   ],
   "source": [
    "#First, the map and the sum functions are used to sum the items of each list.\n",
    "#Then, the outer sum function calculates the sum of all the values obtained from the first step.\n",
    "#The result is the sum of all the elements of tuple 2.\n",
    "sum(map(sum, tuple2))"
   ]
  }
 ],
 "metadata": {
  "kernelspec": {
   "display_name": "Python 3 (ipykernel)",
   "language": "python",
   "name": "python3"
  },
  "language_info": {
   "codemirror_mode": {
    "name": "ipython",
    "version": 3
   },
   "file_extension": ".py",
   "mimetype": "text/x-python",
   "name": "python",
   "nbconvert_exporter": "python",
   "pygments_lexer": "ipython3",
   "version": "3.11.5"
  }
 },
 "nbformat": 4,
 "nbformat_minor": 5
}
