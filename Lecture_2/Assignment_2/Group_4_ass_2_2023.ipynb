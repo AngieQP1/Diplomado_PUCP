{
 "cells": [
  {
   "cell_type": "markdown",
   "id": "ac9d6fbf",
   "metadata": {},
   "source": [
    "# Assigment 2 - Group 4 "
   ]
  },
  {
   "cell_type": "markdown",
   "id": "6f49e9d3",
   "metadata": {},
   "source": [
    "## 1.1 Tuple"
   ]
  },
  {
   "cell_type": "code",
   "execution_count": 1,
   "id": "b57ad3f2",
   "metadata": {},
   "outputs": [],
   "source": [
    "tuple1 = (\"Orange\", [10, 20, 30], (5, 15, 25))\n",
    "tuple2 = ([7, 8], [9, 1], [10, 7])"
   ]
  },
  {
   "cell_type": "markdown",
   "id": "e36aec44",
   "metadata": {},
   "source": [
    "1. Print the first item of the second item of tuple1 object. **Hint: Use indexing**"
   ]
  },
  {
   "cell_type": "code",
   "execution_count": 19,
   "id": "8fa5fa51",
   "metadata": {},
   "outputs": [
    {
     "data": {
      "text/plain": [
       "10"
      ]
     },
     "execution_count": 19,
     "metadata": {},
     "output_type": "execute_result"
    }
   ],
   "source": [
    "# As Python starts counting from 0, the second item of tuple1 is 1 in counting.\n",
    "# Then, the first item of the second object is 0 in counting.\n",
    "tuple1[1][0]"
   ]
  },
  {
   "cell_type": "markdown",
   "id": "46fbe85a",
   "metadata": {},
   "source": [
    "2. Print the last item of the tuple1 object. **Hint: Use indexing**"
   ]
  },
  {
   "cell_type": "code",
   "execution_count": 21,
   "id": "ab4794dd",
   "metadata": {},
   "outputs": [
    {
     "data": {
      "text/plain": [
       "(5, 15, 25)"
      ]
     },
     "execution_count": 21,
     "metadata": {},
     "output_type": "execute_result"
    }
   ],
   "source": [
    "# -1 is used to identify the last item of a tuple. \n",
    "tuple1[-1]"
   ]
  },
  {
   "cell_type": "markdown",
   "id": "ba1e00b2",
   "metadata": {},
   "source": [
    "3. Change the value \"orange\" for \"pink grapefruit\". Comment the output. **Hint: Is it possible?**"
   ]
  },
  {
   "cell_type": "code",
   "execution_count": 27,
   "id": "7ea802cf",
   "metadata": {},
   "outputs": [
    {
     "name": "stdout",
     "output_type": "stream",
     "text": [
      "('Pink Grapefruit', [10, 20, 30], (5, 15, 25))\n"
     ]
    }
   ],
   "source": [
    "#It is not possible to modify a tuple. However, it is possible to modify a list.\n",
    "\n",
    "#First, convert the tuple to a list.\n",
    "list1 = list(tuple1)\n",
    "\n",
    "#Then, change the first value\n",
    "list1[0] = \"Pink Grapefruit\"\n",
    "\n",
    "#Convert the list to a tuple\n",
    "tuple1 = tuple(list1)\n",
    "\n",
    "print(tuple1)"
   ]
  },
  {
   "cell_type": "markdown",
   "id": "b99c43f6",
   "metadata": {},
   "source": [
    "4. Print the length of tuple1. **Hint: Length function**"
   ]
  },
  {
   "cell_type": "code",
   "execution_count": 29,
   "id": "40e01a65",
   "metadata": {},
   "outputs": [
    {
     "data": {
      "text/plain": [
       "3"
      ]
     },
     "execution_count": 29,
     "metadata": {},
     "output_type": "execute_result"
    }
   ],
   "source": [
    "len(tuple1)"
   ]
  },
  {
   "cell_type": "markdown",
   "id": "96372fbb",
   "metadata": {},
   "source": [
    "5. Sum all the elements of tuple2 and describe your steps and explain each of them. **Hint: Use `map` function.**"
   ]
  },
  {
   "cell_type": "code",
   "execution_count": 31,
   "id": "bc7dfdb9",
   "metadata": {},
   "outputs": [
    {
     "data": {
      "text/plain": [
       "42"
      ]
     },
     "execution_count": 31,
     "metadata": {},
     "output_type": "execute_result"
    }
   ],
   "source": [
    "#First, the map and the sum functions are used to sum the items of each list.\n",
    "#Then, the outer sum function calculates the sum of all the values obtained from the first step.\n",
    "#The result is the sum of all the elements of tuple 2.\n",
    "sum(map(sum, tuple2))"
   ]
  },
  {
   "cell_type": "markdown",
   "id": "66b947b1",
   "metadata": {},
   "source": [
    "### Numeral 6"
   ]
  },
  {
   "cell_type": "markdown",
   "id": "6679f203",
   "metadata": {},
   "source": [
    "Generate a new tuple object named as tuple3 with the half values of tuple2. This tuple should be similar as tuple2, tuple of lists. Hint: Use map funciont."
   ]
  },
  {
   "cell_type": "markdown",
   "id": "31de3dda",
   "metadata": {},
   "source": [
    "##### Solución: "
   ]
  },
  {
   "cell_type": "markdown",
   "id": "8508ba15",
   "metadata": {},
   "source": [
    "First, we define the function \"half_v\" to divide the elements of a list by two."
   ]
  },
  {
   "cell_type": "code",
   "execution_count": 2,
   "id": "d50489ad",
   "metadata": {},
   "outputs": [],
   "source": [
    "def half_v(list1):\n",
    "  return [x * 0.5 for x in list1]"
   ]
  },
  {
   "cell_type": "markdown",
   "id": "7e8a0b30",
   "metadata": {},
   "source": [
    "Then, we use the \"map\" function and the \"half_v\" function to divide all the elements of the lists that are in tuple2."
   ]
  },
  {
   "cell_type": "code",
   "execution_count": 3,
   "id": "7f4a47db",
   "metadata": {},
   "outputs": [],
   "source": [
    " half_values= map(half_v, tuple2)"
   ]
  },
  {
   "cell_type": "markdown",
   "id": "8bd19ab5",
   "metadata": {},
   "source": [
    "Tuple3 is created with the values of the elements of the lists in tuple2 (contained in \"half_values\") in half."
   ]
  },
  {
   "cell_type": "code",
   "execution_count": 4,
   "id": "e5bbfe1f",
   "metadata": {},
   "outputs": [],
   "source": [
    "tuple3 = tuple(half_values)"
   ]
  },
  {
   "cell_type": "markdown",
   "id": "0668366c",
   "metadata": {},
   "source": [
    "A print of tuple3 is made to see the elements."
   ]
  },
  {
   "cell_type": "code",
   "execution_count": 5,
   "id": "171a272e",
   "metadata": {},
   "outputs": [
    {
     "name": "stdout",
     "output_type": "stream",
     "text": [
      "([3.5, 4.0], [4.5, 0.5], [5.0, 3.5])\n"
     ]
    }
   ],
   "source": [
    "print(tuple3)"
   ]
  },
  {
   "cell_type": "markdown",
   "id": "703c0ef1",
   "metadata": {},
   "source": [
    "It is verified that tuple3 is a tuple."
   ]
  },
  {
   "cell_type": "code",
   "execution_count": 6,
   "id": "b231b7e2",
   "metadata": {},
   "outputs": [
    {
     "name": "stdout",
     "output_type": "stream",
     "text": [
      "<class 'tuple'>\n"
     ]
    }
   ],
   "source": [
    "print(type(tuple3))"
   ]
  },
  {
   "cell_type": "markdown",
   "id": "4d51c9a4",
   "metadata": {},
   "source": [
    "## Problem 1.2"
   ]
  },
  {
   "cell_type": "code",
   "execution_count": 7,
   "id": "12f04795",
   "metadata": {},
   "outputs": [],
   "source": [
    "import numpy as np"
   ]
  },
  {
   "cell_type": "code",
   "execution_count": 8,
   "id": "ef76a84e",
   "metadata": {},
   "outputs": [],
   "source": [
    "f_list = [np.nan , np.nan, \"Austria\", \"Germany\", np.nan, \"Pakistan\", \"np.nan\", np.nan ]"
   ]
  },
  {
   "cell_type": "code",
   "execution_count": 9,
   "id": "3a4f7c2b",
   "metadata": {},
   "outputs": [],
   "source": [
    "text1 = ['My', 'teacher', 'assistant', 'is', 'so', 'boring.']"
   ]
  },
  {
   "cell_type": "code",
   "execution_count": 10,
   "id": "e38d83bf",
   "metadata": {},
   "outputs": [],
   "source": [
    "p2_list = [ 2 , 3, 4, 5 ]"
   ]
  },
  {
   "cell_type": "code",
   "execution_count": 11,
   "id": "5a926f95",
   "metadata": {},
   "outputs": [],
   "source": [
    "values1 = [ 86, 86, 85, 85, 85, 83, 23, 0, 84, 1 ] "
   ]
  },
  {
   "cell_type": "code",
   "execution_count": null,
   "id": "2c327235",
   "metadata": {},
   "outputs": [],
   "source": [
    "# These two lists a\n",
    "last_and_name = [ \"CORNEJO SANCHEZ, CHRISTIAN SANTOS\", \"ORELLANA QUISPE, CRISTIAN NASSER\", \"MORALES CHOQUEHUANCA, ANGELICA KARINA\", \"GUIMARAY RIBEYRO, JOSE ROBERTO\", \"CAMACHO GAVIDIA, ABEL FERNANDO\", \"TINTAYA ORIHUELA, MEIR ALVARO\", \"CHAVEZ MARTINEZ, JOSELIN ALEXANDRA\", \"FIGUEROA MURO, LEONEL ARTURO\", \"GOMEZ CRIBILLERO, JOSE FELIPE\", \"PALOMINO SEGUÍN, AFRANIA\", \"LUZON CUEVA, BIANCA MARIETTE\", \"SUAÑA ZEGARRA, ADRIAN ANDRE\", \"SOTO POMACHAGUA, DORKAS YOMIRA JHERMY\", \"FIORENTINO MARTINEZ, LADY ALY\", \"LAMA MAVILA, HECTOR ANDRE\", \"MEZA HINOJO, GUSTAVO\", \"LOZADA MURILLO, PERSEO MARCELO\", \"ZAMBRANO JIMENEZ, MIGUEL ALONZO\", \"JACOBS LUQUE, NICOLAS\", \"VIDAL VIDAL, ROCIO GABRIELA\", \"TORRES ANICAMA, JANE CAMILA\", \"LOPEZ ESTRADA, MARIA ELISA\", \"BOYCO ORAMS, ALEJANDRO\", \"DIAZ BERROSPI, KARLINE ROSMELI\", \"RIEGA ESCALANTE, STEPHY ROSARIO\", \"LEVANO TORRES, VALERIA CECILIA\", \"ESQUIVES BRAVO, SEBASTIAN RENATO\", \"PEREZ GONZALES, JUAN CARLOS\", \"OTERO MAGUIÑA, MARIANA\", \"CLAVO CAMPOS, ANDREA BRIZETH\", \"AGUILAR GARCIA, ERICK JOSUE\", \"CALDAS VELASQUEZ, JOSUE DANIEL\", \"SALAS NUÑEZ BORJA, FABIO MANUEL\", \"PIZARRO VILLANES, FERNANDA NICOLLE\", \"QUILLATUPA MORALES, ANGELA ADELINA\", \"HUANCAYA IDONE, CESAR DANTE\", \"CALVO PORTOCARRERO, GABRIELA ISABEL\", \"IBAÑEZ ABANTO, ANGEL MAURICIO\", \"MELÉNDEZ APONTE, JUAN DIEGO\", \"CRISTIAN SERRANO, ARONE\", \"HINOJOSA CAHUANA, PERCY ALBERTH\", \"ANGLAS GARCÍA, KEVIN ARTURO\", \"ALDAVE ACOSTA, CESAR ERNESTO\", \"NÚÑEZ HUAMÁN, CÉSAR AGUSTO\", \"OBREGON HUAMAN, DIANA EDITH\", \"SOTO PACHERRES, RODRIGO FRANCO\", \"INGARUCA RIVERA, GRETTEL ALEXANDRA\", \"ROJAS HUAMAN, ROSA ANGELA\", \"NEYRA SALAS, DANTE OMAR\", \"HUERTA ESPINOZA, YAJAIRA ALEXANDRA\", \"HUANCA MARTINEZ, JORGE ALBERTO\", \"FLORES CADILLO, ALEXIS\" ]\n",
    "emails = [\"cscornejo@pucp.edu.pe\", \"orellana.cn@pucp.edu.pe\", \"karina.morales@pucp.edu.pe\", \"a20083223@pucp.pe\", \"abel.camacho@pucp.pe\", \"mtintaya@pucp.edu.pe\""
   ]
  },
  {
   "cell_type": "markdown",
   "id": "5f14d19f",
   "metadata": {},
   "source": [
    "### Numeral 1:"
   ]
  },
  {
   "cell_type": "markdown",
   "id": "8c611ff9",
   "metadata": {},
   "source": [
    "Show the indices of the np.nan values in the f_list list. We want to see this output: The indices 0, 1, 4, 7 have np.nan values. Hint: Use print function and f-strings to insert the indices values."
   ]
  },
  {
   "cell_type": "markdown",
   "id": "36e4c1d0",
   "metadata": {},
   "source": [
    "##### Solución: "
   ]
  },
  {
   "cell_type": "markdown",
   "id": "2dffe9a9",
   "metadata": {},
   "source": [
    "First, we find the first nan element with the index function."
   ]
  },
  {
   "cell_type": "code",
   "execution_count": 12,
   "id": "2d1bcf57",
   "metadata": {},
   "outputs": [],
   "source": [
    "nan_value_1 = f_list.index(np.nan)"
   ]
  },
  {
   "cell_type": "markdown",
   "id": "56da8843",
   "metadata": {},
   "source": [
    "Then, with the index function we find the second nan element starting at the first position."
   ]
  },
  {
   "cell_type": "code",
   "execution_count": 13,
   "id": "a06e9a18",
   "metadata": {},
   "outputs": [],
   "source": [
    "nan_value_2 = f_list.index(np.nan,1)"
   ]
  },
  {
   "cell_type": "markdown",
   "id": "871b2b4a",
   "metadata": {},
   "source": [
    "We find with the index function the third nan element starting in the second position."
   ]
  },
  {
   "cell_type": "code",
   "execution_count": 14,
   "id": "55023a34",
   "metadata": {},
   "outputs": [],
   "source": [
    "nan_value_3 = f_list.index(np.nan,2)"
   ]
  },
  {
   "cell_type": "markdown",
   "id": "6c1d3904",
   "metadata": {},
   "source": [
    "Finally, we find with the index function the last nan element starting in the fifth position."
   ]
  },
  {
   "cell_type": "code",
   "execution_count": 15,
   "id": "06a75fa3",
   "metadata": {},
   "outputs": [],
   "source": [
    "nan_value_4 = f_list.index(np.nan,5)"
   ]
  },
  {
   "cell_type": "markdown",
   "id": "e4819919",
   "metadata": {},
   "source": [
    "We make a print with the f-string function declaring in \"format\" all the values of type \"int\" found previously."
   ]
  },
  {
   "cell_type": "code",
   "execution_count": 16,
   "id": "e85b15d8",
   "metadata": {},
   "outputs": [
    {
     "name": "stdout",
     "output_type": "stream",
     "text": [
      "The indices 0, 1, 4, 7 have np.nan values\n"
     ]
    }
   ],
   "source": [
    "print(\"The indices {}, {}, {}, {} have np.nan values\".format(nan_value_1, nan_value_2, nan_value_3, nan_value_4))"
   ]
  },
  {
   "cell_type": "markdown",
   "id": "17c854cb",
   "metadata": {},
   "source": [
    "### Numeral 2:"
   ]
  },
  {
   "cell_type": "markdown",
   "id": "90aab686",
   "metadata": {},
   "source": [
    "Replicate 4 times the values of the list p2_list.Hint: Use multiplication functi on in lists and see the output."
   ]
  },
  {
   "cell_type": "markdown",
   "id": "93b6c715",
   "metadata": {},
   "source": [
    "##### Solución: "
   ]
  },
  {
   "cell_type": "markdown",
   "id": "41b6ec4c",
   "metadata": {},
   "source": [
    "First, we import \"operator\".\n",
    "Then, we create the list with the replica 4 times.\n",
    "Finally, we make a print to verify the elements of the list."
   ]
  },
  {
   "cell_type": "code",
   "execution_count": 17,
   "id": "43324163",
   "metadata": {},
   "outputs": [
    {
     "name": "stdout",
     "output_type": "stream",
     "text": [
      "[2, 3, 4, 5, 2, 3, 4, 5, 2, 3, 4, 5, 2, 3, 4, 5]\n"
     ]
    }
   ],
   "source": [
    "import operator\n",
    "multi_1 = operator.mul(p2_list,4)\n",
    "print(multi_1)"
   ]
  },
  {
   "cell_type": "markdown",
   "id": "47a0b45d",
   "metadata": {},
   "source": [
    "### Numeral 3:"
   ]
  },
  {
   "cell_type": "markdown",
   "id": "1366ebf5",
   "metadata": {},
   "source": [
    "Print the length of f_list. Hint: Length function"
   ]
  },
  {
   "cell_type": "markdown",
   "id": "a1448120",
   "metadata": {},
   "source": [
    "##### Solución:"
   ]
  },
  {
   "cell_type": "markdown",
   "id": "f5aba1bc",
   "metadata": {},
   "source": [
    "We use the length function and the print in the f_list."
   ]
  },
  {
   "cell_type": "code",
   "execution_count": 18,
   "id": "19997b50",
   "metadata": {},
   "outputs": [
    {
     "name": "stdout",
     "output_type": "stream",
     "text": [
      "8\n"
     ]
    }
   ],
   "source": [
    "print(len(f_list))"
   ]
  },
  {
   "cell_type": "markdown",
   "id": "b9658219",
   "metadata": {},
   "source": [
    "### Numeral 4:"
   ]
  },
  {
   "cell_type": "markdown",
   "id": "3c812cde",
   "metadata": {},
   "source": [
    "Print My teacher assistant is so boring. using text1 list. Hint: Use the join function"
   ]
  },
  {
   "cell_type": "markdown",
   "id": "8d7e9139",
   "metadata": {},
   "source": [
    "##### Solución: "
   ]
  },
  {
   "cell_type": "markdown",
   "id": "057adc06",
   "metadata": {},
   "source": [
    "First, we use the \"join\" function by prepending the respective space for the list phrase \"text1\"."
   ]
  },
  {
   "cell_type": "code",
   "execution_count": 19,
   "id": "57e1c0cc",
   "metadata": {},
   "outputs": [],
   "source": [
    "text1_str = ' '.join(text1)"
   ]
  },
  {
   "cell_type": "markdown",
   "id": "29a121a9",
   "metadata": {},
   "source": [
    "Finally, we perform the print."
   ]
  },
  {
   "cell_type": "code",
   "execution_count": 20,
   "id": "e2287bdd",
   "metadata": {},
   "outputs": [
    {
     "name": "stdout",
     "output_type": "stream",
     "text": [
      "My teacher assistant is so boring.\n"
     ]
    }
   ],
   "source": [
    "print(text1_str)"
   ]
  }
 ],
 "metadata": {
  "kernelspec": {
   "display_name": "Python 3 (ipykernel)",
   "language": "python",
   "name": "python3"
  },
  "language_info": {
   "codemirror_mode": {
    "name": "ipython",
    "version": 3
   },
   "file_extension": ".py",
   "mimetype": "text/x-python",
   "name": "python",
   "nbconvert_exporter": "python",
   "pygments_lexer": "ipython3",
   "version": "3.11.5"
  }
 },
 "nbformat": 4,
 "nbformat_minor": 5
}
