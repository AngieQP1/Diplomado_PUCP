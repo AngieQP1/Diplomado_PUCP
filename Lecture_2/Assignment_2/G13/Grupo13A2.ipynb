{
 "cells": [
  {
   "cell_type": "markdown",
   "id": "3ef2a780",
   "metadata": {},
   "source": [
    "# Trabajo grupal de Python"
   ]
  },
  {
   "cell_type": "markdown",
   "id": "630041a8",
   "metadata": {},
   "source": [
    "## Pregunta 1"
   ]
  },
  {
   "cell_type": "code",
   "execution_count": null,
   "id": "b1c2a52b",
   "metadata": {},
   "outputs": [],
   "source": [
    "tuple1 = (\"Orange\", [10, 20, 30], (5, 15, 25))\n",
    "tuple2 = ([7, 8], [9, 1], [10, 7])"
   ]
  },
  {
   "cell_type": "markdown",
   "id": "1ff2fb7c",
   "metadata": {},
   "source": [
    "### Pregunta 1.A"
   ]
  },
  {
   "cell_type": "code",
   "execution_count": 3,
   "id": "3fb7a9b6",
   "metadata": {},
   "outputs": [
    {
     "name": "stdout",
     "output_type": "stream",
     "text": [
      "El primer elemento de la seguda tupla es 10\n"
     ]
    }
   ],
   "source": [
    "print(f'El primer elemento de la seguda tupla es {tuple1[1][0]}')"
   ]
  },
  {
   "cell_type": "markdown",
   "id": "9c3a2603",
   "metadata": {},
   "source": [
    "### Pregunta 1.B"
   ]
  },
  {
   "cell_type": "code",
   "execution_count": 4,
   "id": "c2dc988a",
   "metadata": {},
   "outputs": [
    {
     "name": "stdout",
     "output_type": "stream",
     "text": [
      "Print the last item of the tuple1 object.Hint: Use indexing 25\n"
     ]
    }
   ],
   "source": [
    "print(f'the last item of the tuple1 object is {tuple1[2][2]}')"
   ]
  },
  {
   "cell_type": "markdown",
   "id": "44bfd0f5",
   "metadata": {},
   "source": [
    "### Pregunta 1.C\n",
    "\n",
    "Change the value \"orange\" for \"pink grapefruit\". Comment the output. Hint: Is it possible?"
   ]
  },
  {
   "cell_type": "markdown",
   "id": "7769cced",
   "metadata": {},
   "source": [
    "Tuples are immutable, when the tuple is created, its values cannot be changed."
   ]
  },
  {
   "cell_type": "code",
   "execution_count": 8,
   "id": "71f32574",
   "metadata": {},
   "outputs": [
    {
     "name": "stdout",
     "output_type": "stream",
     "text": [
      "Tuples are immutable\n"
     ]
    }
   ],
   "source": [
    "try:\n",
    "  tuple1[0] = \"pink grapefruit\"\n",
    "  print(tuple1)\n",
    "except Exception as e:\n",
    "  print('Tuples are immutable')"
   ]
  },
  {
   "cell_type": "markdown",
   "id": "9e5065be",
   "metadata": {},
   "source": [
    "### Pregunta 1.D\n",
    "Print the length of tuple1. Hint: Length function"
   ]
  },
  {
   "cell_type": "code",
   "execution_count": 12,
   "id": "72e0ade4",
   "metadata": {},
   "outputs": [
    {
     "name": "stdout",
     "output_type": "stream",
     "text": [
      "the length of tuple1 is 3\n"
     ]
    }
   ],
   "source": [
    "print(f'the length of tuple1 is {len(tuple1)}')"
   ]
  },
  {
   "cell_type": "markdown",
   "id": "96f3faa4",
   "metadata": {},
   "source": [
    "### Pregunta 1.E\n",
    "Sum all the elements of tuple2 and describe your steps and explain each of them. Hint: Use map function."
   ]
  },
  {
   "cell_type": "code",
   "execution_count": 15,
   "id": "6df7d99b",
   "metadata": {},
   "outputs": [
    {
     "name": "stdout",
     "output_type": "stream",
     "text": [
      "42\n"
     ]
    }
   ],
   "source": [
    "# create function to sum \n",
    "def suma(l):\n",
    "  return sum(l)\n",
    "\n",
    "# Apply function to each sublist of tuple2 using the `map()`\n",
    "r = map(suma, tuple2)\n",
    "\n",
    "# Convert the `map` object to a list and calculate the overall sum\n",
    "sumaTotal = sum(r)\n",
    "\n",
    "print(sumaTotal)"
   ]
  },
  {
   "cell_type": "markdown",
   "id": "6478794a",
   "metadata": {},
   "source": [
    "### Pregunta 1.F\n",
    "Generate a new tuple object named as tuple3 with the half values of tuple2. This tuple should be similar as tuple2, tuple of lists. Hint: Use map funciont."
   ]
  },
  {
   "cell_type": "code",
   "execution_count": 14,
   "id": "ab70a038",
   "metadata": {},
   "outputs": [
    {
     "name": "stdout",
     "output_type": "stream",
     "text": [
      "([3.5, 4.0], [4.5, 0.5], [5.0, 3.5])\n"
     ]
    }
   ],
   "source": [
    "# function to halve the elements of a list\n",
    "def mitad(lista):\n",
    "  return [e / 2 for e in lista]\n",
    "\n",
    "# Apply the `mitad` function to each sublist of tuple2 using the `map()` function\n",
    "mitad_valores = map(mitad, tuple2)\n",
    "\n",
    "# Convert the `map` object to a list and create a new tuple named `tuple3`\n",
    "tuple3 = tuple(mitad_valores)\n",
    "\n",
    "print(tuple3)"
   ]
  },
  {
   "cell_type": "code",
   "execution_count": null,
   "id": "f68e289d",
   "metadata": {},
   "outputs": [],
   "source": []
  }
 ],
 "metadata": {
  "kernelspec": {
   "display_name": "Python 3 (ipykernel)",
   "language": "python",
   "name": "python3"
  },
  "language_info": {
   "codemirror_mode": {
    "name": "ipython",
    "version": 3
   },
   "file_extension": ".py",
   "mimetype": "text/x-python",
   "name": "python",
   "nbconvert_exporter": "python",
   "pygments_lexer": "ipython3",
   "version": "3.11.5"
  }
 },
 "nbformat": 4,
 "nbformat_minor": 5
}
