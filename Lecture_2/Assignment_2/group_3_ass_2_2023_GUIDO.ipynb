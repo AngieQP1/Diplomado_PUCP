{
 "cells": [
  {
   "cell_type": "markdown",
   "id": "03d16f16",
   "metadata": {},
   "source": [
    "# SOLUCION DE LOS EJERCICIOS 2,3,4,5,6 DEL APARTADO 1.3 STRING\n",
    "## Get the number of letters in the string .Hint: Use lenfunction."
   ]
  },
  {
   "cell_type": "code",
   "execution_count": 2,
   "id": "db0770dd",
   "metadata": {},
   "outputs": [
    {
     "name": "stdout",
     "output_type": "stream",
     "text": [
      "el numero de letras en la cadena de texto es : 9\n"
     ]
    }
   ],
   "source": [
    "str1 = 'I am                            too                                                        old'\n",
    "emails = [\"cscornejo@pucp.edu.pe\", \"orellana.cn@pucp.edu.pe\", \"karina.morales@pucp.edu.pe\", \"a20083223@pucp.pe\", \"abel.camacho@pucp.pe\", \"mtintaya@pucp.edu.pe\", \"joselin.chavez@pucp.edu.pe\", \"a20105737@pucp.pe\", \"jfgomezc@pucp.pe\", \"afrania.palomino@pucp.pe\", \"luzon.bianca@pucp.pe\", \"adrian.suanaz@pucp.pe\", \"soto.y@pucp.edu.pe\", \"a20132766@pucp.pe\", \"andre.lama@pucp.edu.pe\", \"gustavo.meza@pucp.edu.pe\", \"pmlozada@pucp.edu.pe\", \"m.zambranoj@pucp.edu.pe\", \"nicolas.jacobs@pucp.edu.pe\", \"gvidal@pucp.edu.pe\", \"jane.torres@pucp.edu.pe\", \"m.lopez@pucp.edu.pe\", \"alejandro.boyco@pucp.edu.pe\", \"a20167070@pucp.edu.pe\", \"riega.stephy@pucp.edu.pe\", \"vlevanot@pucp.edu.pe\", \"sesquives@pucp.edu.pe\", \"perez.juanc@pucp.edu.pe\", \"mariana.otero@pucp.edu.pe\", \"aclavo@pucp.edu.pe\", \"a20182474@pucp.edu.pe\", \"josue.caldas@pucp.edu.pe\", \"fabio.salas@pucp.edu.pe\", \"fernanda.pizarro@pucp.edu.pe\", \"aquillatupa@pucp.pe\"]\n",
    "# seleccionamos primero las letras, filtramos\n",
    "texto=filter(str.isalpha,str1)\n",
    "num_letter=len(list(texto)) # aqui contamos las letras\n",
    "print(f\"el numero de letras en la cadena de texto es : {num_letter}\")# imprimimos las letras"
   ]
  },
  {
   "cell_type": "code",
   "execution_count": 4,
   "id": "7d41ebd4",
   "metadata": {},
   "outputs": [
    {
     "name": "stdout",
     "output_type": "stream",
     "text": [
      "el numero de espacios blancos en la cadena es : 85\n"
     ]
    }
   ],
   "source": [
    "# Get the number of blank spaces (all of them) in the string .Hint: Use lenfunction.\n",
    "#primero obetenemos  el tamaño de la cadena completa str1\n",
    "len_text=len(str1)\n",
    "space_white=len_text-num_letter# como ya tenemos el numero de letras\n",
    "print(f\"el numero de espacios blancos en la cadena es : {space_white}\")# restamos el total de la cadena - el tamaño de las letras y tenemos los espacios\n",
    "\n"
   ]
  },
  {
   "cell_type": "code",
   "execution_count": 5,
   "id": "f0ff93e8",
   "metadata": {},
   "outputs": [
    {
     "name": "stdout",
     "output_type": "stream",
     "text": [
      "las posiciones del caracter @ en los emails : [9, 11, 14, 9, 12, 8, 14, 9, 8, 16, 12, 13, 6, 9, 10, 12, 8, 11, 14, 6, 11, 7, 15, 9, 12, 8, 9, 11, 13, 6, 9, 12, 11, 16, 11]\n"
     ]
    }
   ],
   "source": [
    "# Get the position of @ in each string in the emails list. Hint: Use mapfunction and find method.\n",
    "# primero obtenemos las posiciones de @\n",
    "def posicition_arroba(emails):\n",
    "    return emails.find('@')\n",
    "\n",
    "# usamos map para aplicar la funcion a cada elemento\n",
    "posicion=list(map(posicition_arroba,emails))\n",
    "\n",
    "print(\"las posiciones del caracter @ en los emails :\",posicion)"
   ]
  },
  {
   "cell_type": "code",
   "execution_count": null,
   "id": "23c26b73",
   "metadata": {},
   "outputs": [],
   "source": [
    "# dentifies if exists .edu. in each string in the emails list. Get a list of Booleans. Hint: Use mapfunction and find method\n",
    "# de similar manera que el anterior pero como pide boolean usaremos lambda\n",
    " def existe_edu(email)\n",
    "    return email.find(r'\\.edu\\.') != -1\n",
    "    \n",
    "    # usamos map para aplicar la funcion a cada elemento de la lista\n",
    "    edu_existe = list(map(existe_edu,emails))\n",
    "    \n",
    "    print(f\"existe .edu. en cada correo : {edu_existe}\")\n",
    "    "
   ]
  },
  {
   "cell_type": "code",
   "execution_count": null,
   "id": "797fdd60",
   "metadata": {},
   "outputs": [],
   "source": [
    "#Get all the strings before the first dot .in each string in the emails list. Identifies how many of them has @. Hint: Use mapfunction and find method.\n",
    "# usamos map para obtener cadenas antes del punto\n",
    "prepoint=list(map(lambda email: email.split('.')[0],emails))\n",
    "#ahjora obtebemos las arrobas de esas cadenas \n",
    "arrobas=sum(map(lambda arroba: '@' in arroba, prepoint))\n",
    "print(f\" cantidad de arrobas antes del primer punto: {arrobas}\")"
   ]
  }
 ],
 "metadata": {
  "kernelspec": {
   "display_name": "Python 3 (ipykernel)",
   "language": "python",
   "name": "python3"
  },
  "language_info": {
   "codemirror_mode": {
    "name": "ipython",
    "version": 3
   },
   "file_extension": ".py",
   "mimetype": "text/x-python",
   "name": "python",
   "nbconvert_exporter": "python",
   "pygments_lexer": "ipython3",
   "version": "3.11.5"
  }
 },
 "nbformat": 4,
 "nbformat_minor": 5
}
