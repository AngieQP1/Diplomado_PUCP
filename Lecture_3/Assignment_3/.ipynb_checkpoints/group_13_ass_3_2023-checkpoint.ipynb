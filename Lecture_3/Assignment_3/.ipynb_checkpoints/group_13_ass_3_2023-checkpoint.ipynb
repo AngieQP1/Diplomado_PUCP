{
 "cells": [
  {
   "cell_type": "code",
   "execution_count": 1,
   "id": "b0da74cf",
   "metadata": {},
   "outputs": [],
   "source": [
    "import os\n",
    "import pickle\n",
    "import pandas as pd\n",
    "import numpy as np\n",
    "import urllib.request"
   ]
  },
  {
   "cell_type": "markdown",
   "id": "7f3cd6e3",
   "metadata": {},
   "source": [
    "### Pregunta1\n",
    "Import the REC0111.sav, RE223132.sav and RE516171.sav files and their variables and values labels from this path \"../../_data/endes/2019\". The name of imported files should be named as rec_1, rec_2 and rec_3 for files REC0111.sav, RE223132.sav and RE516171.sav respectively. The name of the variable and value labels should be var_labels1 and value_labels1 for rec1, var_labels2 and value_labels2 for rec2, and var_labels3 and value_labels3 for rec3"
   ]
  },
  {
   "cell_type": "code",
   "execution_count": 3,
   "id": "860bb941",
   "metadata": {},
   "outputs": [],
   "source": [
    "p = '''../../_data/endes/2019'''\n",
    "d1 = p+'''/REC0111.sav'''\n",
    "d2 = p+'''/RE223132.sav'''\n",
    "d3 = p+'''/RE516171.sav'''\n",
    "\n",
    "rec_1 = pd.read_spss(d1)\n",
    "rec_2 = pd.read_spss(d2)\n",
    "rec_3 = pd.read_spss(d3)\n"
   ]
  },
  {
   "cell_type": "code",
   "execution_count": 5,
   "id": "5b7879cb",
   "metadata": {},
   "outputs": [
    {
     "data": {
      "text/plain": [
       "'/Users/danielmontjoy/Documents/GitHub/Diplomado_PUCP/Lecture_3'"
      ]
     },
     "execution_count": 5,
     "metadata": {},
     "output_type": "execute_result"
    }
   ],
   "source": [
    "pwd"
   ]
  },
  {
   "cell_type": "code",
   "execution_count": null,
   "id": "9a146dda",
   "metadata": {},
   "outputs": [],
   "source": []
  }
 ],
 "metadata": {
  "kernelspec": {
   "display_name": "Python 3 (ipykernel)",
   "language": "python",
   "name": "python3"
  },
  "language_info": {
   "codemirror_mode": {
    "name": "ipython",
    "version": 3
   },
   "file_extension": ".py",
   "mimetype": "text/x-python",
   "name": "python",
   "nbconvert_exporter": "python",
   "pygments_lexer": "ipython3",
   "version": "3.11.3"
  }
 },
 "nbformat": 4,
 "nbformat_minor": 5
}
