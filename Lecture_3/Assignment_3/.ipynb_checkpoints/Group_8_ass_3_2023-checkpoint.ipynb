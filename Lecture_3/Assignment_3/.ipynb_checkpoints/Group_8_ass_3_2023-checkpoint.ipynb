{
 "cells": [
  {
   "cell_type": "markdown",
   "metadata": {},
   "source": [
    "# 1 Assignment 3"
   ]
  },
  {
   "cell_type": "code",
   "execution_count": 2,
   "metadata": {},
   "outputs": [
    {
     "name": "stdout",
     "output_type": "stream",
     "text": [
      "Requirement already satisfied: pyreadstat in /Users/claudiaplasenciacustodio/anaconda3/lib/python3.11/site-packages (1.2.5)\n",
      "Requirement already satisfied: pandas>=1.2.0 in /Users/claudiaplasenciacustodio/anaconda3/lib/python3.11/site-packages (from pyreadstat) (2.0.3)\n",
      "Requirement already satisfied: python-dateutil>=2.8.2 in /Users/claudiaplasenciacustodio/anaconda3/lib/python3.11/site-packages (from pandas>=1.2.0->pyreadstat) (2.8.2)\n",
      "Requirement already satisfied: pytz>=2020.1 in /Users/claudiaplasenciacustodio/anaconda3/lib/python3.11/site-packages (from pandas>=1.2.0->pyreadstat) (2023.3.post1)\n",
      "Requirement already satisfied: tzdata>=2022.1 in /Users/claudiaplasenciacustodio/anaconda3/lib/python3.11/site-packages (from pandas>=1.2.0->pyreadstat) (2023.3)\n",
      "Requirement already satisfied: numpy>=1.21.0 in /Users/claudiaplasenciacustodio/anaconda3/lib/python3.11/site-packages (from pandas>=1.2.0->pyreadstat) (1.24.3)\n",
      "Requirement already satisfied: six>=1.5 in /Users/claudiaplasenciacustodio/anaconda3/lib/python3.11/site-packages (from python-dateutil>=2.8.2->pandas>=1.2.0->pyreadstat) (1.16.0)\n"
     ]
    }
   ],
   "source": [
    "!pip install pyreadstat #Se instala el paquete pyreadstat"
   ]
  },
  {
   "cell_type": "code",
   "execution_count": 3,
   "metadata": {},
   "outputs": [],
   "source": [
    "import os\n",
    "import os\n",
    "import pickle\n",
    "import pandas as pd\n",
    "import numpy as np\n",
    "import urllib.request\n",
    "import pyreadstat\n",
    "#Se importa los paquetes"
   ]
  },
  {
   "cell_type": "markdown",
   "metadata": {},
   "source": [
    "## 1. Import the `REC0111.sav`, `RE223132.sav` and `RE516171.sav` files and their variables and values labels from this path `\"../../_data/endes/2019\"`. \n",
    "The name of imported files should be named as `rec_1`, `rec_2` and `rec_3` for files `REC0111.sav`, `RE223132.sav` and `RE516171.sav` respectively. The name of the variable and value labels should be `var_labels1` and `value_labels1` for `rec1`, `var_labels2` and `value_labels2` for `rec2`, and `var_labels3` and `value_labels3` for `rec3`. **Hint: See the section 3.3.4 of [the lecture 3](https://github.com/alexanderquispe/Diplomado_PUCP/blob/main/Lecture_3/Lecture_3.ipynb)**"
   ]
  },
  {
   "cell_type": "code",
   "execution_count": 17,
   "metadata": {},
   "outputs": [],
   "source": [
    "#Se nombra a las bases de datos en base a las indicaciones y se nombra a las variables y valores. \n",
    "#Se repite el codigo en las tres bases de datos\n",
    "rec_1, meta_1 = pyreadstat.read_sav( '../../_data/endes/2019/REC0111.sav' )\n",
    "\n",
    "var_labels1 = meta_1.column_names_to_labels\n",
    "\n",
    "value_labels1 = meta_1.variable_value_labels"
   ]
  },
  {
   "cell_type": "code",
   "execution_count": 18,
   "metadata": {},
   "outputs": [],
   "source": [
    "rec_2, meta_2 = pyreadstat.read_sav( '../../_data/endes/2019/RE223132.sav' )\n",
    "\n",
    "var_labels2 = meta_2.column_names_to_labels\n",
    "\n",
    "value_labels2 = meta_2.variable_value_labels"
   ]
  },
  {
   "cell_type": "code",
   "execution_count": 19,
   "metadata": {},
   "outputs": [],
   "source": [
    "rec_3, meta_3 = pyreadstat.read_sav( '../../_data/endes/2019/RE516171.sav' )\n",
    "\n",
    "var_labels3 = meta_3.column_names_to_labels\n",
    "\n",
    "value_labels3 = meta_3.variable_value_labels"
   ]
  },
  {
   "cell_type": "code",
   "execution_count": 21,
   "metadata": {},
   "outputs": [
    {
     "data": {
      "text/plain": [
       "<pyreadstat._readstat_parser.metadata_container at 0x106417210>"
      ]
     },
     "execution_count": 21,
     "metadata": {},
     "output_type": "execute_result"
    }
   ],
   "source": [
    "meta_1"
   ]
  },
  {
   "cell_type": "code",
   "execution_count": 42,
   "metadata": {},
   "outputs": [
    {
     "data": {
      "text/plain": [
       "{'ID1': 'Año',\n",
       " 'HHID': 'Identificación Cuestionario del Hogar',\n",
       " 'CASEID': 'Identificación Cuestionario Individual',\n",
       " 'V001': 'Conglomerado',\n",
       " 'V002': 'Número de vivienda',\n",
       " 'V003': 'Número de línea de entrevistada',\n",
       " 'V004': 'Unidad de área final',\n",
       " 'V007': 'Año de la entrevista',\n",
       " 'V008': 'Fecha de la entrevista, Codificación centenaria de meses (CMC)',\n",
       " 'V009': 'Mes de nacimiento de la entrevistada',\n",
       " 'V010': 'Año de nacimiento de la entrevistada',\n",
       " 'V011': 'Fecha de nacimiento, Codificación centenaria de meses (CMC)',\n",
       " 'V012': 'Edad actual - entrevistada',\n",
       " 'V013': 'Edad actual por grupos de 5 años',\n",
       " 'V014': 'Integridad de la información para la fecha de nacimiento',\n",
       " 'V015': 'Resultado entrevista individual',\n",
       " 'V017': 'Inicio del calendario, Codificación centenaria de mesesl CMC',\n",
       " 'V018': 'Columna del mes de la entrevista',\n",
       " 'V019': 'Duración del calendario',\n",
       " 'V019A': 'Número de columnas de calendario',\n",
       " 'V020': 'Muestra alguna vez casada',\n",
       " 'V021': 'Unidad de muestreo primario - conglomerado',\n",
       " 'V023': 'Dominio de ejemplo - Departamento',\n",
       " 'V024': 'Región',\n",
       " 'V025': 'Tipo de lugar de residencia',\n",
       " 'V026': 'El lugar de residencia en el que se entrevistó - De Facto',\n",
       " 'V027': 'Número de visitas',\n",
       " 'V028': 'Identificación del entrevistador',\n",
       " 'V029': 'Identificador del digitador',\n",
       " 'V030': 'Supervisor de campo',\n",
       " 'V031': 'Editor de campo',\n",
       " 'V032': 'Editor de la oficina',\n",
       " 'V033': 'Selección final del área de probabilidad',\n",
       " 'V034': 'Número de orden del esposo',\n",
       " 'V040': 'Altitud del conglomerado en metros',\n",
       " 'V042': 'Selección de hogar para hemoglobina',\n",
       " 'V043': 'Selección para módulo de estatus de mujeres',\n",
       " 'V044': 'Selección para módulo de violencia domestica',\n",
       " 'V000': 'Código y fase del país',\n",
       " 'Q105DD': 'Dia de nacimeinto de la entrevistada',\n",
       " 'V101': 'Región',\n",
       " 'V102': 'Tipo de lugar de residencia',\n",
       " 'V103': 'Lugar de residencia de la infancia',\n",
       " 'V104': 'Cuanto tiempo tiene viviendo continuamente en el lugar de residencia actual',\n",
       " 'V105': 'Tipo de lugar de residencia anteriormente',\n",
       " 'V106': 'Nivel educativo más alto',\n",
       " 'V107': 'Año/grado de educación más alto aprobado',\n",
       " 'V113': 'Fuente principal de abasteciemiento de agua potable que utilizan en su hogar para tomar o beber',\n",
       " 'V115': 'Tiempo para llegar a la fuente de agua',\n",
       " 'V116': 'Tipo de instalación sanitaria',\n",
       " 'V119': 'En su hogar tiene: electricidad',\n",
       " 'V120': 'En su hogar tiene: radio',\n",
       " 'V121': 'En su hogar tiene: televisión',\n",
       " 'V122': 'En su hogar tiene: refrigerador',\n",
       " 'V123': 'En su hogar tiene: bicicleta',\n",
       " 'V124': 'En su hogar tiene: motocicleta/motocar',\n",
       " 'V125': 'En su hogar tiene: coche/camión',\n",
       " 'V127': 'Material predominante del piso de la vivienda',\n",
       " 'V128': 'Material predominante de las paredes exteriores de la vivienda',\n",
       " 'V129': 'Material predominante del techo de la vivienda',\n",
       " 'V130': 'Religión',\n",
       " 'V131': 'Etnicidad',\n",
       " 'V133': 'Educación en años simples',\n",
       " 'V134': 'El lugar en el que se realizó la entrevista  De-facto',\n",
       " 'V135': 'Residente habitual o visitante',\n",
       " 'V136': 'Número de miembros del hogar',\n",
       " 'V137': 'Número de niños de 6 años de edad',\n",
       " 'V138': 'Número de mujeres de 15 a 49 años de edad elegibles en el hogar',\n",
       " 'V139': 'Región, residencia habitual De-jure',\n",
       " 'V140': 'Tipo de área de residencia De-jure',\n",
       " 'V141': 'Lugar de residencia De-jure',\n",
       " 'V149': 'Logro educativo',\n",
       " 'V150': 'Relación con el jefe del hogar',\n",
       " 'V151': 'Sexo del Jefe del Hogar',\n",
       " 'V152': 'Edad del jefe del hogar',\n",
       " 'V153': 'En su hogar tiene: teléfono',\n",
       " 'AWFACTT': 'Factor todas las mujeres - total',\n",
       " 'AWFACTU': 'Factor todas las mujeres - urbano/rural',\n",
       " 'AWFACTR': 'Factor todas las mujeres - regional',\n",
       " 'AWFACTE': 'Factor todas las mujeres - educación',\n",
       " 'AWFACTW': 'Factor todas las mujeres - índice de riqueza',\n",
       " 'V155': 'Alfabetización',\n",
       " 'V156': 'Alguna vez participó en un programa de alfabetización (no incluyendo la escuela primaria)',\n",
       " 'V157': 'Frecuencia de lectura de un periódico o revista',\n",
       " 'V158': 'Frecuencia de escuchar radio',\n",
       " 'V159': 'Frecuencia de ver televisión',\n",
       " 'V160': 'Baño compartido con otros hogares',\n",
       " 'V161': 'Tipo de combustible para cocinar',\n",
       " 'V166': 'Resultados de la prueba del yodo en la sal',\n",
       " 'V167': 'Número de viajes en los últimos 12 meses',\n",
       " 'V168': 'Afuera más de un mes en los últimos 12 meses',\n",
       " 'ML101': 'Tipo de mosquitero que utilizo para dormir última noche',\n",
       " 'QD333_1': 'Alguna dificultad o limitación permanente para ver, aún usando anteojos',\n",
       " 'QD333_2': 'Alguna dificultad o limitación permanente para oir, aún usando audífonos',\n",
       " 'QD333_3': 'Alguna dificultad o limitación permanente para hablar o comunicarse, aún usando la lengua de señas u otro',\n",
       " 'QD333_4': 'Alguna dificultad o limitación permanente para moverse o caminar para usar brazos y/o piernas',\n",
       " 'QD333_5': 'Alguna dificultad o limitación permanente para entender o aprender (concentrarse y recordarse)',\n",
       " 'QD333_6': 'Alguna dificultad o limitación permanente para relacionarse con los demás, por sus pensamientos, sentimientos, emociones o conductas',\n",
       " 'UBIGEO': 'Código de Ubicación Gegráfica',\n",
       " 'V022': 'Estratos',\n",
       " 'V005': 'Factor de ponderacion',\n",
       " 'V190': 'Índice de riqueza',\n",
       " 'V191': 'Factor de puntuación del índice de riqueza (5 decimales)',\n",
       " 'mujeres12a49': 'Mujeres de 12 a 49 años de edad',\n",
       " 'NCONGLOME': 'Número de Conglomerado (proveniente del marco)'}"
      ]
     },
     "execution_count": 42,
     "metadata": {},
     "output_type": "execute_result"
    }
   ],
   "source": [
    "var_labels1"
   ]
  },
  {
   "cell_type": "markdown",
   "metadata": {},
   "source": [
    "## 2. Select the following columns for each data set:\n",
    "|Data|Columns|\n",
    "|---|---|\n",
    "|rec1| CASEID, V000, V001, V002, V003, V004, V007, V008, V009, V010, V011, V012, V024, V102, V120, V121, V122, V123, V124, V125, V127, V133 |\n",
    "|rec2| CASEID, V201, V218, V301, V302, V323, V323A, V325A, V326, V327, V337, V359, V360, V361, V362, V363, V364, V367, V372, V372A, V375A, V376, V376A, V379, V380 |\n",
    "|rec3| CASEID, V501, V502, V503, V504, V505, V506, V507, V508, V509, V510, V511, V512, V513, V525, V613, V714, V715 |\n",
    "\n",
    "\n",
    "Additioanlly, you should update the variables and value labels objects. They must have information only for the selected columns. The new dataframes should be name as `rec1_1`, `rec2_1`, and `rec3_1`. The new varible labels objects should be named as `new_var_labels1`, `new_var_labels2`, and `new_var_labels3`. The new value labels objects should be named as `new_value_labels1`, `new_value_labels2`, and `new_value_labels3` **Hint: Use the `loc` and column names to filter. Update the dictionary.**"
   ]
  },
  {
   "cell_type": "code",
   "execution_count": 25,
   "metadata": {},
   "outputs": [],
   "source": [
    "rec1_1 = rec_1.loc[ : ,['CASEID', 'V000', 'V001', 'V002', 'V003', 'V004', 'V007', 'V008', 'V009', 'V010', 'V011', 'V012', 'V024', 'V102', 'V120', 'V121', 'V122', 'V123', 'V124', 'V125', 'V127', 'V133']]\n",
    "rec2_1 = rec_2.loc[ : ,['CASEID', 'V201', 'V218', 'V301', 'V302', 'V323', 'V323A', 'V325A', 'V326', 'V327', 'V337', 'V359', 'V360', 'V361', 'V362', 'V363', 'V364', 'V367', 'V372', 'V372A', 'V375A', 'V376', 'V376A', 'V379', 'V380']]\n",
    "rec3_1 = rec_3.loc[ : ,['CASEID', 'V501', 'V502', 'V503', 'V504', 'V505', 'V506', 'V507', 'V508', 'V509', 'V510', 'V511', 'V512', 'V513', 'V525', 'V613', 'V714', 'V715']]\n",
    "#Se selecciona las columnas para el siguiente dataframe \n",
    "#Se repite el procedimiento con las demás dataframe"
   ]
  },
  {
   "cell_type": "code",
   "execution_count": 40,
   "metadata": {},
   "outputs": [
    {
     "data": {
      "text/plain": [
       "38335"
      ]
     },
     "execution_count": 40,
     "metadata": {},
     "output_type": "execute_result"
    }
   ],
   "source": [
    "len(rec1_1)"
   ]
  },
  {
   "cell_type": "code",
   "execution_count": 35,
   "metadata": {},
   "outputs": [],
   "source": [
    "new_columns_1 = rec1_1.columns.values \n",
    "#estamos interesados en quedarnos con las etiquetas de variables y de valores que apliquen para las variables de la base acotada \n",
    "new_value_labels1 = { column:value for ( column, value ) in value_labels1.items() if column in new_columns_1 } #Por ello generamos nuevos diccionarios para las etiquetas que cumplan la condición de que sus llaves forman parte del array de strings: new_keys1, new_keys2 y new_keys3 (según corresponda)\n",
    "new_var_labels1 = { column:value for ( column, value ) in var_labels1.items() if column in new_columns_1 }\n",
    "\n",
    "#replicamos el código previo para la base acotada de RE223132\n",
    "new_columns_2 = rec2_1.columns.values\n",
    "new_value_labels2 = { column:value for ( column, value ) in value_labels2.items() if column in new_columns_2 }\n",
    "new_var_labels2 = { column:value for ( column, value ) in var_labels2.items() if column in new_columns_2 }\n",
    "\n",
    "#replicamos el código previo para la base acotada de RE516171 \n",
    "new_columns_3 = rec3_1.columns.values\n",
    "new_value_labels3 = { column:value for ( column, value ) in value_labels3.items() if column in new_columns_3 }\n",
    "new_var_labels3 = { column:value for ( column, value ) in var_labels3.items() if column in new_columns_3 }"
   ]
  },
  {
   "cell_type": "code",
   "execution_count": 33,
   "metadata": {},
   "outputs": [
    {
     "data": {
      "text/plain": [
       "10"
      ]
     },
     "execution_count": 33,
     "metadata": {},
     "output_type": "execute_result"
    }
   ],
   "source": [
    "len(new_value_labels1)"
   ]
  },
  {
   "cell_type": "markdown",
   "metadata": {},
   "source": [
    "## 3. Generate a new column for `rec1_1` named as `year`.\n",
    "It should be equal to `2019`. Also, you must update this new variable for the `var_labels` dictionary. Generate a new key for `new_var_labels1` and the value for this key should be **\"Year of the survey\"** **Hint: Use `loc` and `update` method.**"
   ]
  },
  {
   "cell_type": "code",
   "execution_count": 48,
   "metadata": {},
   "outputs": [],
   "source": [
    "rec1_1.loc[:,\"year\"] = 2019"
   ]
  },
  {
   "cell_type": "code",
   "execution_count": 49,
   "metadata": {},
   "outputs": [],
   "source": [
    "new_var_labels1.update({\"year\": \"Year of the survey\"})"
   ]
  },
  {
   "cell_type": "code",
   "execution_count": 50,
   "metadata": {},
   "outputs": [
    {
     "data": {
      "text/plain": [
       "{'CASEID': 'Identificación Cuestionario Individual',\n",
       " 'V001': 'Conglomerado',\n",
       " 'V002': 'Número de vivienda',\n",
       " 'V003': 'Número de línea de entrevistada',\n",
       " 'V004': 'Unidad de área final',\n",
       " 'V007': 'Año de la entrevista',\n",
       " 'V008': 'Fecha de la entrevista, Codificación centenaria de meses (CMC)',\n",
       " 'V009': 'Mes de nacimiento de la entrevistada',\n",
       " 'V010': 'Año de nacimiento de la entrevistada',\n",
       " 'V011': 'Fecha de nacimiento, Codificación centenaria de meses (CMC)',\n",
       " 'V012': 'Edad actual - entrevistada',\n",
       " 'V024': 'Región',\n",
       " 'V000': 'Código y fase del país',\n",
       " 'V102': 'Tipo de lugar de residencia',\n",
       " 'V120': 'En su hogar tiene: radio',\n",
       " 'V121': 'En su hogar tiene: televisión',\n",
       " 'V122': 'En su hogar tiene: refrigerador',\n",
       " 'V123': 'En su hogar tiene: bicicleta',\n",
       " 'V124': 'En su hogar tiene: motocicleta/motocar',\n",
       " 'V125': 'En su hogar tiene: coche/camión',\n",
       " 'V127': 'Material predominante del piso de la vivienda',\n",
       " 'V133': 'Educación en años simples',\n",
       " 'year': 'Year of the survey'}"
      ]
     },
     "execution_count": 50,
     "metadata": {},
     "output_type": "execute_result"
    }
   ],
   "source": [
    "new_var_labels1"
   ]
  },
  {
   "cell_type": "markdown",
   "metadata": {},
   "source": [
    "## 4. Merge `rec1_1`, `rec2_1`, and `rec3_1` using **CASEID**. \n",
    "Name this new object as `endes_2019`. **Hint: Use [this link](https://stackoverflow.com/questions/53645882/pandas-merging-101)**"
   ]
  },
  {
   "cell_type": "markdown",
   "metadata": {},
   "source": [
    "## 5. Unify all the `new_var_labels` in one object and `new_value_labels` in another one object. \n",
    "Name these two objects as `var_labels` and `value_labels`. Use them to generate new attributes for `endes_2019`. These attributes should be named as `var_labels` and `value_labels`. **Hint: Use `update` method.**"
   ]
  },
  {
   "cell_type": "markdown",
   "metadata": {},
   "source": [
    "## 6. Get the min, max, sd, n_obs, n_missing for the following columns **total children ever born (V201)**, **Ideal number of children (V613)**, **Husbands education-single yrs (V715)**, and **Age at first marriage (V511)**. \n",
    "We want a dataframe with the following columns **Variables, Min, Max, Mean, N_obs, N_missing** and sort by the number of missing rows. **Hint: Use `describe` and `pivot` methods**"
   ]
  },
  {
   "cell_type": "markdown",
   "metadata": {},
   "source": [
    "## 7. Use `endes_2019` data to generate a new object named `mean_key_vars` to find the mean of **total children ever born (V201)**, **Ideal number of children (V613)**, **Husbands education-single yrs (V715)**, and **Age at first marriage (V511)** by year and department **(V024)**. \n",
    "Name these columns as **mean_total_children, mean_ideal_children, mean_hb_yr_educ and mean_first_marriage**, respectively. **Hint: Use groupby and [this link](https://stackoverflow.com/questions/40901770/is-there-a-simple-way-to-change-a-column-of-yes-no-to-1-0-in-a-pandas-dataframe).**"
   ]
  },
  {
   "cell_type": "markdown",
   "metadata": {},
   "source": [
    "## 8. Reshape `mean_key_vars` from wide to long. \n",
    "We want a dataframe with three columns **dpto, variables, values**. Name this object as `reshape_mean_key_vars`. **Hint: Use melt method**."
   ]
  },
  {
   "cell_type": "markdown",
   "metadata": {},
   "source": [
    "## 9. Replicate your answers for questions 7 and 8, but in one line of code.\n",
    "Make it the most simple as possible. **NO HINT**"
   ]
  },
  {
   "cell_type": "markdown",
   "metadata": {},
   "source": [
    "## 10. Merge `reshape_mean_key_vars` with `endes_2019`. \n",
    "Name this object `final_result`. **Hint: Use merge.**"
   ]
  },
  {
   "cell_type": "code",
   "execution_count": null,
   "metadata": {},
   "outputs": [],
   "source": []
  }
 ],
 "metadata": {
  "hide_input": false,
  "kernelspec": {
   "display_name": "Python 3 (ipykernel)",
   "language": "python",
   "name": "python3"
  },
  "language_info": {
   "codemirror_mode": {
    "name": "ipython",
    "version": 3
   },
   "file_extension": ".py",
   "mimetype": "text/x-python",
   "name": "python",
   "nbconvert_exporter": "python",
   "pygments_lexer": "ipython3",
   "version": "3.11.5"
  },
  "toc": {
   "base_numbering": 1,
   "nav_menu": {},
   "number_sections": true,
   "sideBar": true,
   "skip_h1_title": false,
   "title_cell": "Table of Contents",
   "title_sidebar": "Contents",
   "toc_cell": false,
   "toc_position": {},
   "toc_section_display": true,
   "toc_window_display": false
  }
 },
 "nbformat": 4,
 "nbformat_minor": 4
}
