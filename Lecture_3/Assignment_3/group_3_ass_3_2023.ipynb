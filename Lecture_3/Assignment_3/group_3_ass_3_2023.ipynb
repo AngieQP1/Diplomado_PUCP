{
 "cells": [
  {
   "cell_type": "markdown",
   "metadata": {},
   "source": [
    "# 1 Assignment 3"
   ]
  },
  {
   "cell_type": "code",
   "execution_count": null,
   "metadata": {},
   "outputs": [],
   "source": [
    "import os\n",
    "import os\n",
    "import pickle\n",
    "import pandas as pd\n",
    "import numpy as np\n",
    "import urllib.request"
   ]
  },
  {
   "cell_type": "markdown",
   "metadata": {},
   "source": [
    "1. Import the `REC0111.sav`, `RE223132.sav` and `RE516171.sav` files and their variables and values labels from this path `\"../../_data/endes/2019\"`. The name of imported files should be named as `rec_1`, `rec_2` and `rec_3` for files `REC0111.sav`, `RE223132.sav` and `RE516171.sav` respectively. The name of the variable and value labels should be `var_labels1` and `value_labels1` for `rec1`, `var_labels2` and `value_labels2` for `rec2`, and `var_labels3` and `value_labels3` for `rec3`. **Hint: See the section 3.3.4 of [the lecture 3](https://github.com/alexanderquispe/Diplomado_PUCP/blob/main/Lecture_3/Lecture_3.ipynb)**"
   ]
  },
  {
   "cell_type": "code",
   "execution_count": null,
   "metadata": {},
   "outputs": [],
   "source": [
    "#!pip install pyreadstat .........\n",
    "#!pip install pyreadstat\n",
    "import pyreadstat\n",
    "#pyreadstat.read_sav('../../_data/endes/2019/REC0111.sav')\n",
    "rec_1, meta = pyreadstat.read_sav('../../_data/endes/2019/REC0111.sav')\n",
    "rec_1"
   ]
  },
  {
   "cell_type": "code",
   "execution_count": null,
   "metadata": {},
   "outputs": [],
   "source": [
    "var_labels1 = meta.variable_value_labels\n",
    "value_labels1 = meta.value_labels\n",
    "value_labels1 "
   ]
  },
  {
   "cell_type": "code",
   "execution_count": null,
   "metadata": {},
   "outputs": [],
   "source": [
    "rec_2, meta = pyreadstat.read_sav('../../_data/endes/2019/RE223132.sav')\n",
    "rec_2"
   ]
  },
  {
   "cell_type": "code",
   "execution_count": null,
   "metadata": {},
   "outputs": [],
   "source": [
    "var_labels2 = meta.variable_value_labels\n",
    "value_labels2 = meta.value_labels\n",
    "value_labels2"
   ]
  },
  {
   "cell_type": "code",
   "execution_count": null,
   "metadata": {},
   "outputs": [],
   "source": [
    "rec_3, meta = pyreadstat.read_sav('../../_data/endes/2019/RE516171.sav')\n",
    "var_labels3 = meta.variable_value_labels\n",
    "value_labels3 = meta.value_labels\n",
    "value_labels3"
   ]
  },
  {
   "cell_type": "markdown",
   "metadata": {},
   "source": [
    "2. Select the following columns for each data set:\n",
    "|Data|Columns|\n",
    "|---|---|\n",
    "|rec1| CASEID, V000, V001, V002, V003, V004, V007, V008, V009, V010, V011, V012, V024, V102, V120, V121, V122, V123, V124, V125, V127, V133 |\n",
    "|rec2| CASEID, V201, V218, V301, V302, V323, V323A, V325A, V326, V327, V337, V359, V360, V361, V362, V363, V364, V367, V372, V372A, V375A, V376, V376A, V379, V380 |\n",
    "|rec3| CASEID, V501, V502, V503, V504, V505, V506, V507, V508, V509, V510, V511, V512, V513, V525, V613, V714, V715 |\n",
    "\n",
    "\n",
    "Additioanlly, you should update the variables and value labels objects. They must have information only for the selected columns. The new dataframes should be name as `rec1_1`, `rec2_1`, and `rec3_1`. The new varible labels objects should be named as `new_var_labels1`, `new_var_labels2`, and `new_var_labels3`. The new value labels objects should be named as `new_value_labels1`, `new_value_labels2`, and `new_value_labels3` **Hint: Use the `loc` and column names to filter. Update the dictionary.**"
   ]
  },
  {
   "cell_type": "code",
   "execution_count": null,
   "metadata": {},
   "outputs": [],
   "source": [
    "columnas_rec1 = ['CASEID', 'V000', 'V001', 'V002', 'V003', 'V004', 'V007', 'V008', 'V009', 'V010', 'V011', 'V012', 'V024', 'V102', 'V120', 'V121', 'V122', 'V123', 'V124', 'V125', 'V127', 'V133']\n",
    "rec1_1 = rec_1.loc[:, columnas_rec1]\n",
    "new_var_labels1 = {k: var_labels1[k] for k in columnas_rec1 if k in var_labels1}\n",
    "new_value_labels1 = {k: value_labels1[k] for k in columnas_rec1 if k in value_labels1}\n",
    "columnas_rec1"
   ]
  },
  {
   "cell_type": "code",
   "execution_count": null,
   "metadata": {},
   "outputs": [],
   "source": [
    "columnas_rec2 = ['CASEID', 'V201', 'V218', 'V301', 'V302', 'V323', 'V323A', 'V325A', 'V326', 'V327', 'V337', 'V359', 'V360', 'V361', 'V362', 'V363', 'V364', 'V367', 'V372', 'V372A', 'V375A', 'V376', 'V376A', 'V379', 'V380']\n",
    "rec2_1 = rec_2.loc[:, columnas_rec2]\n",
    "new_var_labels2 = {k: var_labels2[k] for k in columnas_rec2 if k in var_labels2}\n",
    "new_value_labels2 = {k: value_labels2[k] for k in columnas_rec2 if k in value_labels2}"
   ]
  },
  {
   "cell_type": "code",
   "execution_count": null,
   "metadata": {},
   "outputs": [],
   "source": [
    "columnas_rec3 = ['CASEID', 'V501', 'V502', 'V503', 'V504', 'V505', 'V506', 'V507', 'V508', 'V509', 'V510', 'V511', 'V512', 'V513', 'V525', 'V613', 'V714', 'V715']\n",
    "rec3_1 = rec_3.loc[:, columnas_rec3]\n",
    "new_var_labels3 = {k: var_labels3[k] for k in columnas_rec3 if k in var_labels3}\n",
    "new_value_labels3 = {k: value_labels3[k] for k in columnas_rec3 if k in value_labels3}"
   ]
  },
  {
   "cell_type": "code",
   "execution_count": null,
   "metadata": {},
   "outputs": [],
   "source": [
    "print(rec_1.dtypes)"
   ]
  },
  {
   "cell_type": "code",
   "execution_count": null,
   "metadata": {},
   "outputs": [],
   "source": [
    "rec1_1['year'] = 2019\n",
    "rec1_1"
   ]
  },
  {
   "cell_type": "markdown",
   "metadata": {},
   "source": [
    "3. Generate a new column for `rec1_1` named as `year`. It should be equal to `2019`. Also, you must update this new variable for the `var_labels` dictionary. Generate a new key for `new_var_labels1` and the value for this key should be **\"Year of the survey\"** **Hint: Use `loc` and `update` method.**"
   ]
  },
  {
   "cell_type": "code",
   "execution_count": null,
   "metadata": {},
   "outputs": [],
   "source": [
    "print(rec_1.dtypes)"
   ]
  },
  {
   "cell_type": "code",
   "execution_count": null,
   "metadata": {},
   "outputs": [],
   "source": [
    "rec1_1['year'] = 2019\n",
    "rec1_1"
   ]
  },
  {
   "cell_type": "code",
   "execution_count": null,
   "metadata": {},
   "outputs": [],
   "source": [
    "new_var_labels1['year'] = 'Year of the survey'\n",
    "new_var_labels1"
   ]
  },
  {
   "cell_type": "markdown",
   "metadata": {},
   "source": [
    "4. Merge `rec1_1`, `rec2_1`, and `rec3_1` using **CASEID**. Name this new object as `endes_2019`. **Hint: Use [this link](https://stackoverflow.com/questions/53645882/pandas-merging-101)**"
   ]
  },
  {
   "cell_type": "code",
   "execution_count": null,
   "metadata": {},
   "outputs": [],
   "source": [
    "#First we make the fusion between \"rec1_1\" and rec2_1 using the variable \"CASEID\"\n",
    "rec_1_rec_2= rec1_1.merge(rec2_1,on='CASEID', how='outer')"
   ]
  },
  {
   "cell_type": "code",
   "execution_count": null,
   "metadata": {},
   "outputs": [],
   "source": [
    "#Then we perform the same procedure again but the fusion is between \"rec_1_rec_2\" and \"rec3_1\". Finally, we name this change as \"endes_2019\"\n",
    "endes_2019= rec_1_rec_2.merge(rec3_1,on='CASEID', how='outer')\n",
    "endes_2019.head()"
   ]
  },
  {
   "cell_type": "markdown",
   "metadata": {},
   "source": [
    "5. Unify all the `new_var_labels` in one object and `new_value_labels` in another one object. Name these two objects as `var_labels` and `value_labels`. Use them to generate new attributes for `endes_2019`. These attributes should be named as `var_labels` and `value_labels`. **Hint: Use `update` method.**"
   ]
  },
  {
   "cell_type": "code",
   "execution_count": null,
   "metadata": {},
   "outputs": [],
   "source": [
    "#Variable labeling\n",
    "var_labels = new_var_labels1.copy() #Generating a dictionary that contains the dictionary of the variable labels\n",
    "var_labels.update(new_var_labels2) #Dictionary update\n",
    "var_labels.update(new_var_labels3) #Dictionary update"
   ]
  },
  {
   "cell_type": "code",
   "execution_count": null,
   "metadata": {},
   "outputs": [],
   "source": [
    "#Values label\n",
    "value_labels = new_value_labels1.copy() #We replicate the same procedure for this case\n",
    "value_labels.update(new_value_labels2) #Dictionary update\n",
    "value_labels.update(new_value_labels3) #Dictionary update"
   ]
  },
  {
   "cell_type": "code",
   "execution_count": null,
   "metadata": {},
   "outputs": [],
   "source": [
    "#Finally, we assign the values\n",
    "endes_2019.attrs['value_labels'] = value_labels\n",
    "endes_2019.attrs['var_labels'] = var_labels"
   ]
  },
  {
   "cell_type": "markdown",
   "metadata": {},
   "source": [
    "6. Get the min, max, sd, n_obs, n_missing for the following columns **total children ever born (V201)**, **Ideal number of children (V613)**, **Husbands education-single yrs (V715)**, and **Age at first marriage (V511)**. We want a dataframe with the following columns **Variables, Min, Max, Mean, N_obs, N_missing** and sort by the number of missing rows. **Hint: Use `describe` and `pivot` methods**"
   ]
  },
  {
   "cell_type": "code",
   "execution_count": null,
   "metadata": {},
   "outputs": [],
   "source": [
    "#Transformation of variables from text string type to float for the calculation of statistics\n",
    "endes_2019['V613'] = endes_2019['V613'].replace('Non-numeric answer', np.nan).astype(str).astype(float)\n",
    "endes_2019['V715'] = endes_2019['V715'].replace('Does not know', np.nan).astype(str).astype(float)"
   ]
  },
  {
   "cell_type": "code",
   "execution_count": null,
   "metadata": {},
   "outputs": [],
   "source": [
    "#Then we will use the \"describe\" function to calculate the information. \n",
    "#Also, a row is added that counts the missing values for each variable.\n",
    "#Now that we have all the statistics, we use the \"loc\" method to select only the ones we want and with the \"transpose\" method we change rows to columns and columns to rows.\n",
    "#Finally, we will rename the columns and sort by the total number of missing values.\n",
    "\n",
    "table_endes = endes_2019.loc[:,['V201','V613','V715','V511']].describe(include='all')\n",
    "table_endes.loc['N_missing']=endes_2019.loc[:,['V201','V613','V715','V511']].isna().sum()\n",
    "table_endes = table_endes.loc[['min','max','mean','count','N_missing']].transpose().reset_index()\n",
    "table_endes = table_endes.rename(columns = {'index':'Variables','min':'Min','max':'Max','mean':'Mean','count':'N_obs'}).sort_values('N_missing')\n",
    "table_endes"
   ]
  },
  {
   "cell_type": "markdown",
   "metadata": {},
   "source": [
    "7. Use `endes_2019` data to generate a new object named `mean_key_vars` to find the mean of **total children ever born (V201)**, **Ideal number of children (V613)**, **Husbands education-single yrs (V715)**, and **Age at first marriage (V511)** by year and department **(V024)**. Name these columns as **mean_total_children, mean_ideal_children, mean_hb_yr_educ and mean_first_marriage**, respectively. **Hint: Use groupby and [this link](https://stackoverflow.com/questions/40901770/is-there-a-simple-way-to-change-a-column-of-yes-no-to-1-0-in-a-pandas-dataframe).**"
   ]
  },
  {
   "cell_type": "code",
   "execution_count": null,
   "metadata": {},
   "outputs": [],
   "source": []
  },
  {
   "cell_type": "code",
   "execution_count": 87,
   "metadata": {
    "scrolled": true
   },
   "outputs": [
    {
     "data": {
      "text/html": [
       "<div>\n",
       "<style scoped>\n",
       "    .dataframe tbody tr th:only-of-type {\n",
       "        vertical-align: middle;\n",
       "    }\n",
       "\n",
       "    .dataframe tbody tr th {\n",
       "        vertical-align: top;\n",
       "    }\n",
       "\n",
       "    .dataframe thead th {\n",
       "        text-align: right;\n",
       "    }\n",
       "</style>\n",
       "<table border=\"1\" class=\"dataframe\">\n",
       "  <thead>\n",
       "    <tr style=\"text-align: right;\">\n",
       "      <th></th>\n",
       "      <th>V024</th>\n",
       "      <th>mean_total_children</th>\n",
       "      <th>mean_ideal_children</th>\n",
       "      <th>mean_hb_yr_educ</th>\n",
       "      <th>mean_first_marriage</th>\n",
       "    </tr>\n",
       "  </thead>\n",
       "  <tbody>\n",
       "    <tr>\n",
       "      <th>0</th>\n",
       "      <td>1.0</td>\n",
       "      <td>1.980892</td>\n",
       "      <td>9.611379</td>\n",
       "      <td>2.519355</td>\n",
       "      <td>19.266152</td>\n",
       "    </tr>\n",
       "    <tr>\n",
       "      <th>1</th>\n",
       "      <td>2.0</td>\n",
       "      <td>1.771065</td>\n",
       "      <td>11.789534</td>\n",
       "      <td>2.383260</td>\n",
       "      <td>20.591581</td>\n",
       "    </tr>\n",
       "    <tr>\n",
       "      <th>2</th>\n",
       "      <td>3.0</td>\n",
       "      <td>2.003463</td>\n",
       "      <td>11.063779</td>\n",
       "      <td>2.391176</td>\n",
       "      <td>20.064982</td>\n",
       "    </tr>\n",
       "    <tr>\n",
       "      <th>3</th>\n",
       "      <td>4.0</td>\n",
       "      <td>1.539910</td>\n",
       "      <td>13.714898</td>\n",
       "      <td>2.441390</td>\n",
       "      <td>22.304394</td>\n",
       "    </tr>\n",
       "    <tr>\n",
       "      <th>4</th>\n",
       "      <td>5.0</td>\n",
       "      <td>1.848787</td>\n",
       "      <td>11.285419</td>\n",
       "      <td>2.209026</td>\n",
       "      <td>20.340228</td>\n",
       "    </tr>\n",
       "  </tbody>\n",
       "</table>\n",
       "</div>"
      ],
      "text/plain": [
       "   V024  mean_total_children  mean_ideal_children  mean_hb_yr_educ  \\\n",
       "0   1.0             1.980892             9.611379         2.519355   \n",
       "1   2.0             1.771065            11.789534         2.383260   \n",
       "2   3.0             2.003463            11.063779         2.391176   \n",
       "3   4.0             1.539910            13.714898         2.441390   \n",
       "4   5.0             1.848787            11.285419         2.209026   \n",
       "\n",
       "   mean_first_marriage  \n",
       "0            19.266152  \n",
       "1            20.591581  \n",
       "2            20.064982  \n",
       "3            22.304394  \n",
       "4            20.340228  "
      ]
     },
     "execution_count": 87,
     "metadata": {},
     "output_type": "execute_result"
    }
   ],
   "source": [
    "# apartir de v024 seleccionamos el resto de columnas para sacar las media de los datos requeridos\n",
    "mean_key_vars = endes_2019.groupby([\"V024\"],as_index=False)[[\"V201\",\"V613\",\"V715\",\"V511\"]].mean().rename(columns = {\"V201\":\"mean_total_children\",\"V613\":\"mean_ideal_children\",\"V715\":\"mean_hb_yr_educ\",\"V511\":\"mean_first_marriage\"})\n",
    "mean_key_vars.head()\n"
   ]
  },
  {
   "cell_type": "markdown",
   "metadata": {},
   "source": [
    "8. Reshape `mean_key_vars` from wide to long. We want a dataframe with three columns **dpto, variables, values**. Name this object as `reshape_mean_key_vars`. **Hint: Use melt method**."
   ]
  },
  {
   "cell_type": "code",
   "execution_count": 90,
   "metadata": {},
   "outputs": [
    {
     "data": {
      "text/html": [
       "<div>\n",
       "<style scoped>\n",
       "    .dataframe tbody tr th:only-of-type {\n",
       "        vertical-align: middle;\n",
       "    }\n",
       "\n",
       "    .dataframe tbody tr th {\n",
       "        vertical-align: top;\n",
       "    }\n",
       "\n",
       "    .dataframe thead th {\n",
       "        text-align: right;\n",
       "    }\n",
       "</style>\n",
       "<table border=\"1\" class=\"dataframe\">\n",
       "  <thead>\n",
       "    <tr style=\"text-align: right;\">\n",
       "      <th></th>\n",
       "      <th>dpto</th>\n",
       "      <th>variables</th>\n",
       "      <th>values</th>\n",
       "    </tr>\n",
       "  </thead>\n",
       "  <tbody>\n",
       "    <tr>\n",
       "      <th>0</th>\n",
       "      <td>1.0</td>\n",
       "      <td>mean_total_children</td>\n",
       "      <td>1.980892</td>\n",
       "    </tr>\n",
       "    <tr>\n",
       "      <th>1</th>\n",
       "      <td>2.0</td>\n",
       "      <td>mean_total_children</td>\n",
       "      <td>1.771065</td>\n",
       "    </tr>\n",
       "    <tr>\n",
       "      <th>2</th>\n",
       "      <td>3.0</td>\n",
       "      <td>mean_total_children</td>\n",
       "      <td>2.003463</td>\n",
       "    </tr>\n",
       "    <tr>\n",
       "      <th>3</th>\n",
       "      <td>4.0</td>\n",
       "      <td>mean_total_children</td>\n",
       "      <td>1.539910</td>\n",
       "    </tr>\n",
       "    <tr>\n",
       "      <th>4</th>\n",
       "      <td>5.0</td>\n",
       "      <td>mean_total_children</td>\n",
       "      <td>1.848787</td>\n",
       "    </tr>\n",
       "    <tr>\n",
       "      <th>...</th>\n",
       "      <td>...</td>\n",
       "      <td>...</td>\n",
       "      <td>...</td>\n",
       "    </tr>\n",
       "    <tr>\n",
       "      <th>95</th>\n",
       "      <td>21.0</td>\n",
       "      <td>mean_first_marriage</td>\n",
       "      <td>20.398964</td>\n",
       "    </tr>\n",
       "    <tr>\n",
       "      <th>96</th>\n",
       "      <td>22.0</td>\n",
       "      <td>mean_first_marriage</td>\n",
       "      <td>18.953155</td>\n",
       "    </tr>\n",
       "    <tr>\n",
       "      <th>97</th>\n",
       "      <td>23.0</td>\n",
       "      <td>mean_first_marriage</td>\n",
       "      <td>22.065095</td>\n",
       "    </tr>\n",
       "    <tr>\n",
       "      <th>98</th>\n",
       "      <td>24.0</td>\n",
       "      <td>mean_first_marriage</td>\n",
       "      <td>19.409821</td>\n",
       "    </tr>\n",
       "    <tr>\n",
       "      <th>99</th>\n",
       "      <td>25.0</td>\n",
       "      <td>mean_first_marriage</td>\n",
       "      <td>18.985481</td>\n",
       "    </tr>\n",
       "  </tbody>\n",
       "</table>\n",
       "<p>100 rows × 3 columns</p>\n",
       "</div>"
      ],
      "text/plain": [
       "    dpto            variables     values\n",
       "0    1.0  mean_total_children   1.980892\n",
       "1    2.0  mean_total_children   1.771065\n",
       "2    3.0  mean_total_children   2.003463\n",
       "3    4.0  mean_total_children   1.539910\n",
       "4    5.0  mean_total_children   1.848787\n",
       "..   ...                  ...        ...\n",
       "95  21.0  mean_first_marriage  20.398964\n",
       "96  22.0  mean_first_marriage  18.953155\n",
       "97  23.0  mean_first_marriage  22.065095\n",
       "98  24.0  mean_first_marriage  19.409821\n",
       "99  25.0  mean_first_marriage  18.985481\n",
       "\n",
       "[100 rows x 3 columns]"
      ]
     },
     "execution_count": 90,
     "metadata": {},
     "output_type": "execute_result"
    }
   ],
   "source": [
    "# cambiamos la forma de ancho a largo, solo con 3 variables, y al final renombramos v024 a dpto\n",
    "reshape_mean_key_vars=pd.melt(mean_key_vars,id_vars=['V024'],var_name='variables',value_name= 'values').rename(columns={'V024':'dpto'})\n",
    "reshape_mean_key_vars"
   ]
  },
  {
   "cell_type": "markdown",
   "metadata": {},
   "source": [
    "9. Replicate your answers for questions 7 and 8, but in one line of code. Make it the most simple as possible. **NO HINT**"
   ]
  },
  {
   "cell_type": "markdown",
   "metadata": {},
   "source": [
    "10. Merge `reshape_mean_key_vars` with `endes_2019`. Name this object `final_result`. **Hint: Use merge.**"
   ]
  }
 ],
 "metadata": {
  "hide_input": false,
  "kernelspec": {
   "display_name": "Python 3 (ipykernel)",
   "language": "python",
   "name": "python3"
  },
  "language_info": {
   "codemirror_mode": {
    "name": "ipython",
    "version": 3
   },
   "file_extension": ".py",
   "mimetype": "text/x-python",
   "name": "python",
   "nbconvert_exporter": "python",
   "pygments_lexer": "ipython3",
   "version": "3.11.5"
  },
  "toc": {
   "base_numbering": 1,
   "nav_menu": {},
   "number_sections": true,
   "sideBar": true,
   "skip_h1_title": false,
   "title_cell": "Table of Contents",
   "title_sidebar": "Contents",
   "toc_cell": false,
   "toc_position": {},
   "toc_section_display": true,
   "toc_window_display": false
  }
 },
 "nbformat": 4,
 "nbformat_minor": 4
}
