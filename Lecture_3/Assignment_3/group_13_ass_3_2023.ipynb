{
 "cells": [
  {
   "cell_type": "code",
   "execution_count": 9,
   "id": "b0da74cf",
   "metadata": {},
   "outputs": [],
   "source": [
    "import os\n",
    "import pickle\n",
    "import pandas as pd\n",
    "import numpy as np\n",
    "import urllib.request\n",
    "import pyreadstat"
   ]
  },
  {
   "cell_type": "markdown",
   "id": "7f3cd6e3",
   "metadata": {},
   "source": [
    "### Pregunta1\n",
    "Import the REC0111.sav, RE223132.sav and RE516171.sav files and their variables and values labels from this path \"../../_data/endes/2019\". The name of imported files should be named as rec_1, rec_2 and rec_3 for files REC0111.sav, RE223132.sav and RE516171.sav respectively. The name of the variable and value labels should be var_labels1 and value_labels1 for rec1, var_labels2 and value_labels2 for rec2, and var_labels3 and value_labels3 for rec3"
   ]
  },
  {
   "cell_type": "code",
   "execution_count": 15,
   "id": "860bb941",
   "metadata": {},
   "outputs": [],
   "source": [
    "p = '''../../_data/endes/2019'''\n",
    "d1 = p+'''/REC0111.sav'''\n",
    "d2 = p+'''/RE223132.sav'''\n",
    "d3 = p+'''/RE516171.sav'''\n",
    "\n",
    "rec_1,meta_1 = pyreadstat.read_sav(d1)\n",
    "rec_2,meta_2 = pyreadstat.read_sav(d2)\n",
    "rec_3,meta_3 = pyreadstat.read_sav(d3)\n",
    "\n",
    "var_labels1 = meta_1.column_names_to_labels\n",
    "value_labels1 = meta_1.variable_value_labels\n",
    "\n",
    "var_labels2 = meta_2.column_names_to_labels\n",
    "value_labels2 = meta_2.variable_value_labels\n",
    "\n",
    "var_labels3 = meta_3.column_names_to_labels\n",
    "value_labels3 = meta_3.variable_value_labels\n"
   ]
  },
  {
   "cell_type": "code",
   "execution_count": 59,
   "id": "5b7879cb",
   "metadata": {},
   "outputs": [],
   "source": [
    "\n",
    "rec1_1=rec_1.loc[:,['CASEID', 'V000', 'V001', 'V002', 'V003', 'V004', 'V007', 'V008', 'V009', 'V010', 'V011', 'V012', 'V024', 'V102', 'V120', 'V121', 'V122', 'V123', 'V124', 'V125', 'V127'\n",
    ", 'V133']]\n",
    "\n",
    "clave_seleccion1 = ['CASEID', 'V000', 'V001', 'V002', 'V003', 'V004', 'V007', 'V008', 'V009', 'V010', 'V011', 'V012', 'V024', 'V102', 'V120', 'V121', 'V122', 'V123', 'V124', 'V125', 'V127'\n",
    ", 'V133']\n",
    "\n",
    "clave_seleccion2 = ['CASEID', 'V201', 'V218', 'V301', 'V302', 'V323', 'V323A', 'V325A', 'V326', 'V327', 'V337', 'V359', 'V360', 'V361', 'V362', 'V363', 'V364', 'V367', 'V372', 'V372A', 'V375A', 'V376', 'V376A', 'V379', 'V380']\n",
    "\n",
    "clave_seleccion3 = ['CASEID', 'V501', 'V502', 'V503', 'V504', 'V505', 'V506', 'V507', 'V508', 'V509', 'V510', 'V511', 'V512', 'V513', 'V525', 'V613', 'V714', 'V715']\n",
    "\n",
    "new_var_labels1 = {}\n",
    "new_value_labels1 = {}\n",
    "\n",
    "new_var_labels2 = {}\n",
    "new_value_labels2 = {}\n",
    "\n",
    "new_var_labels3 = {}\n",
    "new_value_labels3 = {}\n",
    "\n",
    "###1\n",
    "for clave in var_labels1.keys():\n",
    "    if clave in clave_seleccion1:\n",
    "        new_var_labels1[clave] = var_labels1[clave]\n",
    "\n",
    "for clave in value_labels1.keys():\n",
    "    if clave in clave_seleccion1:\n",
    "        new_value_labels1[clave] = value_labels1[clave]\n",
    "        \n",
    "###2\n",
    "for clave in var_labels2.keys():\n",
    "    if clave in clave_seleccion2:\n",
    "        new_var_labels2[clave] = var_labels2[clave]\n",
    "\n",
    "for clave in value_labels2.keys():\n",
    "    if clave in clave_seleccion2:\n",
    "        new_value_labels2[clave] = value_labels2[clave]\n",
    "        \n",
    "###3\n",
    "for clave in var_labels3.keys():\n",
    "    if clave in clave_seleccion3:\n",
    "        new_var_labels3[clave] = var_labels3[clave]\n",
    "\n",
    "for clave in value_labels3.keys():\n",
    "    if clave in clave_seleccion3:\n",
    "        new_value_labels3[clave] = value_labels3[clave]\n",
    "        \n",
    " "
   ]
  },
  {
   "cell_type": "code",
   "execution_count": 62,
   "id": "9a146dda",
   "metadata": {},
   "outputs": [
    {
     "data": {
      "text/plain": [
       "{'CASEID': 'Identificación Cuestionario Individual',\n",
       " 'V201': 'Total de niños nacidos',\n",
       " 'V218': 'Número de niños vivos',\n",
       " 'V301': 'Conocimiento de cualquier método',\n",
       " 'V302': 'Alguna vez usó cualquier método',\n",
       " 'V323': 'Marca de la píldora usada',\n",
       " 'V323A': 'Marca del preservativo utilizado',\n",
       " 'V325A': 'Costo del método actual',\n",
       " 'V326': 'Fuente para obtener el actual método anticonceptivo',\n",
       " 'V327': 'Fuente para obtener el actual método anticonceptivo (Grupos)',\n",
       " 'V337': 'Meses de uso del método actual',\n",
       " 'V359': 'Última discontinuidad del método los últimos 5 años',\n",
       " 'V360': 'Motivo de la última discontinuidad',\n",
       " 'V361': 'Patrón de uso',\n",
       " 'V362': 'Intención de uso',\n",
       " 'V363': 'Método futuro preferido',\n",
       " 'V364': 'Uso e intención de anticonceptivos',\n",
       " 'V367': 'Quería quedar embarazada:',\n",
       " 'V372': 'Se muestra el paquete de pastillas',\n",
       " 'V372A': 'Se muestra el paquete de Condónes',\n",
       " 'V375A': 'La razón principal para no utilizar un método',\n",
       " 'V376': 'La razón principal por la que no piensa usar ningún método en el futuro',\n",
       " 'V376A': 'Alguna vez usaría algún método',\n",
       " 'V379': 'Fuente conocida por cualquier método',\n",
       " 'V380': 'Fuente conocida por cualquier método (Grupos)'}"
      ]
     },
     "execution_count": 62,
     "metadata": {},
     "output_type": "execute_result"
    }
   ],
   "source": [
    "#new_var_labels1\n",
    "new_var_labels2\n",
    "#new_var_labels3"
   ]
  },
  {
   "cell_type": "code",
   "execution_count": 37,
   "id": "dc2c7837",
   "metadata": {},
   "outputs": [
    {
     "data": {
      "text/plain": [
       "dict_keys(['V013', 'V014', 'V015', 'V018', 'V019', 'V020', 'V023', 'V024', 'V025', 'V026', 'V034', 'V042', 'V043', 'V044', 'Q105DD', 'V101', 'V102', 'V103', 'V104', 'V105', 'V106', 'V113', 'V115', 'V116', 'V119', 'V120', 'V121', 'V122', 'V123', 'V124', 'V125', 'V127', 'V128', 'V129', 'V130', 'V131', 'V133', 'V134', 'V135', 'V139', 'V140', 'V141', 'V149', 'V150', 'V151', 'V152', 'V153', 'V155', 'V156', 'V157', 'V158', 'V159', 'V160', 'V161', 'V166', 'V167', 'V168', 'ML101', 'QD333_1', 'QD333_2', 'QD333_3', 'QD333_4', 'QD333_5', 'QD333_6', 'V190', 'mujeres12a49'])"
      ]
     },
     "execution_count": 37,
     "metadata": {},
     "output_type": "execute_result"
    }
   ],
   "source": [
    "value_labels1.keys()"
   ]
  },
  {
   "cell_type": "code",
   "execution_count": null,
   "id": "7306ef5f",
   "metadata": {},
   "outputs": [],
   "source": []
  }
 ],
 "metadata": {
  "kernelspec": {
   "display_name": "Python 3 (ipykernel)",
   "language": "python",
   "name": "python3"
  },
  "language_info": {
   "codemirror_mode": {
    "name": "ipython",
    "version": 3
   },
   "file_extension": ".py",
   "mimetype": "text/x-python",
   "name": "python",
   "nbconvert_exporter": "python",
   "pygments_lexer": "ipython3",
   "version": "3.11.3"
  }
 },
 "nbformat": 4,
 "nbformat_minor": 5
}
