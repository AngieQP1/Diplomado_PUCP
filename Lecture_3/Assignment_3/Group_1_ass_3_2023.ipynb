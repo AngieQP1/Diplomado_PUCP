{
 "cells": [
  {
   "cell_type": "markdown",
   "id": "13c8ea3d",
   "metadata": {},
   "source": [
    "# Assigment 3\n",
    "\n",
    "## Students:\n",
    "\n",
    "### Fiorella\n",
    "### Vivian\n",
    "### Julissa\n",
    "### César"
   ]
  },
  {
   "cell_type": "code",
   "execution_count": 9,
   "id": "fe67528e",
   "metadata": {},
   "outputs": [],
   "source": [
    "import os\n",
    "import os\n",
    "import pickle\n",
    "import pandas as pd\n",
    "import numpy as np\n",
    "import urllib.request"
   ]
  },
  {
   "cell_type": "markdown",
   "id": "007113c0",
   "metadata": {},
   "source": [
    "Import the REC0111.sav, RE223132.sav and RE516171.sav files and their variables and values labels from this path \"../../_data/endes/2019\". The name of imported files should be named as rec_1, rec_2 and rec_3 for files REC0111.sav, RE223132.sav and RE516171.sav respectively. The name of the variable and value labels should be var_labels1 and value_labels1 for rec1, var_labels2 and value_labels2 for rec2, and var_labels3 and value_labels3 for rec3. Hint: See the section 3.3.4 of the lecture 3"
   ]
  },
  {
   "cell_type": "markdown",
   "id": "f9f774c1",
   "metadata": {},
   "source": [
    "*Firts, we installed the package.*"
   ]
  },
  {
   "cell_type": "code",
   "execution_count": 18,
   "id": "439e3fec",
   "metadata": {},
   "outputs": [
    {
     "name": "stdout",
     "output_type": "stream",
     "text": [
      "Requirement already satisfied: pyreadstat in c:\\users\\fialc\\anaconda3\\lib\\site-packages (1.2.5)\n",
      "Requirement already satisfied: pandas>=1.2.0 in c:\\users\\fialc\\anaconda3\\lib\\site-packages (from pyreadstat) (2.0.3)\n",
      "Requirement already satisfied: python-dateutil>=2.8.2 in c:\\users\\fialc\\anaconda3\\lib\\site-packages (from pandas>=1.2.0->pyreadstat) (2.8.2)\n",
      "Requirement already satisfied: pytz>=2020.1 in c:\\users\\fialc\\anaconda3\\lib\\site-packages (from pandas>=1.2.0->pyreadstat) (2023.3.post1)\n",
      "Requirement already satisfied: tzdata>=2022.1 in c:\\users\\fialc\\anaconda3\\lib\\site-packages (from pandas>=1.2.0->pyreadstat) (2023.3)\n",
      "Requirement already satisfied: numpy>=1.21.0 in c:\\users\\fialc\\anaconda3\\lib\\site-packages (from pandas>=1.2.0->pyreadstat) (1.24.3)\n",
      "Requirement already satisfied: six>=1.5 in c:\\users\\fialc\\anaconda3\\lib\\site-packages (from python-dateutil>=2.8.2->pandas>=1.2.0->pyreadstat) (1.16.0)\n",
      "Requirement already satisfied: savReaderWriter in c:\\users\\fialc\\anaconda3\\lib\\site-packages (3.4.2)\n"
     ]
    }
   ],
   "source": [
    "!pip install pyreadstat\n",
    "!pip install savReaderWriter"
   ]
  },
  {
   "cell_type": "code",
   "execution_count": 19,
   "id": "5234622d",
   "metadata": {},
   "outputs": [],
   "source": [
    "import pyreadstat"
   ]
  },
  {
   "cell_type": "code",
   "execution_count": 35,
   "id": "852d1662",
   "metadata": {},
   "outputs": [],
   "source": [
    "file_path = 'C:\\\\Users\\\\fialc\\\\Documents\\\\GitHub\\\\Diplomado_PUCP\\\\_data\\\\endes\\\\2019\\\\REC0111.sav'\n",
    "rec_1, meta1 = pyreadstat.read_sav(file_path)\n",
    "\n",
    "var_labels1 = meta1.column_names_to_labels\n",
    "\n",
    "value_labels1 = meta1.variable_value_labels"
   ]
  },
  {
   "cell_type": "code",
   "execution_count": 36,
   "id": "66feead9",
   "metadata": {},
   "outputs": [],
   "source": [
    "file_path2 = 'C:\\\\Users\\\\fialc\\\\Documents\\\\GitHub\\\\Diplomado_PUCP\\\\_data\\\\endes\\\\2019\\\\RE223132.sav'\n",
    "rec_2, meta2 = pyreadstat.read_sav(file_path2)\n",
    "\n",
    "var_labels2 = meta2.column_names_to_labels\n",
    "\n",
    "value_labels2 = meta2.variable_value_labels"
   ]
  },
  {
   "cell_type": "code",
   "execution_count": 37,
   "id": "5f12755f",
   "metadata": {},
   "outputs": [],
   "source": [
    "file_path3 = 'C:\\\\Users\\\\fialc\\\\Documents\\\\GitHub\\\\Diplomado_PUCP\\\\_data\\\\endes\\\\2019\\\\RE516171.sav'\n",
    "rec_3, meta3 = pyreadstat.read_sav(file_path3)\n",
    "\n",
    "var_labels3 = meta3.column_names_to_labels\n",
    "\n",
    "value_labels3 = meta3.variable_value_labels"
   ]
  },
  {
   "cell_type": "code",
   "execution_count": 39,
   "id": "2345f1df",
   "metadata": {},
   "outputs": [
    {
     "name": "stdout",
     "output_type": "stream",
     "text": [
      "          ID1             HHID              CASEID    V001  V002  V003  \\\n",
      "0      2019.0        000100201        000100201  2     1.0   2.0   2.0   \n",
      "1      2019.0        000100201        000100201  3     1.0   2.0   3.0   \n",
      "2      2019.0        000102801        000102801  2     1.0  28.0   2.0   \n",
      "3      2019.0        000102801        000102801  6     1.0  28.0   6.0   \n",
      "4      2019.0        000104801        000104801  2     1.0  48.0   2.0   \n",
      "...       ...              ...                 ...     ...   ...   ...   \n",
      "38330  2019.0        325406201        325406201  2  3254.0  62.0   2.0   \n",
      "38331  2019.0        325406301        325406301  2  3254.0  63.0   2.0   \n",
      "38332  2019.0        325407001        325407001  2  3254.0  70.0   2.0   \n",
      "38333  2019.0        325407201        325407201  2  3254.0  72.0   2.0   \n",
      "38334  2019.0        325407401        325407401  2  3254.0  74.0   2.0   \n",
      "\n",
      "         V004    V007    V008  V009  ...  QD333_4  QD333_5  QD333_6  UBIGEO  \\\n",
      "0         1.0  2019.0  1434.0   4.0  ...      2.0      2.0      2.0  010101   \n",
      "1         1.0  2019.0  1434.0   1.0  ...      2.0      2.0      2.0  010101   \n",
      "2         1.0  2019.0  1434.0   6.0  ...      2.0      2.0      2.0  010101   \n",
      "3         1.0  2019.0  1434.0   3.0  ...      2.0      2.0      2.0  010101   \n",
      "4         1.0  2019.0  1434.0   5.0  ...      2.0      2.0      2.0  010101   \n",
      "...       ...     ...     ...   ...  ...      ...      ...      ...     ...   \n",
      "38330  3254.0  2019.0  1440.0  12.0  ...      2.0      2.0      2.0  250401   \n",
      "38331  3254.0  2019.0  1440.0   6.0  ...      2.0      2.0      2.0  250401   \n",
      "38332  3254.0  2019.0  1440.0   7.0  ...      2.0      2.0      2.0  250401   \n",
      "38333  3254.0  2019.0  1440.0  12.0  ...      2.0      2.0      2.0  250401   \n",
      "38334  3254.0  2019.0  1440.0  10.0  ...      2.0      2.0      2.0  250401   \n",
      "\n",
      "        V022      V005  V190      V191  mujeres12a49  NCONGLOME  \n",
      "0        3.0  154803.0   4.0  1.234450           2.0     7065.0  \n",
      "1        3.0  154803.0   4.0  1.234450           0.0     7065.0  \n",
      "2        3.0  154803.0   4.0  1.295611           2.0     7065.0  \n",
      "3        3.0  154803.0   4.0  1.295611           2.0     7065.0  \n",
      "4        3.0  154803.0   2.0 -0.256431           2.0     7065.0  \n",
      "...      ...       ...   ...       ...           ...        ...  \n",
      "38330  249.0  244995.0   1.0 -1.750187           2.0    15783.0  \n",
      "38331  249.0  244995.0   1.0 -1.676861           2.0    15783.0  \n",
      "38332  249.0  459792.0   1.0 -1.585333           2.0    15783.0  \n",
      "38333  249.0  459792.0   1.0 -1.650159           2.0    15783.0  \n",
      "38334  249.0  244995.0   1.0 -1.644720           2.0    15783.0  \n",
      "\n",
      "[38335 rows x 105 columns]\n"
     ]
    }
   ],
   "source": [
    "print(rec_1)"
   ]
  },
  {
   "cell_type": "markdown",
   "id": "585f2600",
   "metadata": {},
   "source": [
    "*2.\tSelect the following columns for each data set: Seleccione las siguientes columnas para cada conjunto de datos:\n",
    "Data\tColumns\n",
    "rec1\tCASEID, V000, V001, V002, V003, V004, V007, V008, V009, V010, V011, V012, V024, V102, V120, V121, V122, V123, V124, V125, V127, V133\n",
    "rec2\tCASEID, V201, V218, V301, V302, V323, V323A, V325A, V326, V327, V337, V359, V360, V361, V362, V363, V364, V367, V372, V372A, V375A, V376, V376A, V379, V380\n",
    "rec3\tCASEID, V501, V502, V503, V504, V505, V506, V507, V508, V509, V510, V511, V512, V513, V525, V613, V714, V715*"
   ]
  },
  {
   "cell_type": "code",
   "execution_count": null,
   "id": "856d7de4",
   "metadata": {},
   "outputs": [],
   "source": []
  }
 ],
 "metadata": {
  "kernelspec": {
   "display_name": "Python 3 (ipykernel)",
   "language": "python",
   "name": "python3"
  },
  "language_info": {
   "codemirror_mode": {
    "name": "ipython",
    "version": 3
   },
   "file_extension": ".py",
   "mimetype": "text/x-python",
   "name": "python",
   "nbconvert_exporter": "python",
   "pygments_lexer": "ipython3",
   "version": "3.11.5"
  }
 },
 "nbformat": 4,
 "nbformat_minor": 5
}
