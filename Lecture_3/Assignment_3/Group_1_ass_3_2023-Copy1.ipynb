{
 "cells": [
  {
   "cell_type": "markdown",
   "id": "13c8ea3d",
   "metadata": {},
   "source": [
    "# Assigment 3\n",
    "\n",
    "## Students:\n",
    "\n",
    "### Fiorella\n",
    "### Vivian\n",
    "### Julissa\n",
    "### César"
   ]
  },
  {
   "cell_type": "code",
   "execution_count": 24,
   "id": "fe67528e",
   "metadata": {},
   "outputs": [],
   "source": [
    "import os\n",
    "import os\n",
    "import pickle\n",
    "import pandas as pd\n",
    "import numpy as np\n",
    "import urllib.request"
   ]
  },
  {
   "cell_type": "markdown",
   "id": "007113c0",
   "metadata": {},
   "source": [
    "Import the REC0111.sav, RE223132.sav and RE516171.sav files and their variables and values labels from this path \"../../_data/endes/2019\". The name of imported files should be named as rec_1, rec_2 and rec_3 for files REC0111.sav, RE223132.sav and RE516171.sav respectively. The name of the variable and value labels should be var_labels1 and value_labels1 for rec1, var_labels2 and value_labels2 for rec2, and var_labels3 and value_labels3 for rec3. Hint: See the section 3.3.4 of the lecture 3"
   ]
  },
  {
   "cell_type": "markdown",
   "id": "f9f774c1",
   "metadata": {},
   "source": [
    "*Firts, we installed the package.*"
   ]
  },
  {
   "cell_type": "code",
   "execution_count": 6,
   "id": "439e3fec",
   "metadata": {},
   "outputs": [
    {
     "name": "stdout",
     "output_type": "stream",
     "text": [
      "Requirement already satisfied: pyreadstat in c:\\users\\fialc\\anaconda3\\lib\\site-packages (1.2.5)\n",
      "Requirement already satisfied: pandas>=1.2.0 in c:\\users\\fialc\\anaconda3\\lib\\site-packages (from pyreadstat) (2.0.3)\n",
      "Requirement already satisfied: python-dateutil>=2.8.2 in c:\\users\\fialc\\anaconda3\\lib\\site-packages (from pandas>=1.2.0->pyreadstat) (2.8.2)\n",
      "Requirement already satisfied: pytz>=2020.1 in c:\\users\\fialc\\anaconda3\\lib\\site-packages (from pandas>=1.2.0->pyreadstat) (2023.3.post1)\n",
      "Requirement already satisfied: tzdata>=2022.1 in c:\\users\\fialc\\anaconda3\\lib\\site-packages (from pandas>=1.2.0->pyreadstat) (2023.3)\n",
      "Requirement already satisfied: numpy>=1.21.0 in c:\\users\\fialc\\anaconda3\\lib\\site-packages (from pandas>=1.2.0->pyreadstat) (1.24.3)\n",
      "Requirement already satisfied: six>=1.5 in c:\\users\\fialc\\anaconda3\\lib\\site-packages (from python-dateutil>=2.8.2->pandas>=1.2.0->pyreadstat) (1.16.0)\n",
      "Requirement already satisfied: savReaderWriter in c:\\users\\fialc\\anaconda3\\lib\\site-packages (3.4.2)\n"
     ]
    }
   ],
   "source": [
    "!pip install pyreadstat\n",
    "!pip install savReaderWriter"
   ]
  },
  {
   "cell_type": "code",
   "execution_count": 7,
   "id": "c90a54d2",
   "metadata": {},
   "outputs": [],
   "source": [
    "import pyreadstat"
   ]
  },
  {
   "cell_type": "code",
   "execution_count": 8,
   "id": "32d22336",
   "metadata": {},
   "outputs": [],
   "source": [
    "file_path = 'C:\\\\Users\\\\fialc\\\\Documents\\\\GitHub\\\\Diplomado_PUCP\\\\_data\\\\endes\\\\2019\\\\REC0111.sav'\n",
    "rec_1, meta1 = pyreadstat.read_sav(file_path)\n",
    "\n",
    "var_labels1 = meta1.column_names_to_labels\n",
    "\n",
    "value_labels1 = meta1.variable_value_labels"
   ]
  },
  {
   "cell_type": "code",
   "execution_count": 9,
   "id": "47eb758f",
   "metadata": {},
   "outputs": [],
   "source": [
    "file_path2 = 'C:\\\\Users\\\\fialc\\\\Documents\\\\GitHub\\\\Diplomado_PUCP\\\\_data\\\\endes\\\\2019\\\\RE223132.sav'\n",
    "rec_2, meta2 = pyreadstat.read_sav(file_path2)\n",
    "\n",
    "var_labels2 = meta2.column_names_to_labels\n",
    "\n",
    "value_labels2 = meta2.variable_value_labels"
   ]
  },
  {
   "cell_type": "code",
   "execution_count": 11,
   "id": "91a4ba7f",
   "metadata": {},
   "outputs": [],
   "source": [
    "file_path3 = 'C:\\\\Users\\\\fialc\\\\Documents\\\\GitHub\\\\Diplomado_PUCP\\\\_data\\\\endes\\\\2019\\\\RE516171.sav'\n",
    "rec_3, meta3 = pyreadstat.read_sav(file_path3)\n",
    "\n",
    "var_labels3 = meta3.column_names_to_labels\n",
    "\n",
    "value_labels3 = meta3.variable_value_labels"
   ]
  },
  {
   "cell_type": "code",
   "execution_count": 12,
   "id": "5a59e292",
   "metadata": {},
   "outputs": [
    {
     "name": "stdout",
     "output_type": "stream",
     "text": [
      "          ID1             HHID              CASEID    V001  V002  V003  \\\n",
      "0      2019.0        000100201        000100201  2     1.0   2.0   2.0   \n",
      "1      2019.0        000100201        000100201  3     1.0   2.0   3.0   \n",
      "2      2019.0        000102801        000102801  2     1.0  28.0   2.0   \n",
      "3      2019.0        000102801        000102801  6     1.0  28.0   6.0   \n",
      "4      2019.0        000104801        000104801  2     1.0  48.0   2.0   \n",
      "...       ...              ...                 ...     ...   ...   ...   \n",
      "38330  2019.0        325406201        325406201  2  3254.0  62.0   2.0   \n",
      "38331  2019.0        325406301        325406301  2  3254.0  63.0   2.0   \n",
      "38332  2019.0        325407001        325407001  2  3254.0  70.0   2.0   \n",
      "38333  2019.0        325407201        325407201  2  3254.0  72.0   2.0   \n",
      "38334  2019.0        325407401        325407401  2  3254.0  74.0   2.0   \n",
      "\n",
      "         V004    V007    V008  V009  ...  QD333_4  QD333_5  QD333_6  UBIGEO  \\\n",
      "0         1.0  2019.0  1434.0   4.0  ...      2.0      2.0      2.0  010101   \n",
      "1         1.0  2019.0  1434.0   1.0  ...      2.0      2.0      2.0  010101   \n",
      "2         1.0  2019.0  1434.0   6.0  ...      2.0      2.0      2.0  010101   \n",
      "3         1.0  2019.0  1434.0   3.0  ...      2.0      2.0      2.0  010101   \n",
      "4         1.0  2019.0  1434.0   5.0  ...      2.0      2.0      2.0  010101   \n",
      "...       ...     ...     ...   ...  ...      ...      ...      ...     ...   \n",
      "38330  3254.0  2019.0  1440.0  12.0  ...      2.0      2.0      2.0  250401   \n",
      "38331  3254.0  2019.0  1440.0   6.0  ...      2.0      2.0      2.0  250401   \n",
      "38332  3254.0  2019.0  1440.0   7.0  ...      2.0      2.0      2.0  250401   \n",
      "38333  3254.0  2019.0  1440.0  12.0  ...      2.0      2.0      2.0  250401   \n",
      "38334  3254.0  2019.0  1440.0  10.0  ...      2.0      2.0      2.0  250401   \n",
      "\n",
      "        V022      V005  V190      V191  mujeres12a49  NCONGLOME  \n",
      "0        3.0  154803.0   4.0  1.234450           2.0     7065.0  \n",
      "1        3.0  154803.0   4.0  1.234450           0.0     7065.0  \n",
      "2        3.0  154803.0   4.0  1.295611           2.0     7065.0  \n",
      "3        3.0  154803.0   4.0  1.295611           2.0     7065.0  \n",
      "4        3.0  154803.0   2.0 -0.256431           2.0     7065.0  \n",
      "...      ...       ...   ...       ...           ...        ...  \n",
      "38330  249.0  244995.0   1.0 -1.750187           2.0    15783.0  \n",
      "38331  249.0  244995.0   1.0 -1.676861           2.0    15783.0  \n",
      "38332  249.0  459792.0   1.0 -1.585333           2.0    15783.0  \n",
      "38333  249.0  459792.0   1.0 -1.650159           2.0    15783.0  \n",
      "38334  249.0  244995.0   1.0 -1.644720           2.0    15783.0  \n",
      "\n",
      "[38335 rows x 105 columns]\n"
     ]
    }
   ],
   "source": [
    "print(rec_1)"
   ]
  },
  {
   "cell_type": "markdown",
   "id": "e5957465",
   "metadata": {},
   "source": [
    "*2.\tSelect the following columns for each data set: Seleccione las siguientes columnas para cada conjunto de datos:\n",
    "Data\tColumns\n",
    "rec1\tCASEID, V000, V001, V002, V003, V004, V007, V008, V009, V010, V011, V012, V024, V102, V120, V121, V122, V123, V124, V125, V127, V133\n",
    "rec2\tCASEID, V201, V218, V301, V302, V323, V323A, V325A, V326, V327, V337, V359, V360, V361, V362, V363, V364, V367, V372, V372A, V375A, V376, V376A, V379, V380\n",
    "rec3\tCASEID, V501, V502, V503, V504, V505, V506, V507, V508, V509, V510, V511, V512, V513, V525, V613, V714, V715*"
   ]
  },
  {
   "cell_type": "code",
   "execution_count": 26,
   "id": "6ac9cf32",
   "metadata": {},
   "outputs": [
    {
     "ename": "TypeError",
     "evalue": "cannot do slice indexing on RangeIndex with these indexers [CASEID] of type str",
     "output_type": "error",
     "traceback": [
      "\u001b[1;31m---------------------------------------------------------------------------\u001b[0m",
      "\u001b[1;31mTypeError\u001b[0m                                 Traceback (most recent call last)",
      "Cell \u001b[1;32mIn[26], line 1\u001b[0m\n\u001b[1;32m----> 1\u001b[0m Columnas_a_mostrar1 \u001b[38;5;241m=\u001b[39m rec_1[\u001b[38;5;124m'\u001b[39m\u001b[38;5;124mCASEID\u001b[39m\u001b[38;5;124m'\u001b[39m:\u001b[38;5;124m'\u001b[39m\u001b[38;5;124mV000\u001b[39m\u001b[38;5;124m'\u001b[39m]\n",
      "File \u001b[1;32m~\\anaconda3\\Lib\\site-packages\\pandas\\core\\frame.py:3735\u001b[0m, in \u001b[0;36mDataFrame.__getitem__\u001b[1;34m(self, key)\u001b[0m\n\u001b[0;32m   3733\u001b[0m \u001b[38;5;66;03m# Do we have a slicer (on rows)?\u001b[39;00m\n\u001b[0;32m   3734\u001b[0m \u001b[38;5;28;01mif\u001b[39;00m \u001b[38;5;28misinstance\u001b[39m(key, \u001b[38;5;28mslice\u001b[39m):\n\u001b[1;32m-> 3735\u001b[0m     indexer \u001b[38;5;241m=\u001b[39m \u001b[38;5;28mself\u001b[39m\u001b[38;5;241m.\u001b[39mindex\u001b[38;5;241m.\u001b[39m_convert_slice_indexer(key, kind\u001b[38;5;241m=\u001b[39m\u001b[38;5;124m\"\u001b[39m\u001b[38;5;124mgetitem\u001b[39m\u001b[38;5;124m\"\u001b[39m)\n\u001b[0;32m   3736\u001b[0m     \u001b[38;5;28;01mif\u001b[39;00m \u001b[38;5;28misinstance\u001b[39m(indexer, np\u001b[38;5;241m.\u001b[39mndarray):\n\u001b[0;32m   3737\u001b[0m         \u001b[38;5;66;03m# reachable with DatetimeIndex\u001b[39;00m\n\u001b[0;32m   3738\u001b[0m         indexer \u001b[38;5;241m=\u001b[39m lib\u001b[38;5;241m.\u001b[39mmaybe_indices_to_slice(\n\u001b[0;32m   3739\u001b[0m             indexer\u001b[38;5;241m.\u001b[39mastype(np\u001b[38;5;241m.\u001b[39mintp, copy\u001b[38;5;241m=\u001b[39m\u001b[38;5;28;01mFalse\u001b[39;00m), \u001b[38;5;28mlen\u001b[39m(\u001b[38;5;28mself\u001b[39m)\n\u001b[0;32m   3740\u001b[0m         )\n",
      "File \u001b[1;32m~\\anaconda3\\Lib\\site-packages\\pandas\\core\\indexes\\base.py:4101\u001b[0m, in \u001b[0;36mIndex._convert_slice_indexer\u001b[1;34m(self, key, kind)\u001b[0m\n\u001b[0;32m   4097\u001b[0m \u001b[38;5;28;01mif\u001b[39;00m kind \u001b[38;5;241m==\u001b[39m \u001b[38;5;124m\"\u001b[39m\u001b[38;5;124mgetitem\u001b[39m\u001b[38;5;124m\"\u001b[39m:\n\u001b[0;32m   4098\u001b[0m     \u001b[38;5;66;03m# called from the getitem slicers, validate that we are in fact integers\u001b[39;00m\n\u001b[0;32m   4099\u001b[0m     \u001b[38;5;28;01mif\u001b[39;00m is_integer_dtype(\u001b[38;5;28mself\u001b[39m\u001b[38;5;241m.\u001b[39mdtype) \u001b[38;5;129;01mor\u001b[39;00m is_index_slice:\n\u001b[0;32m   4100\u001b[0m         \u001b[38;5;66;03m# Note: these checks are redundant if we know is_index_slice\u001b[39;00m\n\u001b[1;32m-> 4101\u001b[0m         \u001b[38;5;28mself\u001b[39m\u001b[38;5;241m.\u001b[39m_validate_indexer(\u001b[38;5;124m\"\u001b[39m\u001b[38;5;124mslice\u001b[39m\u001b[38;5;124m\"\u001b[39m, key\u001b[38;5;241m.\u001b[39mstart, \u001b[38;5;124m\"\u001b[39m\u001b[38;5;124mgetitem\u001b[39m\u001b[38;5;124m\"\u001b[39m)\n\u001b[0;32m   4102\u001b[0m         \u001b[38;5;28mself\u001b[39m\u001b[38;5;241m.\u001b[39m_validate_indexer(\u001b[38;5;124m\"\u001b[39m\u001b[38;5;124mslice\u001b[39m\u001b[38;5;124m\"\u001b[39m, key\u001b[38;5;241m.\u001b[39mstop, \u001b[38;5;124m\"\u001b[39m\u001b[38;5;124mgetitem\u001b[39m\u001b[38;5;124m\"\u001b[39m)\n\u001b[0;32m   4103\u001b[0m         \u001b[38;5;28mself\u001b[39m\u001b[38;5;241m.\u001b[39m_validate_indexer(\u001b[38;5;124m\"\u001b[39m\u001b[38;5;124mslice\u001b[39m\u001b[38;5;124m\"\u001b[39m, key\u001b[38;5;241m.\u001b[39mstep, \u001b[38;5;124m\"\u001b[39m\u001b[38;5;124mgetitem\u001b[39m\u001b[38;5;124m\"\u001b[39m)\n",
      "File \u001b[1;32m~\\anaconda3\\Lib\\site-packages\\pandas\\core\\indexes\\base.py:6376\u001b[0m, in \u001b[0;36mIndex._validate_indexer\u001b[1;34m(self, form, key, kind)\u001b[0m\n\u001b[0;32m   6373\u001b[0m \u001b[38;5;28;01massert\u001b[39;00m kind \u001b[38;5;129;01min\u001b[39;00m [\u001b[38;5;124m\"\u001b[39m\u001b[38;5;124mgetitem\u001b[39m\u001b[38;5;124m\"\u001b[39m, \u001b[38;5;124m\"\u001b[39m\u001b[38;5;124miloc\u001b[39m\u001b[38;5;124m\"\u001b[39m]\n\u001b[0;32m   6375\u001b[0m \u001b[38;5;28;01mif\u001b[39;00m key \u001b[38;5;129;01mis\u001b[39;00m \u001b[38;5;129;01mnot\u001b[39;00m \u001b[38;5;28;01mNone\u001b[39;00m \u001b[38;5;129;01mand\u001b[39;00m \u001b[38;5;129;01mnot\u001b[39;00m is_integer(key):\n\u001b[1;32m-> 6376\u001b[0m     \u001b[38;5;28mself\u001b[39m\u001b[38;5;241m.\u001b[39m_raise_invalid_indexer(form, key)\n",
      "File \u001b[1;32m~\\anaconda3\\Lib\\site-packages\\pandas\\core\\indexes\\base.py:4152\u001b[0m, in \u001b[0;36mIndex._raise_invalid_indexer\u001b[1;34m(self, form, key, reraise)\u001b[0m\n\u001b[0;32m   4150\u001b[0m \u001b[38;5;28;01mif\u001b[39;00m reraise \u001b[38;5;129;01mis\u001b[39;00m \u001b[38;5;129;01mnot\u001b[39;00m lib\u001b[38;5;241m.\u001b[39mno_default:\n\u001b[0;32m   4151\u001b[0m     \u001b[38;5;28;01mraise\u001b[39;00m \u001b[38;5;167;01mTypeError\u001b[39;00m(msg) \u001b[38;5;28;01mfrom\u001b[39;00m \u001b[38;5;21;01mreraise\u001b[39;00m\n\u001b[1;32m-> 4152\u001b[0m \u001b[38;5;28;01mraise\u001b[39;00m \u001b[38;5;167;01mTypeError\u001b[39;00m(msg)\n",
      "\u001b[1;31mTypeError\u001b[0m: cannot do slice indexing on RangeIndex with these indexers [CASEID] of type str"
     ]
    }
   ],
   "source": [
    "Columnas_a_mostrar1 = rec_1['CASEID':'V000']"
   ]
  },
  {
   "cell_type": "code",
   "execution_count": 21,
   "id": "28a6499d",
   "metadata": {},
   "outputs": [
    {
     "name": "stdout",
     "output_type": "stream",
     "text": [
      "0              000100201  2\n",
      "1              000100201  3\n",
      "2              000102801  2\n",
      "3              000102801  6\n",
      "4              000104801  2\n",
      "                ...        \n",
      "38330          325406201  2\n",
      "38331          325406301  2\n",
      "38332          325407001  2\n",
      "38333          325407201  2\n",
      "38334          325407401  2\n",
      "Name: CASEID, Length: 38335, dtype: object\n"
     ]
    }
   ],
   "source": [
    "print(Columnas_a_mostrar1)"
   ]
  },
  {
   "cell_type": "code",
   "execution_count": 2,
   "id": "a22d2611",
   "metadata": {},
   "outputs": [
    {
     "ename": "NameError",
     "evalue": "name 'rec2_data' is not defined",
     "output_type": "error",
     "traceback": [
      "\u001b[1;31m---------------------------------------------------------------------------\u001b[0m",
      "\u001b[1;31mNameError\u001b[0m                                 Traceback (most recent call last)",
      "Cell \u001b[1;32mIn[2], line 1\u001b[0m\n\u001b[1;32m----> 1\u001b[0m \u001b[38;5;28mprint\u001b[39m(rec2_data)\n",
      "\u001b[1;31mNameError\u001b[0m: name 'rec2_data' is not defined"
     ]
    }
   ],
   "source": [
    "print(rec2_data)"
   ]
  },
  {
   "cell_type": "code",
   "execution_count": 49,
   "id": "6d3b8ea4",
   "metadata": {},
   "outputs": [
    {
     "ename": "KeyError",
     "evalue": "\"['V201', 'V218', 'V301', 'V302', 'V323', 'V323A', 'V325A', 'V326', 'V327', 'V337', 'V359', 'V360', 'V361', 'V362', 'V363', 'V364', 'V367', 'V372', 'V372A', 'V375A', 'V376', 'V376A', 'V379', 'V380'] not in index\"",
     "output_type": "error",
     "traceback": [
      "\u001b[1;31m---------------------------------------------------------------------------\u001b[0m",
      "\u001b[1;31mKeyError\u001b[0m                                  Traceback (most recent call last)",
      "Cell \u001b[1;32mIn[49], line 4\u001b[0m\n\u001b[0;32m      1\u001b[0m columns_rec2 \u001b[38;5;241m=\u001b[39m [\u001b[38;5;124m'\u001b[39m\u001b[38;5;124mCASEID\u001b[39m\u001b[38;5;124m'\u001b[39m, \u001b[38;5;124m'\u001b[39m\u001b[38;5;124mV201\u001b[39m\u001b[38;5;124m'\u001b[39m, \u001b[38;5;124m'\u001b[39m\u001b[38;5;124mV218\u001b[39m\u001b[38;5;124m'\u001b[39m, \u001b[38;5;124m'\u001b[39m\u001b[38;5;124mV301\u001b[39m\u001b[38;5;124m'\u001b[39m, \u001b[38;5;124m'\u001b[39m\u001b[38;5;124mV302\u001b[39m\u001b[38;5;124m'\u001b[39m, \u001b[38;5;124m'\u001b[39m\u001b[38;5;124mV323\u001b[39m\u001b[38;5;124m'\u001b[39m, \u001b[38;5;124m'\u001b[39m\u001b[38;5;124mV323A\u001b[39m\u001b[38;5;124m'\u001b[39m, \u001b[38;5;124m'\u001b[39m\u001b[38;5;124mV325A\u001b[39m\u001b[38;5;124m'\u001b[39m, \u001b[38;5;124m'\u001b[39m\u001b[38;5;124mV326\u001b[39m\u001b[38;5;124m'\u001b[39m, \u001b[38;5;124m'\u001b[39m\u001b[38;5;124mV327\u001b[39m\u001b[38;5;124m'\u001b[39m,\n\u001b[0;32m      2\u001b[0m                 \u001b[38;5;124m'\u001b[39m\u001b[38;5;124mV337\u001b[39m\u001b[38;5;124m'\u001b[39m, \u001b[38;5;124m'\u001b[39m\u001b[38;5;124mV359\u001b[39m\u001b[38;5;124m'\u001b[39m, \u001b[38;5;124m'\u001b[39m\u001b[38;5;124mV360\u001b[39m\u001b[38;5;124m'\u001b[39m, \u001b[38;5;124m'\u001b[39m\u001b[38;5;124mV361\u001b[39m\u001b[38;5;124m'\u001b[39m, \u001b[38;5;124m'\u001b[39m\u001b[38;5;124mV362\u001b[39m\u001b[38;5;124m'\u001b[39m, \u001b[38;5;124m'\u001b[39m\u001b[38;5;124mV363\u001b[39m\u001b[38;5;124m'\u001b[39m, \u001b[38;5;124m'\u001b[39m\u001b[38;5;124mV364\u001b[39m\u001b[38;5;124m'\u001b[39m, \u001b[38;5;124m'\u001b[39m\u001b[38;5;124mV367\u001b[39m\u001b[38;5;124m'\u001b[39m, \u001b[38;5;124m'\u001b[39m\u001b[38;5;124mV372\u001b[39m\u001b[38;5;124m'\u001b[39m, \u001b[38;5;124m'\u001b[39m\u001b[38;5;124mV372A\u001b[39m\u001b[38;5;124m'\u001b[39m,\n\u001b[0;32m      3\u001b[0m                 \u001b[38;5;124m'\u001b[39m\u001b[38;5;124mV375A\u001b[39m\u001b[38;5;124m'\u001b[39m, \u001b[38;5;124m'\u001b[39m\u001b[38;5;124mV376\u001b[39m\u001b[38;5;124m'\u001b[39m, \u001b[38;5;124m'\u001b[39m\u001b[38;5;124mV376A\u001b[39m\u001b[38;5;124m'\u001b[39m, \u001b[38;5;124m'\u001b[39m\u001b[38;5;124mV379\u001b[39m\u001b[38;5;124m'\u001b[39m, \u001b[38;5;124m'\u001b[39m\u001b[38;5;124mV380\u001b[39m\u001b[38;5;124m'\u001b[39m]\n\u001b[1;32m----> 4\u001b[0m rec2_data \u001b[38;5;241m=\u001b[39m df[columns_rec2]\n",
      "File \u001b[1;32m~\\anaconda3\\Lib\\site-packages\\pandas\\core\\frame.py:3767\u001b[0m, in \u001b[0;36mDataFrame.__getitem__\u001b[1;34m(self, key)\u001b[0m\n\u001b[0;32m   3765\u001b[0m     \u001b[38;5;28;01mif\u001b[39;00m is_iterator(key):\n\u001b[0;32m   3766\u001b[0m         key \u001b[38;5;241m=\u001b[39m \u001b[38;5;28mlist\u001b[39m(key)\n\u001b[1;32m-> 3767\u001b[0m     indexer \u001b[38;5;241m=\u001b[39m \u001b[38;5;28mself\u001b[39m\u001b[38;5;241m.\u001b[39mcolumns\u001b[38;5;241m.\u001b[39m_get_indexer_strict(key, \u001b[38;5;124m\"\u001b[39m\u001b[38;5;124mcolumns\u001b[39m\u001b[38;5;124m\"\u001b[39m)[\u001b[38;5;241m1\u001b[39m]\n\u001b[0;32m   3769\u001b[0m \u001b[38;5;66;03m# take() does not accept boolean indexers\u001b[39;00m\n\u001b[0;32m   3770\u001b[0m \u001b[38;5;28;01mif\u001b[39;00m \u001b[38;5;28mgetattr\u001b[39m(indexer, \u001b[38;5;124m\"\u001b[39m\u001b[38;5;124mdtype\u001b[39m\u001b[38;5;124m\"\u001b[39m, \u001b[38;5;28;01mNone\u001b[39;00m) \u001b[38;5;241m==\u001b[39m \u001b[38;5;28mbool\u001b[39m:\n",
      "File \u001b[1;32m~\\anaconda3\\Lib\\site-packages\\pandas\\core\\indexes\\base.py:5877\u001b[0m, in \u001b[0;36mIndex._get_indexer_strict\u001b[1;34m(self, key, axis_name)\u001b[0m\n\u001b[0;32m   5874\u001b[0m \u001b[38;5;28;01melse\u001b[39;00m:\n\u001b[0;32m   5875\u001b[0m     keyarr, indexer, new_indexer \u001b[38;5;241m=\u001b[39m \u001b[38;5;28mself\u001b[39m\u001b[38;5;241m.\u001b[39m_reindex_non_unique(keyarr)\n\u001b[1;32m-> 5877\u001b[0m \u001b[38;5;28mself\u001b[39m\u001b[38;5;241m.\u001b[39m_raise_if_missing(keyarr, indexer, axis_name)\n\u001b[0;32m   5879\u001b[0m keyarr \u001b[38;5;241m=\u001b[39m \u001b[38;5;28mself\u001b[39m\u001b[38;5;241m.\u001b[39mtake(indexer)\n\u001b[0;32m   5880\u001b[0m \u001b[38;5;28;01mif\u001b[39;00m \u001b[38;5;28misinstance\u001b[39m(key, Index):\n\u001b[0;32m   5881\u001b[0m     \u001b[38;5;66;03m# GH 42790 - Preserve name from an Index\u001b[39;00m\n",
      "File \u001b[1;32m~\\anaconda3\\Lib\\site-packages\\pandas\\core\\indexes\\base.py:5941\u001b[0m, in \u001b[0;36mIndex._raise_if_missing\u001b[1;34m(self, key, indexer, axis_name)\u001b[0m\n\u001b[0;32m   5938\u001b[0m     \u001b[38;5;28;01mraise\u001b[39;00m \u001b[38;5;167;01mKeyError\u001b[39;00m(\u001b[38;5;124mf\u001b[39m\u001b[38;5;124m\"\u001b[39m\u001b[38;5;124mNone of [\u001b[39m\u001b[38;5;132;01m{\u001b[39;00mkey\u001b[38;5;132;01m}\u001b[39;00m\u001b[38;5;124m] are in the [\u001b[39m\u001b[38;5;132;01m{\u001b[39;00maxis_name\u001b[38;5;132;01m}\u001b[39;00m\u001b[38;5;124m]\u001b[39m\u001b[38;5;124m\"\u001b[39m)\n\u001b[0;32m   5940\u001b[0m not_found \u001b[38;5;241m=\u001b[39m \u001b[38;5;28mlist\u001b[39m(ensure_index(key)[missing_mask\u001b[38;5;241m.\u001b[39mnonzero()[\u001b[38;5;241m0\u001b[39m]]\u001b[38;5;241m.\u001b[39munique())\n\u001b[1;32m-> 5941\u001b[0m \u001b[38;5;28;01mraise\u001b[39;00m \u001b[38;5;167;01mKeyError\u001b[39;00m(\u001b[38;5;124mf\u001b[39m\u001b[38;5;124m\"\u001b[39m\u001b[38;5;132;01m{\u001b[39;00mnot_found\u001b[38;5;132;01m}\u001b[39;00m\u001b[38;5;124m not in index\u001b[39m\u001b[38;5;124m\"\u001b[39m)\n",
      "\u001b[1;31mKeyError\u001b[0m: \"['V201', 'V218', 'V301', 'V302', 'V323', 'V323A', 'V325A', 'V326', 'V327', 'V337', 'V359', 'V360', 'V361', 'V362', 'V363', 'V364', 'V367', 'V372', 'V372A', 'V375A', 'V376', 'V376A', 'V379', 'V380'] not in index\""
     ]
    }
   ],
   "source": [
    "columns_rec2 = ['CASEID', 'V201', 'V218', 'V301', 'V302', 'V323', 'V323A', 'V325A', 'V326', 'V327',\n",
    "                'V337', 'V359', 'V360', 'V361', 'V362', 'V363', 'V364', 'V367', 'V372', 'V372A',\n",
    "                'V375A', 'V376', 'V376A', 'V379', 'V380']\n",
    "rec2_data = df[columns_rec2]"
   ]
  },
  {
   "cell_type": "code",
   "execution_count": 46,
   "id": "75adf1fe",
   "metadata": {},
   "outputs": [
    {
     "name": "stdout",
     "output_type": "stream",
     "text": [
      "                   CASEID V000    V001  V002  V003    V004    V007    V008  \\\n",
      "0            000100201  2  PE6     1.0   2.0   2.0     1.0  2019.0  1434.0   \n",
      "1            000100201  3  PE6     1.0   2.0   3.0     1.0  2019.0  1434.0   \n",
      "2            000102801  2  PE6     1.0  28.0   2.0     1.0  2019.0  1434.0   \n",
      "3            000102801  6  PE6     1.0  28.0   6.0     1.0  2019.0  1434.0   \n",
      "4            000104801  2  PE6     1.0  48.0   2.0     1.0  2019.0  1434.0   \n",
      "...                   ...  ...     ...   ...   ...     ...     ...     ...   \n",
      "38330        325406201  2  PE6  3254.0  62.0   2.0  3254.0  2019.0  1440.0   \n",
      "38331        325406301  2  PE6  3254.0  63.0   2.0  3254.0  2019.0  1440.0   \n",
      "38332        325407001  2  PE6  3254.0  70.0   2.0  3254.0  2019.0  1440.0   \n",
      "38333        325407201  2  PE6  3254.0  72.0   2.0  3254.0  2019.0  1440.0   \n",
      "38334        325407401  2  PE6  3254.0  74.0   2.0  3254.0  2019.0  1440.0   \n",
      "\n",
      "       V009    V010  ...  V024  V102  V120  V121  V122  V123  V124  V125  \\\n",
      "0       4.0  1986.0  ...   1.0   1.0   1.0   1.0   1.0   0.0   0.0   0.0   \n",
      "1       1.0  2007.0  ...   1.0   1.0   1.0   1.0   1.0   0.0   0.0   0.0   \n",
      "2       6.0  1983.0  ...   1.0   1.0   1.0   1.0   1.0   1.0   1.0   1.0   \n",
      "3       3.0  1970.0  ...   1.0   1.0   1.0   1.0   1.0   1.0   1.0   1.0   \n",
      "4       5.0  1991.0  ...   1.0   1.0   0.0   0.0   0.0   0.0   0.0   0.0   \n",
      "...     ...     ...  ...   ...   ...   ...   ...   ...   ...   ...   ...   \n",
      "38330  12.0  1971.0  ...  25.0   2.0   0.0   0.0   0.0   0.0   0.0   0.0   \n",
      "38331   6.0  1988.0  ...  25.0   2.0   0.0   0.0   0.0   0.0   0.0   0.0   \n",
      "38332   7.0  1973.0  ...  25.0   2.0   0.0   0.0   0.0   0.0   0.0   0.0   \n",
      "38333  12.0  1994.0  ...  25.0   2.0   0.0   0.0   0.0   0.0   0.0   0.0   \n",
      "38334  10.0  1996.0  ...  25.0   2.0   0.0   0.0   0.0   0.0   0.0   0.0   \n",
      "\n",
      "       V127  V133  \n",
      "0      33.0  16.0  \n",
      "1      33.0   6.0  \n",
      "2      33.0  16.0  \n",
      "3      33.0   4.0  \n",
      "4      34.0   1.0  \n",
      "...     ...   ...  \n",
      "38330  96.0   4.0  \n",
      "38331  96.0   6.0  \n",
      "38332  96.0   3.0  \n",
      "38333  96.0   9.0  \n",
      "38334  96.0   9.0  \n",
      "\n",
      "[38335 rows x 22 columns]\n"
     ]
    }
   ],
   "source": [
    "print(rec2_data)"
   ]
  },
  {
   "cell_type": "code",
   "execution_count": null,
   "id": "301a45c5",
   "metadata": {},
   "outputs": [],
   "source": []
  }
 ],
 "metadata": {
  "kernelspec": {
   "display_name": "Python 3 (ipykernel)",
   "language": "python",
   "name": "python3"
  },
  "language_info": {
   "codemirror_mode": {
    "name": "ipython",
    "version": 3
   },
   "file_extension": ".py",
   "mimetype": "text/x-python",
   "name": "python",
   "nbconvert_exporter": "python",
   "pygments_lexer": "ipython3",
   "version": "3.11.5"
  }
 },
 "nbformat": 4,
 "nbformat_minor": 5
}
