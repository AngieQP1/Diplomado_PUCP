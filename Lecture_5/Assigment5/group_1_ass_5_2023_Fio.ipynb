{
 "cells": [
  {
   "cell_type": "markdown",
   "id": "8738d5bc",
   "metadata": {},
   "source": [
    "# Assigment 5\n",
    "\n",
    "## Name: Fiorella Chinchay\n",
    "\n",
    "## Instructions:\n",
    "\n",
    "This assigment will be graded if everything works well. I will run the script as once and everything should be done without errors and mistakes. I should be able to run your scripts in my computer and get all the results. USE RELATIVE PATHS. An error or exception or anything that breaks the code will means NO GRADE (0). Additionally, you are not able to modify any file handly. It also means NO GRADE (0). Comment everything you think will help others read your script. We expect 0 errors using GitHub. Everything will be graded!\n",
    "\n",
    "ASK EVERYTHING! WE ARE HERE TO HELP YOU!\n",
    "\n",
    "In this path .._data\\sbs\\B_RawData\\bancos you will find scraped data from this link. We get all the information of the last available day of every each month.\n",
    "\n",
    "Generate a function called import_data_sbs_banks that take as arguments start_month, start_year, end_month and end_year. This function should be able to import the files in .._data\\sbs\\B_RawData\\bancos taking into consideration these arguments. Additionally, it should work if it is only given the first two arguments (start_mont, start_year). The function should returns a nested dictionary. The main key must be year and second key must be month. The values should be the dataframes."
   ]
  },
  {
   "cell_type": "code",
   "execution_count": 117,
   "id": "de3b2d9b",
   "metadata": {},
   "outputs": [],
   "source": [
    "# Descarga de programas necesarios para lectura y procesamiento de data\n",
    "import pandas as pd\n",
    "import pyreadstat as ps\n",
    "import os\n",
    "from datetime import datetime"
   ]
  },
  {
   "cell_type": "code",
   "execution_count": 118,
   "id": "3888bb83",
   "metadata": {},
   "outputs": [],
   "source": [
    "#Crear la función con el nombre indicado\n",
    "def import_data_sbs_banks(start_month, start_year, end_month = None, end_year = None):\n",
    "    \n",
    "#Crear un path o ruta genérica, tratando de guardar todo en una lista, como en el ejemplo de la semana 4\n",
    "    path = r\"../../_data\\sbs\\B_RawData\\bancos\"\n",
    "    aglutinado = [os.path.join(path, file) for file in os.listdir(path)]\n",
    "    \n",
    "    #Crear un diccionario para juntas las bases descargadas\n",
    "    diccionario = {}\n",
    "    \n",
    "    #Vamos a operar en los elementos de la lista \n",
    "    for file in aglutinado:\n",
    "        # Leer los excel descargados de la página de la SBS, ingresar información de fecha (ya que no aparece en la tabla)\n",
    "        df_inicial = pd.read_excel(file)\n",
    "        df_inicial[\"date_info\"] = os.path.splitext(file)[0][45:]\n",
    "        df_inicial[\"date_info\"] = pd.to_datetime(df_inicial [\"date_info\"], format = \"%d_%m_%Y\")\n",
    "        diccionario[file] = df_inicial\n",
    "\n",
    "    #Ahora, la tarea pide que la función sirva incluso si sólo si se tiene 2 de los 4 datos. Por eso, usaremos el condicional if\n",
    "    if end_month is None:\n",
    "        end_month = start_month\n",
    "    if end_year is None:\n",
    "        end_year = start_year\n",
    "        \n",
    "    #Crear la función con la fecha\n",
    "    start_date = pd.to_datetime(f'{start_month}/01/{start_year}', format = '%m/%d/%Y')\n",
    "    \n",
    "    if end_month == 12:\n",
    "        end_date = pd.to_datetime(f'01/01/{end_year + 1}', format = '%m/%d/%Y')\n",
    "    else: \n",
    "        end_date = pd.to_datetime(f'{end_month + 1}/01/{end_year}', format = '%m/%d/%Y') \n",
    "    \n",
    "    selected_dfs = {\n",
    "        k: v for k, v in diccionario.items() \n",
    "        if start_date <= pd.Timestamp(v['date_info'].iloc[0]) <= end_date\n",
    "    }\n",
    "    \n",
    "    #Ordenar con la función sorted\n",
    "    sorted_dfs = sorted(selected_dfs.items(), key =lambda x: (x[1]['date_info'].dt.year.values[0],\n",
    "                                                              x[1]['date_info'].dt.month.values[0]))\n",
    "    \n",
    "    #crear el diccionario anidado, que requiere la tarea.\n",
    "    nested_dict = {}\n",
    "    \n",
    "    #indicamos cómo queremos que entienda la información el diccionario\n",
    "    for key, value in sorted_dfs:\n",
    "        year  = value['date_info'].dt.year.values[0]\n",
    "        month = value['date_info'].dt.month.values[0]\n",
    "        nested_dict.setdefault(year, {})[month] = value\n",
    "\n",
    "    return nested_dict"
   ]
  },
  {
   "cell_type": "code",
   "execution_count": 127,
   "id": "a7a78d0c",
   "metadata": {
    "scrolled": true
   },
   "outputs": [
    {
     "name": "stdout",
     "output_type": "stream",
     "text": [
      "{}\n"
     ]
    }
   ],
   "source": [
    "#Probamos si funciona\n",
    "prueba = import_data_sbs_banks(1, 2023)\n",
    "print(prueba)"
   ]
  }
 ],
 "metadata": {
  "kernelspec": {
   "display_name": "Python 3 (ipykernel)",
   "language": "python",
   "name": "python3"
  },
  "language_info": {
   "codemirror_mode": {
    "name": "ipython",
    "version": 3
   },
   "file_extension": ".py",
   "mimetype": "text/x-python",
   "name": "python",
   "nbconvert_exporter": "python",
   "pygments_lexer": "ipython3",
   "version": "3.11.5"
  }
 },
 "nbformat": 4,
 "nbformat_minor": 5
}
