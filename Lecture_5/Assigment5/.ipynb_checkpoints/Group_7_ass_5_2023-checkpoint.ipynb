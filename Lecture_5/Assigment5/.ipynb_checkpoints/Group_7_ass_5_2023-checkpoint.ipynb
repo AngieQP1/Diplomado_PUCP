{
 "cells": [
  {
   "cell_type": "markdown",
   "metadata": {},
   "source": [
    "# Assigment 5\n",
    "\n",
    "This assigment will be graded if everything works well. I will run the script as once and everything should be done without errors and mistakes. I should be able to run your scripts in my computer and get all the results. **USE RELATIVE PATHS**. An error or exception or anything that breaks the code will means NO GRADE (0). Additionally, you are not able to modify any file handly. It also means NO GRADE (0). Comment everything you think will help others read your script. We expect 0 errors using GitHub. Everything will be graded!\n",
    "\n",
    "**ASK EVERYTHING! WE ARE HERE TO HELP YOU!**"
   ]
  },
  {
   "cell_type": "markdown",
   "metadata": {},
   "source": [
    "In this path **..\\_data\\sbs\\B_RawData\\bancos** you will find scraped data from [this link](https://www.sbs.gob.pe/app/pp/EstadisticasSAEEPortal/Paginas/TIActivaTipoCreditoEmpresa.aspx?tip=B). We get all the information of the last available day of every each month.\n",
    "\n",
    "1. Generate a function called **import_data_sbs_banks** that take as arguments `start_month`, `start_year`, `end_month` and `end_year`. This function should be able to import the files in **..\\_data\\sbs\\B_RawData\\bancos** taking into consideration these arguments. Additionally, it should work if it is only given the first two arguments `(start_mont, start_year)`. The function should `returns` a nested dictionary. The `main key` must be year and `second key` must be `month`. The values should be the dataframes."
   ]
  },
  {
   "cell_type": "code",
   "execution_count": 1,
   "metadata": {},
   "outputs": [],
   "source": [
    "# import libraries\n",
    "import os\n",
    "import pandas as pd"
   ]
  },
  {
   "cell_type": "code",
   "execution_count": 8,
   "metadata": {},
   "outputs": [],
   "source": [
    "def import_data_sbs_banks(start_month, start_year, end_month=None, end_year=None):\n",
    "    \n",
    "    # define the data path\n",
    "    data_path = r\"../../_data/sbs/B_RawData/bancos\"\n",
    "    \n",
    "    # list all files in data path\n",
    "    files = os.listdir(data_path)\n",
    "    \n",
    "    # dictionary where the data will be stored\n",
    "    result_dict = {}\n",
    "    \n",
    "    for file in files:\n",
    "        # check if the file starts with \"table_clean_\", and has a .xlsx extension \n",
    "        if file.startswith(\"table_clean_\") and file.endswith(\".xlsx\"):\n",
    "            # if that true, extract day, month, and year from the file name\n",
    "            _, _, day, month, year = file[:-5].split('_')\n",
    "            # convert what we need (month and year) to integers\n",
    "            month = int(month)\n",
    "            year = int(year)\n",
    "            \n",
    "            # check if the values in 'start_year', 'start_month', 'end_year' and 'end_month' of the files, \n",
    "            # falls within the specified time range (range that we define when using the function)\n",
    "            if (start_year < year or (start_year == year and start_month <= month)) and \\\n",
    "               (end_year is None or (end_year > year or (end_year == year and end_month >= month))):\n",
    "                \n",
    "                try:\n",
    "                    # if the values are in range, then construct the full file path\n",
    "                    file_path = os.path.join(data_path, file)\n",
    "                    # read the Excel file into a DataFrame\n",
    "                    df = pd.read_excel(file_path)\n",
    "                    \n",
    "                    # check if the year key exists in the result_dict, if not, create it\n",
    "                    if year not in result_dict:\n",
    "                        result_dict[year] = {}\n",
    "                    \n",
    "                     # store the DataFrame in the result_dict under the corresponding year and month\n",
    "                    result_dict[year][month] = df\n",
    "                \n",
    "                # handle the case where the file is not found\n",
    "                except FileNotFoundError:\n",
    "                    print(f\"El archivo {file} no se encuentra.\")\n",
    "                   \n",
    "                \n",
    "    # sort the result_dict by year and month\n",
    "    sorted_result_dict = dict(sorted(result_dict.items()))\n",
    "\n",
    "    for year, months in sorted_result_dict.items():\n",
    "        sorted_result_dict[year] = dict(sorted(months.items()))\n",
    "    \n",
    "    # return the resulting dictionary\n",
    "    return sorted_result_dict"
   ]
  },
  {
   "cell_type": "markdown",
   "metadata": {},
   "source": [
    "**Some examples of uses of our function**"
   ]
  },
  {
   "cell_type": "code",
   "execution_count": null,
   "metadata": {},
   "outputs": [],
   "source": []
  }
 ],
 "metadata": {
  "hide_input": false,
  "kernelspec": {
   "display_name": "Python 3 (ipykernel)",
   "language": "python",
   "name": "python3"
  },
  "language_info": {
   "codemirror_mode": {
    "name": "ipython",
    "version": 3
   },
   "file_extension": ".py",
   "mimetype": "text/x-python",
   "name": "python",
   "nbconvert_exporter": "python",
   "pygments_lexer": "ipython3",
   "version": "3.11.5"
  },
  "toc": {
   "base_numbering": 1,
   "nav_menu": {},
   "number_sections": true,
   "sideBar": true,
   "skip_h1_title": false,
   "title_cell": "Table of Contents",
   "title_sidebar": "Contents",
   "toc_cell": false,
   "toc_position": {},
   "toc_section_display": true,
   "toc_window_display": false
  }
 },
 "nbformat": 4,
 "nbformat_minor": 4
}
