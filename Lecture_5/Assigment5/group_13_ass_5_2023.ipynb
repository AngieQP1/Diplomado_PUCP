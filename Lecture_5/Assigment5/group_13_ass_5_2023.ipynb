{
 "cells": [
  {
   "cell_type": "markdown",
   "id": "702ebc02",
   "metadata": {},
   "source": [
    "## Function\n",
    "Generate a function called import_data_sbs_banks that take as arguments start_month, start_year, end_month and end_year. This function should be able to import the files in .._data\\sbs\\B_RawData\\bancos taking into consideration these arguments. Additionally, it should work if it is only given the first two arguments (start_mont, start_year). The function should returns a nested dictionary. The main key must be year and second key must be month. The values should be the dataframe"
   ]
  },
  {
   "cell_type": "code",
   "execution_count": 2,
   "id": "93ddcffb",
   "metadata": {},
   "outputs": [],
   "source": [
    "# importando librerias\n",
    "import pandas as pd\n",
    "import os\n",
    "from datetime import datetime, timedelta\n"
   ]
  },
  {
   "cell_type": "code",
   "execution_count": 45,
   "id": "ed742796",
   "metadata": {},
   "outputs": [],
   "source": [
    "def import_data_sbs_banks(start_month, start_year, end_month =0, end_year=0):\n",
    "    \n",
    "\n",
    "    # Validar que los parámetros sean números enteros positivos\n",
    "    for param in [start_month, start_year, end_month, end_year]:\n",
    "        if param is not None and (not isinstance(param, int) or param <= 0):\n",
    "            raise ValueError(\"Los parámetros de mes y año deben ser números enteros positivos\")\n",
    "    ##meses de 1 a 12\n",
    "    if (start_month < 1 or start_month > 12) or (end_month is not None and (end_month < 1 or end_month > 12)):\n",
    "        raise ValueError(\"Los meses deben estar en el rango de 1 a 12\")\n",
    "\n",
    "    ruta = r\"../../_data\\sbs\\B_RawData\\bancos\"\n",
    "    \n",
    "    data = {}\n",
    "    \n",
    "\n",
    "    #si no hay mes ni ano final\n",
    "    fecha_actual = datetime.now()\n",
    "    if end_month == 0:\n",
    "        end_month = fecha_actual.month\n",
    "# Extraer el año y el mes\n",
    "    if end_year == 0:\n",
    "        end_year = fecha_actual.year\n",
    "   \n",
    "    \n",
    "    \n",
    "    if ((start_month) and (start_year)):\n",
    "        ## iterar\n",
    "        start_date = datetime(start_year, start_month, 1) ## inicio de fecha\n",
    "        #print(f'start_date is {start_date} ok' )\n",
    "        end_date = datetime(end_year, end_month, 1) + timedelta(days=31) ## fin de fecha \n",
    "\n",
    "        if start_date > end_date:\n",
    "            raise ValueError(\"La fecha de inicio debe ser anterior o igual a la fecha final\")\n",
    "\n",
    "        #print(f'end_date is {end_date} ok' )\n",
    "        end_date = end_date.replace(day=1) - timedelta(days=1)  # fecha final con dias\n",
    "\n",
    "        #iterar\n",
    "        current_date = start_date\n",
    "        while current_date <= end_date:\n",
    "            file_name = f\"table_clean_{current_date.day}_{current_date.month}_{current_date.year}.xlsx\"\n",
    "            file_path = os.path.join(ruta, file_name)\n",
    "            #print(file_path)\n",
    "            ##verifico ruta\n",
    "            if os.path.exists(file_path):\n",
    "                # Read the file into a dataframe\n",
    "                df = pd.read_excel(file_path)\n",
    "\n",
    "                # Add the dataframe to the nested dictionary\n",
    "                year, month = current_date.year, current_date.month\n",
    "                if year not in data:\n",
    "                    data[year] = {}\n",
    "                if month not in data[year]:\n",
    "                    data[year][month] = []\n",
    "                data[year][month].append(df)\n",
    "\n",
    "                # Move to the next day\n",
    "            current_date += timedelta(days=1)\n",
    "        \n",
    "    else:\n",
    "        #print('You must define start month or start year')\n",
    "        raise ValueError(\"You must define start month or start year\")\n",
    "    return data"
   ]
  },
  {
   "cell_type": "code",
   "execution_count": 47,
   "id": "b525d5c0",
   "metadata": {},
   "outputs": [
    {
     "ename": "ValueError",
     "evalue": "Los parámetros de mes y año deben ser números enteros positivos",
     "output_type": "error",
     "traceback": [
      "\u001b[1;31m---------------------------------------------------------------------------\u001b[0m",
      "\u001b[1;31mValueError\u001b[0m                                Traceback (most recent call last)",
      "\u001b[1;32md:\\DiplomadoWindow\\Python\\Diplomado_PUCP\\Lecture_5\\Assigment5\\group_13_ass_5_2023.ipynb Cell 4\u001b[0m line \u001b[0;36m2\n\u001b[0;32m      <a href='vscode-notebook-cell:/d%3A/DiplomadoWindow/Python/Diplomado_PUCP/Lecture_5/Assigment5/group_13_ass_5_2023.ipynb#W3sZmlsZQ%3D%3D?line=0'>1</a>\u001b[0m \u001b[39m##con todos los datos\u001b[39;00m\n\u001b[1;32m----> <a href='vscode-notebook-cell:/d%3A/DiplomadoWindow/Python/Diplomado_PUCP/Lecture_5/Assigment5/group_13_ass_5_2023.ipynb#W3sZmlsZQ%3D%3D?line=1'>2</a>\u001b[0m data\u001b[39m=\u001b[39mimport_data_sbs_banks(\u001b[39m3\u001b[39m,\u001b[39m-\u001b[39m\u001b[39m2002\u001b[39m,\u001b[39m12\u001b[39m,\u001b[39m2008\u001b[39m)\n\u001b[0;32m      <a href='vscode-notebook-cell:/d%3A/DiplomadoWindow/Python/Diplomado_PUCP/Lecture_5/Assigment5/group_13_ass_5_2023.ipynb#W3sZmlsZQ%3D%3D?line=2'>3</a>\u001b[0m \u001b[39mprint\u001b[39m(data)\n",
      "\u001b[1;32md:\\DiplomadoWindow\\Python\\Diplomado_PUCP\\Lecture_5\\Assigment5\\group_13_ass_5_2023.ipynb Cell 4\u001b[0m line \u001b[0;36m7\n\u001b[0;32m      <a href='vscode-notebook-cell:/d%3A/DiplomadoWindow/Python/Diplomado_PUCP/Lecture_5/Assigment5/group_13_ass_5_2023.ipynb#W3sZmlsZQ%3D%3D?line=4'>5</a>\u001b[0m \u001b[39mfor\u001b[39;00m param \u001b[39min\u001b[39;00m [start_month, start_year, end_month, end_year]:\n\u001b[0;32m      <a href='vscode-notebook-cell:/d%3A/DiplomadoWindow/Python/Diplomado_PUCP/Lecture_5/Assigment5/group_13_ass_5_2023.ipynb#W3sZmlsZQ%3D%3D?line=5'>6</a>\u001b[0m     \u001b[39mif\u001b[39;00m param \u001b[39mis\u001b[39;00m \u001b[39mnot\u001b[39;00m \u001b[39mNone\u001b[39;00m \u001b[39mand\u001b[39;00m (\u001b[39mnot\u001b[39;00m \u001b[39misinstance\u001b[39m(param, \u001b[39mint\u001b[39m) \u001b[39mor\u001b[39;00m param \u001b[39m<\u001b[39m\u001b[39m=\u001b[39m \u001b[39m0\u001b[39m):\n\u001b[1;32m----> <a href='vscode-notebook-cell:/d%3A/DiplomadoWindow/Python/Diplomado_PUCP/Lecture_5/Assigment5/group_13_ass_5_2023.ipynb#W3sZmlsZQ%3D%3D?line=6'>7</a>\u001b[0m         \u001b[39mraise\u001b[39;00m \u001b[39mValueError\u001b[39;00m(\u001b[39m\"\u001b[39m\u001b[39mLos parámetros de mes y año deben ser números enteros positivos\u001b[39m\u001b[39m\"\u001b[39m)\n\u001b[0;32m      <a href='vscode-notebook-cell:/d%3A/DiplomadoWindow/Python/Diplomado_PUCP/Lecture_5/Assigment5/group_13_ass_5_2023.ipynb#W3sZmlsZQ%3D%3D?line=8'>9</a>\u001b[0m \u001b[39mif\u001b[39;00m (start_month \u001b[39m<\u001b[39m \u001b[39m1\u001b[39m \u001b[39mor\u001b[39;00m start_month \u001b[39m>\u001b[39m \u001b[39m12\u001b[39m) \u001b[39mor\u001b[39;00m (end_month \u001b[39mis\u001b[39;00m \u001b[39mnot\u001b[39;00m \u001b[39mNone\u001b[39;00m \u001b[39mand\u001b[39;00m (end_month \u001b[39m<\u001b[39m \u001b[39m1\u001b[39m \u001b[39mor\u001b[39;00m end_month \u001b[39m>\u001b[39m \u001b[39m12\u001b[39m)):\n\u001b[0;32m     <a href='vscode-notebook-cell:/d%3A/DiplomadoWindow/Python/Diplomado_PUCP/Lecture_5/Assigment5/group_13_ass_5_2023.ipynb#W3sZmlsZQ%3D%3D?line=9'>10</a>\u001b[0m     \u001b[39mraise\u001b[39;00m \u001b[39mValueError\u001b[39;00m(\u001b[39m\"\u001b[39m\u001b[39mLos meses deben estar en el rango de 1 a 12\u001b[39m\u001b[39m\"\u001b[39m)\n",
      "\u001b[1;31mValueError\u001b[0m: Los parámetros de mes y año deben ser números enteros positivos"
     ]
    }
   ],
   "source": [
    "##con todos los datos\n",
    "data=import_data_sbs_banks(3,-2002,12,2008)\n",
    "print(data)"
   ]
  },
  {
   "cell_type": "code",
   "execution_count": 43,
   "metadata": {},
   "outputs": [
    {
     "ename": "ValueError",
     "evalue": "Los parámetros de mes y año deben ser números enteros positivos",
     "output_type": "error",
     "traceback": [
      "\u001b[1;31m---------------------------------------------------------------------------\u001b[0m",
      "\u001b[1;31mValueError\u001b[0m                                Traceback (most recent call last)",
      "\u001b[1;32md:\\DiplomadoWindow\\Python\\Diplomado_PUCP\\Lecture_5\\Assigment5\\group_13_ass_5_2023.ipynb Cell 5\u001b[0m line \u001b[0;36m2\n\u001b[0;32m      <a href='vscode-notebook-cell:/d%3A/DiplomadoWindow/Python/Diplomado_PUCP/Lecture_5/Assigment5/group_13_ass_5_2023.ipynb#W6sZmlsZQ%3D%3D?line=0'>1</a>\u001b[0m \u001b[39m##con los datos de inicio\u001b[39;00m\n\u001b[1;32m----> <a href='vscode-notebook-cell:/d%3A/DiplomadoWindow/Python/Diplomado_PUCP/Lecture_5/Assigment5/group_13_ass_5_2023.ipynb#W6sZmlsZQ%3D%3D?line=1'>2</a>\u001b[0m data\u001b[39m=\u001b[39mimport_data_sbs_banks(\u001b[39m-\u001b[39m\u001b[39m3\u001b[39m,\u001b[39m2010\u001b[39m)\n\u001b[0;32m      <a href='vscode-notebook-cell:/d%3A/DiplomadoWindow/Python/Diplomado_PUCP/Lecture_5/Assigment5/group_13_ass_5_2023.ipynb#W6sZmlsZQ%3D%3D?line=2'>3</a>\u001b[0m \u001b[39mprint\u001b[39m(data)\n",
      "\u001b[1;32md:\\DiplomadoWindow\\Python\\Diplomado_PUCP\\Lecture_5\\Assigment5\\group_13_ass_5_2023.ipynb Cell 5\u001b[0m line \u001b[0;36m7\n\u001b[0;32m      <a href='vscode-notebook-cell:/d%3A/DiplomadoWindow/Python/Diplomado_PUCP/Lecture_5/Assigment5/group_13_ass_5_2023.ipynb#W6sZmlsZQ%3D%3D?line=4'>5</a>\u001b[0m \u001b[39mfor\u001b[39;00m param \u001b[39min\u001b[39;00m [start_month, start_year, end_month, end_year]:\n\u001b[0;32m      <a href='vscode-notebook-cell:/d%3A/DiplomadoWindow/Python/Diplomado_PUCP/Lecture_5/Assigment5/group_13_ass_5_2023.ipynb#W6sZmlsZQ%3D%3D?line=5'>6</a>\u001b[0m     \u001b[39mif\u001b[39;00m param \u001b[39mis\u001b[39;00m \u001b[39mnot\u001b[39;00m \u001b[39mNone\u001b[39;00m \u001b[39mand\u001b[39;00m (\u001b[39mnot\u001b[39;00m \u001b[39misinstance\u001b[39m(param, \u001b[39mint\u001b[39m) \u001b[39mor\u001b[39;00m param \u001b[39m<\u001b[39m\u001b[39m=\u001b[39m \u001b[39m0\u001b[39m):\n\u001b[1;32m----> <a href='vscode-notebook-cell:/d%3A/DiplomadoWindow/Python/Diplomado_PUCP/Lecture_5/Assigment5/group_13_ass_5_2023.ipynb#W6sZmlsZQ%3D%3D?line=6'>7</a>\u001b[0m         \u001b[39mraise\u001b[39;00m \u001b[39mValueError\u001b[39;00m(\u001b[39m\"\u001b[39m\u001b[39mLos parámetros de mes y año deben ser números enteros positivos\u001b[39m\u001b[39m\"\u001b[39m)\n\u001b[0;32m     <a href='vscode-notebook-cell:/d%3A/DiplomadoWindow/Python/Diplomado_PUCP/Lecture_5/Assigment5/group_13_ass_5_2023.ipynb#W6sZmlsZQ%3D%3D?line=9'>10</a>\u001b[0m ruta \u001b[39m=\u001b[39m \u001b[39mr\u001b[39m\u001b[39m\"\u001b[39m\u001b[39m../../_data\u001b[39m\u001b[39m\\\u001b[39m\u001b[39msbs\u001b[39m\u001b[39m\\\u001b[39m\u001b[39mB_RawData\u001b[39m\u001b[39m\\\u001b[39m\u001b[39mbancos\u001b[39m\u001b[39m\"\u001b[39m\n\u001b[0;32m     <a href='vscode-notebook-cell:/d%3A/DiplomadoWindow/Python/Diplomado_PUCP/Lecture_5/Assigment5/group_13_ass_5_2023.ipynb#W6sZmlsZQ%3D%3D?line=11'>12</a>\u001b[0m data \u001b[39m=\u001b[39m {}\n",
      "\u001b[1;31mValueError\u001b[0m: Los parámetros de mes y año deben ser números enteros positivos"
     ]
    }
   ],
   "source": [
    "##con los datos de inicio\n",
    "data=import_data_sbs_banks(3,2010)\n",
    "print(data)"
   ]
  },
  {
   "cell_type": "code",
   "execution_count": 36,
   "id": "9f886298",
   "metadata": {},
   "outputs": [
    {
     "ename": "ValueError",
     "evalue": "Los parámetros de mes y año deben ser números enteros",
     "output_type": "error",
     "traceback": [
      "\u001b[1;31m---------------------------------------------------------------------------\u001b[0m",
      "\u001b[1;31mValueError\u001b[0m                                Traceback (most recent call last)",
      "\u001b[1;32md:\\DiplomadoWindow\\Python\\Diplomado_PUCP\\Lecture_5\\Assigment5\\group_13_ass_5_2023.ipynb Cell 6\u001b[0m line \u001b[0;36m2\n\u001b[0;32m      <a href='vscode-notebook-cell:/d%3A/DiplomadoWindow/Python/Diplomado_PUCP/Lecture_5/Assigment5/group_13_ass_5_2023.ipynb#W4sZmlsZQ%3D%3D?line=0'>1</a>\u001b[0m \u001b[39m##sin anios de inicio\u001b[39;00m\n\u001b[1;32m----> <a href='vscode-notebook-cell:/d%3A/DiplomadoWindow/Python/Diplomado_PUCP/Lecture_5/Assigment5/group_13_ass_5_2023.ipynb#W4sZmlsZQ%3D%3D?line=1'>2</a>\u001b[0m data\u001b[39m=\u001b[39mimport_data_sbs_banks(\u001b[39m'\u001b[39m\u001b[39ma\u001b[39m\u001b[39m'\u001b[39m,\u001b[39m2002\u001b[39m,\u001b[39m12\u001b[39m,\u001b[39m2008\u001b[39m)\n\u001b[0;32m      <a href='vscode-notebook-cell:/d%3A/DiplomadoWindow/Python/Diplomado_PUCP/Lecture_5/Assigment5/group_13_ass_5_2023.ipynb#W4sZmlsZQ%3D%3D?line=2'>3</a>\u001b[0m \u001b[39mprint\u001b[39m(data)\n",
      "\u001b[1;32md:\\DiplomadoWindow\\Python\\Diplomado_PUCP\\Lecture_5\\Assigment5\\group_13_ass_5_2023.ipynb Cell 6\u001b[0m line \u001b[0;36m5\n\u001b[0;32m      <a href='vscode-notebook-cell:/d%3A/DiplomadoWindow/Python/Diplomado_PUCP/Lecture_5/Assigment5/group_13_ass_5_2023.ipynb#W4sZmlsZQ%3D%3D?line=0'>1</a>\u001b[0m \u001b[39mdef\u001b[39;00m \u001b[39mimport_data_sbs_banks\u001b[39m(start_month, start_year, end_month \u001b[39m=\u001b[39m\u001b[39m0\u001b[39m, end_year\u001b[39m=\u001b[39m\u001b[39m0\u001b[39m):\n\u001b[0;32m      <a href='vscode-notebook-cell:/d%3A/DiplomadoWindow/Python/Diplomado_PUCP/Lecture_5/Assigment5/group_13_ass_5_2023.ipynb#W4sZmlsZQ%3D%3D?line=1'>2</a>\u001b[0m     \n\u001b[0;32m      <a href='vscode-notebook-cell:/d%3A/DiplomadoWindow/Python/Diplomado_PUCP/Lecture_5/Assigment5/group_13_ass_5_2023.ipynb#W4sZmlsZQ%3D%3D?line=2'>3</a>\u001b[0m     \u001b[39m# Validar que los parámetros sean números enteros\u001b[39;00m\n\u001b[0;32m      <a href='vscode-notebook-cell:/d%3A/DiplomadoWindow/Python/Diplomado_PUCP/Lecture_5/Assigment5/group_13_ass_5_2023.ipynb#W4sZmlsZQ%3D%3D?line=3'>4</a>\u001b[0m     \u001b[39mif\u001b[39;00m \u001b[39mnot\u001b[39;00m \u001b[39mall\u001b[39m(\u001b[39misinstance\u001b[39m(param, \u001b[39mint\u001b[39m) \u001b[39mfor\u001b[39;00m param \u001b[39min\u001b[39;00m [start_month, start_year, end_month, end_year] \u001b[39mif\u001b[39;00m param \u001b[39mis\u001b[39;00m \u001b[39mnot\u001b[39;00m \u001b[39mNone\u001b[39;00m):\n\u001b[1;32m----> <a href='vscode-notebook-cell:/d%3A/DiplomadoWindow/Python/Diplomado_PUCP/Lecture_5/Assigment5/group_13_ass_5_2023.ipynb#W4sZmlsZQ%3D%3D?line=4'>5</a>\u001b[0m         \u001b[39mraise\u001b[39;00m \u001b[39mValueError\u001b[39;00m(\u001b[39m\"\u001b[39m\u001b[39mLos parámetros de mes y año deben ser números enteros\u001b[39m\u001b[39m\"\u001b[39m)\n\u001b[0;32m      <a href='vscode-notebook-cell:/d%3A/DiplomadoWindow/Python/Diplomado_PUCP/Lecture_5/Assigment5/group_13_ass_5_2023.ipynb#W4sZmlsZQ%3D%3D?line=7'>8</a>\u001b[0m     ruta \u001b[39m=\u001b[39m \u001b[39mr\u001b[39m\u001b[39m\"\u001b[39m\u001b[39m../../_data\u001b[39m\u001b[39m\\\u001b[39m\u001b[39msbs\u001b[39m\u001b[39m\\\u001b[39m\u001b[39mB_RawData\u001b[39m\u001b[39m\\\u001b[39m\u001b[39mbancos\u001b[39m\u001b[39m\"\u001b[39m\n\u001b[0;32m     <a href='vscode-notebook-cell:/d%3A/DiplomadoWindow/Python/Diplomado_PUCP/Lecture_5/Assigment5/group_13_ass_5_2023.ipynb#W4sZmlsZQ%3D%3D?line=9'>10</a>\u001b[0m     data \u001b[39m=\u001b[39m {}\n",
      "\u001b[1;31mValueError\u001b[0m: Los parámetros de mes y año deben ser números enteros"
     ]
    }
   ],
   "source": [
    "##sin anios de inicio\n",
    "data=import_data_sbs_banks('a',2002,12,2008)\n",
    "print(data)"
   ]
  },
  {
   "cell_type": "code",
   "execution_count": 41,
   "metadata": {},
   "outputs": [
    {
     "ename": "ValueError",
     "evalue": "La fecha de inicio debe ser anterior o igual a la fecha final",
     "output_type": "error",
     "traceback": [
      "\u001b[1;31m---------------------------------------------------------------------------\u001b[0m",
      "\u001b[1;31mValueError\u001b[0m                                Traceback (most recent call last)",
      "\u001b[1;32md:\\DiplomadoWindow\\Python\\Diplomado_PUCP\\Lecture_5\\Assigment5\\group_13_ass_5_2023.ipynb Cell 7\u001b[0m line \u001b[0;36m2\n\u001b[0;32m      <a href='vscode-notebook-cell:/d%3A/DiplomadoWindow/Python/Diplomado_PUCP/Lecture_5/Assigment5/group_13_ass_5_2023.ipynb#X10sZmlsZQ%3D%3D?line=0'>1</a>\u001b[0m \u001b[39m##sin anios de inicio\u001b[39;00m\n\u001b[1;32m----> <a href='vscode-notebook-cell:/d%3A/DiplomadoWindow/Python/Diplomado_PUCP/Lecture_5/Assigment5/group_13_ass_5_2023.ipynb#X10sZmlsZQ%3D%3D?line=1'>2</a>\u001b[0m data\u001b[39m=\u001b[39mimport_data_sbs_banks(\u001b[39m12\u001b[39m,\u001b[39m2008\u001b[39m,\u001b[39m3\u001b[39m,\u001b[39m2002\u001b[39m)\n\u001b[0;32m      <a href='vscode-notebook-cell:/d%3A/DiplomadoWindow/Python/Diplomado_PUCP/Lecture_5/Assigment5/group_13_ass_5_2023.ipynb#X10sZmlsZQ%3D%3D?line=2'>3</a>\u001b[0m \u001b[39mprint\u001b[39m(data)\n",
      "\u001b[1;32md:\\DiplomadoWindow\\Python\\Diplomado_PUCP\\Lecture_5\\Assigment5\\group_13_ass_5_2023.ipynb Cell 7\u001b[0m line \u001b[0;36m3\n\u001b[0;32m     <a href='vscode-notebook-cell:/d%3A/DiplomadoWindow/Python/Diplomado_PUCP/Lecture_5/Assigment5/group_13_ass_5_2023.ipynb#X10sZmlsZQ%3D%3D?line=28'>29</a>\u001b[0m end_date \u001b[39m=\u001b[39m datetime(end_year, end_month, \u001b[39m1\u001b[39m) \u001b[39m+\u001b[39m timedelta(days\u001b[39m=\u001b[39m\u001b[39m31\u001b[39m) \u001b[39m## fin de fecha \u001b[39;00m\n\u001b[0;32m     <a href='vscode-notebook-cell:/d%3A/DiplomadoWindow/Python/Diplomado_PUCP/Lecture_5/Assigment5/group_13_ass_5_2023.ipynb#X10sZmlsZQ%3D%3D?line=30'>31</a>\u001b[0m \u001b[39mif\u001b[39;00m start_date \u001b[39m>\u001b[39m end_date:\n\u001b[1;32m---> <a href='vscode-notebook-cell:/d%3A/DiplomadoWindow/Python/Diplomado_PUCP/Lecture_5/Assigment5/group_13_ass_5_2023.ipynb#X10sZmlsZQ%3D%3D?line=31'>32</a>\u001b[0m     \u001b[39mraise\u001b[39;00m \u001b[39mValueError\u001b[39;00m(\u001b[39m\"\u001b[39m\u001b[39mLa fecha de inicio debe ser anterior o igual a la fecha final\u001b[39m\u001b[39m\"\u001b[39m)\n\u001b[0;32m     <a href='vscode-notebook-cell:/d%3A/DiplomadoWindow/Python/Diplomado_PUCP/Lecture_5/Assigment5/group_13_ass_5_2023.ipynb#X10sZmlsZQ%3D%3D?line=33'>34</a>\u001b[0m \u001b[39m#print(f'end_date is {end_date} ok' )\u001b[39;00m\n\u001b[0;32m     <a href='vscode-notebook-cell:/d%3A/DiplomadoWindow/Python/Diplomado_PUCP/Lecture_5/Assigment5/group_13_ass_5_2023.ipynb#X10sZmlsZQ%3D%3D?line=34'>35</a>\u001b[0m end_date \u001b[39m=\u001b[39m end_date\u001b[39m.\u001b[39mreplace(day\u001b[39m=\u001b[39m\u001b[39m1\u001b[39m) \u001b[39m-\u001b[39m timedelta(days\u001b[39m=\u001b[39m\u001b[39m1\u001b[39m)  \u001b[39m# fecha final con dias\u001b[39;00m\n",
      "\u001b[1;31mValueError\u001b[0m: La fecha de inicio debe ser anterior o igual a la fecha final"
     ]
    }
   ],
   "source": [
    "##fecha final menor\n",
    "data=import_data_sbs_banks(12,2008,3,2002)\n",
    "print(data)"
   ]
  },
  {
   "cell_type": "code",
   "execution_count": 42,
   "id": "0e1da6bd",
   "metadata": {},
   "outputs": [
    {
     "ename": "ValueError",
     "evalue": "Los parámetros de mes y año deben ser números enteros positivos",
     "output_type": "error",
     "traceback": [
      "\u001b[1;31m---------------------------------------------------------------------------\u001b[0m",
      "\u001b[1;31mValueError\u001b[0m                                Traceback (most recent call last)",
      "\u001b[1;32md:\\DiplomadoWindow\\Python\\Diplomado_PUCP\\Lecture_5\\Assigment5\\group_13_ass_5_2023.ipynb Cell 8\u001b[0m line \u001b[0;36m2\n\u001b[0;32m      <a href='vscode-notebook-cell:/d%3A/DiplomadoWindow/Python/Diplomado_PUCP/Lecture_5/Assigment5/group_13_ass_5_2023.ipynb#W5sZmlsZQ%3D%3D?line=0'>1</a>\u001b[0m \u001b[39m##sin anios de inicio\u001b[39;00m\n\u001b[1;32m----> <a href='vscode-notebook-cell:/d%3A/DiplomadoWindow/Python/Diplomado_PUCP/Lecture_5/Assigment5/group_13_ass_5_2023.ipynb#W5sZmlsZQ%3D%3D?line=1'>2</a>\u001b[0m data\u001b[39m=\u001b[39mimport_data_sbs_banks(\u001b[39m'\u001b[39m\u001b[39m'\u001b[39m,\u001b[39m'\u001b[39m\u001b[39m'\u001b[39m,\u001b[39m3\u001b[39m,\u001b[39m2010\u001b[39m)\n\u001b[0;32m      <a href='vscode-notebook-cell:/d%3A/DiplomadoWindow/Python/Diplomado_PUCP/Lecture_5/Assigment5/group_13_ass_5_2023.ipynb#W5sZmlsZQ%3D%3D?line=2'>3</a>\u001b[0m \u001b[39mprint\u001b[39m(data)\n",
      "\u001b[1;32md:\\DiplomadoWindow\\Python\\Diplomado_PUCP\\Lecture_5\\Assigment5\\group_13_ass_5_2023.ipynb Cell 8\u001b[0m line \u001b[0;36m7\n\u001b[0;32m      <a href='vscode-notebook-cell:/d%3A/DiplomadoWindow/Python/Diplomado_PUCP/Lecture_5/Assigment5/group_13_ass_5_2023.ipynb#W5sZmlsZQ%3D%3D?line=4'>5</a>\u001b[0m \u001b[39mfor\u001b[39;00m param \u001b[39min\u001b[39;00m [start_month, start_year, end_month, end_year]:\n\u001b[0;32m      <a href='vscode-notebook-cell:/d%3A/DiplomadoWindow/Python/Diplomado_PUCP/Lecture_5/Assigment5/group_13_ass_5_2023.ipynb#W5sZmlsZQ%3D%3D?line=5'>6</a>\u001b[0m     \u001b[39mif\u001b[39;00m param \u001b[39mis\u001b[39;00m \u001b[39mnot\u001b[39;00m \u001b[39mNone\u001b[39;00m \u001b[39mand\u001b[39;00m (\u001b[39mnot\u001b[39;00m \u001b[39misinstance\u001b[39m(param, \u001b[39mint\u001b[39m) \u001b[39mor\u001b[39;00m param \u001b[39m<\u001b[39m\u001b[39m=\u001b[39m \u001b[39m0\u001b[39m):\n\u001b[1;32m----> <a href='vscode-notebook-cell:/d%3A/DiplomadoWindow/Python/Diplomado_PUCP/Lecture_5/Assigment5/group_13_ass_5_2023.ipynb#W5sZmlsZQ%3D%3D?line=6'>7</a>\u001b[0m         \u001b[39mraise\u001b[39;00m \u001b[39mValueError\u001b[39;00m(\u001b[39m\"\u001b[39m\u001b[39mLos parámetros de mes y año deben ser números enteros positivos\u001b[39m\u001b[39m\"\u001b[39m)\n\u001b[0;32m     <a href='vscode-notebook-cell:/d%3A/DiplomadoWindow/Python/Diplomado_PUCP/Lecture_5/Assigment5/group_13_ass_5_2023.ipynb#W5sZmlsZQ%3D%3D?line=9'>10</a>\u001b[0m ruta \u001b[39m=\u001b[39m \u001b[39mr\u001b[39m\u001b[39m\"\u001b[39m\u001b[39m../../_data\u001b[39m\u001b[39m\\\u001b[39m\u001b[39msbs\u001b[39m\u001b[39m\\\u001b[39m\u001b[39mB_RawData\u001b[39m\u001b[39m\\\u001b[39m\u001b[39mbancos\u001b[39m\u001b[39m\"\u001b[39m\n\u001b[0;32m     <a href='vscode-notebook-cell:/d%3A/DiplomadoWindow/Python/Diplomado_PUCP/Lecture_5/Assigment5/group_13_ass_5_2023.ipynb#W5sZmlsZQ%3D%3D?line=11'>12</a>\u001b[0m data \u001b[39m=\u001b[39m {}\n",
      "\u001b[1;31mValueError\u001b[0m: Los parámetros de mes y año deben ser números enteros positivos"
     ]
    }
   ],
   "source": [
    " ##sin anios de inicio\n",
    "data=import_data_sbs_banks('','',3,2010)\n",
    "print(data)"
   ]
  }
 ],
 "metadata": {
  "kernelspec": {
   "display_name": "Python 3 (ipykernel)",
   "language": "python",
   "name": "python3"
  },
  "language_info": {
   "codemirror_mode": {
    "name": "ipython",
    "version": 3
   },
   "file_extension": ".py",
   "mimetype": "text/x-python",
   "name": "python",
   "nbconvert_exporter": "python",
   "pygments_lexer": "ipython3",
   "version": "3.11.5"
  }
 },
 "nbformat": 4,
 "nbformat_minor": 5
}
