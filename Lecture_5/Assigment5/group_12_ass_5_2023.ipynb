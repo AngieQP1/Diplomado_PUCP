{
 "cells": [
  {
   "cell_type": "markdown",
   "metadata": {},
   "source": [
    "# Assigment 5\n",
    "\n",
    "This assigment will be graded if everything works well. I will run the script as once and everything should be done without errors and mistakes. I should be able to run your scripts in my computer and get all the results. **USE RELATIVE PATHS**. An error or exception or anything that breaks the code will means NO GRADE (0). Additionally, you are not able to modify any file handly. It also means NO GRADE (0). Comment everything you think will help others read your script. We expect 0 errors using GitHub. Everything will be graded!\n",
    "\n",
    "**ASK EVERYTHING! WE ARE HERE TO HELP YOU!**"
   ]
  },
  {
   "cell_type": "markdown",
   "metadata": {},
   "source": [
    "In this path **..\\_data\\sbs\\B_RawData\\bancos** you will find scraped data from [this link](https://www.sbs.gob.pe/app/pp/EstadisticasSAEEPortal/Paginas/TIActivaTipoCreditoEmpresa.aspx?tip=B). We get all the information of the last available day of every each month.\n",
    "\n",
    "1. Generate a function called **import_data_sbs_banks** that take as arguments `start_month`, `start_year`, `end_month` and `end_year`. This function should be able to import the files in **..\\_data\\sbs\\B_RawData\\bancos** taking into consideration these arguments. Additionally, it should work if it is only given the first two arguments `(start_mont, start_year)`. The function should `returns` a nested dictionary. The `main key` must be year and `second key` must be `month`. The values should be the dataframes."
   ]
  },
  {
   "cell_type": "markdown",
   "metadata": {},
   "source": [
    "## 1.0. Show all data from SBS"
   ]
  },
  {
   "cell_type": "code",
   "execution_count": 1,
   "metadata": {
    "scrolled": true
   },
   "outputs": [
    {
     "name": "stdout",
     "output_type": "stream",
     "text": [
      "['../../_data/sbs/B_RawData/bancos\\\\table_clean_26_2_2004.xlsx', '../../_data/sbs/B_RawData/bancos\\\\table_clean_26_2_2010.xlsx', '../../_data/sbs/B_RawData/bancos\\\\table_clean_26_2_2021.xlsx', '../../_data/sbs/B_RawData/bancos\\\\table_clean_27_2_2009.xlsx', '../../_data/sbs/B_RawData/bancos\\\\table_clean_27_2_2015.xlsx', '../../_data/sbs/B_RawData/bancos\\\\table_clean_27_3_2013.xlsx', '../../_data/sbs/B_RawData/bancos\\\\table_clean_27_7_2005.xlsx', '../../_data/sbs/B_RawData/bancos\\\\table_clean_27_7_2010.xlsx', '../../_data/sbs/B_RawData/bancos\\\\table_clean_27_7_2011.xlsx', '../../_data/sbs/B_RawData/bancos\\\\table_clean_27_7_2016.xlsx', '../../_data/sbs/B_RawData/bancos\\\\table_clean_27_7_2022.xlsx', '../../_data/sbs/B_RawData/bancos\\\\table_clean_27_8_2019.xlsx', '../../_data/sbs/B_RawData/bancos\\\\table_clean_28_10_2011.xlsx', '../../_data/sbs/B_RawData/bancos\\\\table_clean_28_11_2003.xlsx', '../../_data/sbs/B_RawData/bancos\\\\table_clean_28_11_2008.xlsx', '../../_data/sbs/B_RawData/bancos\\\\table_clean_28_11_2014.xlsx', '../../_data/sbs/B_RawData/bancos\\\\table_clean_28_12_2012.xlsx', '../../_data/sbs/B_RawData/bancos\\\\table_clean_28_2_2003.xlsx', '../../_data/sbs/B_RawData/bancos\\\\table_clean_28_2_2005.xlsx', '../../_data/sbs/B_RawData/bancos\\\\table_clean_28_2_2006.xlsx', '../../_data/sbs/B_RawData/bancos\\\\table_clean_28_2_2007.xlsx', '../../_data/sbs/B_RawData/bancos\\\\table_clean_28_2_2011.xlsx', '../../_data/sbs/B_RawData/bancos\\\\table_clean_28_2_2013.xlsx', '../../_data/sbs/B_RawData/bancos\\\\table_clean_28_2_2014.xlsx', '../../_data/sbs/B_RawData/bancos\\\\table_clean_28_2_2017.xlsx', '../../_data/sbs/B_RawData/bancos\\\\table_clean_28_2_2018.xlsx', '../../_data/sbs/B_RawData/bancos\\\\table_clean_28_2_2019.xlsx', '../../_data/sbs/B_RawData/bancos\\\\table_clean_28_2_2020.xlsx', '../../_data/sbs/B_RawData/bancos\\\\table_clean_28_2_2022.xlsx', '../../_data/sbs/B_RawData/bancos\\\\table_clean_28_3_2018.xlsx', '../../_data/sbs/B_RawData/bancos\\\\table_clean_28_3_2019.xlsx', '../../_data/sbs/B_RawData/bancos\\\\table_clean_28_4_2006.xlsx', '../../_data/sbs/B_RawData/bancos\\\\table_clean_28_4_2017.xlsx', '../../_data/sbs/B_RawData/bancos\\\\table_clean_28_6_2007.xlsx', '../../_data/sbs/B_RawData/bancos\\\\table_clean_28_6_2012.xlsx', '../../_data/sbs/B_RawData/bancos\\\\table_clean_28_6_2013.xlsx', '../../_data/sbs/B_RawData/bancos\\\\table_clean_28_6_2017.xlsx', '../../_data/sbs/B_RawData/bancos\\\\table_clean_28_6_2018.xlsx', '../../_data/sbs/B_RawData/bancos\\\\table_clean_28_6_2019.xlsx', '../../_data/sbs/B_RawData/bancos\\\\table_clean_28_9_2007.xlsx', '../../_data/sbs/B_RawData/bancos\\\\table_clean_28_9_2012.xlsx', '../../_data/sbs/B_RawData/bancos\\\\table_clean_28_9_2018.xlsx', '../../_data/sbs/B_RawData/bancos\\\\table_clean_29_10_2004.xlsx', '../../_data/sbs/B_RawData/bancos\\\\table_clean_29_10_2010.xlsx', '../../_data/sbs/B_RawData/bancos\\\\table_clean_29_10_2021.xlsx', '../../_data/sbs/B_RawData/bancos\\\\table_clean_29_11_2002.xlsx', '../../_data/sbs/B_RawData/bancos\\\\table_clean_29_11_2005.xlsx', '../../_data/sbs/B_RawData/bancos\\\\table_clean_29_11_2013.xlsx', '../../_data/sbs/B_RawData/bancos\\\\table_clean_29_11_2019.xlsx', '../../_data/sbs/B_RawData/bancos\\\\table_clean_29_12_2006.xlsx', '../../_data/sbs/B_RawData/bancos\\\\table_clean_29_12_2017.xlsx', '../../_data/sbs/B_RawData/bancos\\\\table_clean_29_1_2004.xlsx', '../../_data/sbs/B_RawData/bancos\\\\table_clean_29_1_2010.xlsx', '../../_data/sbs/B_RawData/bancos\\\\table_clean_29_1_2016.xlsx', '../../_data/sbs/B_RawData/bancos\\\\table_clean_29_1_2021.xlsx', '../../_data/sbs/B_RawData/bancos\\\\table_clean_29_2_2008.xlsx', '../../_data/sbs/B_RawData/bancos\\\\table_clean_29_2_2012.xlsx', '../../_data/sbs/B_RawData/bancos\\\\table_clean_29_2_2016.xlsx', '../../_data/sbs/B_RawData/bancos\\\\table_clean_29_4_2005.xlsx', '../../_data/sbs/B_RawData/bancos\\\\table_clean_29_4_2011.xlsx', '../../_data/sbs/B_RawData/bancos\\\\table_clean_29_4_2016.xlsx', '../../_data/sbs/B_RawData/bancos\\\\table_clean_29_4_2022.xlsx', '../../_data/sbs/B_RawData/bancos\\\\table_clean_29_5_2009.xlsx', '../../_data/sbs/B_RawData/bancos\\\\table_clean_29_5_2015.xlsx', '../../_data/sbs/B_RawData/bancos\\\\table_clean_29_5_2020.xlsx', '../../_data/sbs/B_RawData/bancos\\\\table_clean_29_8_2003.xlsx', '../../_data/sbs/B_RawData/bancos\\\\table_clean_29_8_2008.xlsx', '../../_data/sbs/B_RawData/bancos\\\\table_clean_29_8_2012.xlsx', '../../_data/sbs/B_RawData/bancos\\\\table_clean_29_8_2013.xlsx', '../../_data/sbs/B_RawData/bancos\\\\table_clean_29_8_2014.xlsx', '../../_data/sbs/B_RawData/bancos\\\\table_clean_29_8_2018.xlsx', '../../_data/sbs/B_RawData/bancos\\\\table_clean_29_9_2006.xlsx', '../../_data/sbs/B_RawData/bancos\\\\table_clean_29_9_2017.xlsx', '../../_data/sbs/B_RawData/bancos\\\\table_clean_30_10_2009.xlsx', '../../_data/sbs/B_RawData/bancos\\\\table_clean_30_10_2015.xlsx', '../../_data/sbs/B_RawData/bancos\\\\table_clean_30_10_2019.xlsx', '../../_data/sbs/B_RawData/bancos\\\\table_clean_30_10_2020.xlsx', '../../_data/sbs/B_RawData/bancos\\\\table_clean_30_11_2004.xlsx', '../../_data/sbs/B_RawData/bancos\\\\table_clean_30_11_2006.xlsx', '../../_data/sbs/B_RawData/bancos\\\\table_clean_30_11_2007.xlsx', '../../_data/sbs/B_RawData/bancos\\\\table_clean_30_11_2009.xlsx', '../../_data/sbs/B_RawData/bancos\\\\table_clean_30_11_2010.xlsx', '../../_data/sbs/B_RawData/bancos\\\\table_clean_30_11_2011.xlsx', '../../_data/sbs/B_RawData/bancos\\\\table_clean_30_11_2012.xlsx', '../../_data/sbs/B_RawData/bancos\\\\table_clean_30_11_2015.xlsx', '../../_data/sbs/B_RawData/bancos\\\\table_clean_30_11_2016.xlsx', '../../_data/sbs/B_RawData/bancos\\\\table_clean_30_11_2017.xlsx', '../../_data/sbs/B_RawData/bancos\\\\table_clean_30_11_2018.xlsx', '../../_data/sbs/B_RawData/bancos\\\\table_clean_30_11_2020.xlsx', '../../_data/sbs/B_RawData/bancos\\\\table_clean_30_11_2021.xlsx', '../../_data/sbs/B_RawData/bancos\\\\table_clean_30_12_2005.xlsx', '../../_data/sbs/B_RawData/bancos\\\\table_clean_30_12_2008.xlsx', '../../_data/sbs/B_RawData/bancos\\\\table_clean_30_12_2009.xlsx', '../../_data/sbs/B_RawData/bancos\\\\table_clean_30_12_2011.xlsx', '../../_data/sbs/B_RawData/bancos\\\\table_clean_30_12_2013.xlsx', '../../_data/sbs/B_RawData/bancos\\\\table_clean_30_12_2016.xlsx', '../../_data/sbs/B_RawData/bancos\\\\table_clean_30_1_2009.xlsx', '../../_data/sbs/B_RawData/bancos\\\\table_clean_30_1_2015.xlsx', '../../_data/sbs/B_RawData/bancos\\\\table_clean_30_3_2007.xlsx', '../../_data/sbs/B_RawData/bancos\\\\table_clean_30_3_2012.xlsx', '../../_data/sbs/B_RawData/bancos\\\\table_clean_30_4_2003.xlsx', '../../_data/sbs/B_RawData/bancos\\\\table_clean_30_4_2004.xlsx', '../../_data/sbs/B_RawData/bancos\\\\table_clean_30_4_2007.xlsx', '../../_data/sbs/B_RawData/bancos\\\\table_clean_30_4_2008.xlsx', '../../_data/sbs/B_RawData/bancos\\\\table_clean_30_4_2009.xlsx', '../../_data/sbs/B_RawData/bancos\\\\table_clean_30_4_2010.xlsx', '../../_data/sbs/B_RawData/bancos\\\\table_clean_30_4_2012.xlsx', '../../_data/sbs/B_RawData/bancos\\\\table_clean_30_4_2013.xlsx', '../../_data/sbs/B_RawData/bancos\\\\table_clean_30_4_2014.xlsx', '../../_data/sbs/B_RawData/bancos\\\\table_clean_30_4_2015.xlsx', '../../_data/sbs/B_RawData/bancos\\\\table_clean_30_4_2018.xlsx', '../../_data/sbs/B_RawData/bancos\\\\table_clean_30_4_2019.xlsx', '../../_data/sbs/B_RawData/bancos\\\\table_clean_30_4_2020.xlsx', '../../_data/sbs/B_RawData/bancos\\\\table_clean_30_4_2021.xlsx', '../../_data/sbs/B_RawData/bancos\\\\table_clean_30_5_2003.xlsx', '../../_data/sbs/B_RawData/bancos\\\\table_clean_30_5_2008.xlsx', '../../_data/sbs/B_RawData/bancos\\\\table_clean_30_5_2014.xlsx', '../../_data/sbs/B_RawData/bancos\\\\table_clean_30_6_2003.xlsx', '../../_data/sbs/B_RawData/bancos\\\\table_clean_30_6_2004.xlsx', '../../_data/sbs/B_RawData/bancos\\\\table_clean_30_6_2005.xlsx', '../../_data/sbs/B_RawData/bancos\\\\table_clean_30_6_2006.xlsx', '../../_data/sbs/B_RawData/bancos\\\\table_clean_30_6_2008.xlsx', '../../_data/sbs/B_RawData/bancos\\\\table_clean_30_6_2009.xlsx', '../../_data/sbs/B_RawData/bancos\\\\table_clean_30_6_2010.xlsx', '../../_data/sbs/B_RawData/bancos\\\\table_clean_30_6_2011.xlsx', '../../_data/sbs/B_RawData/bancos\\\\table_clean_30_6_2014.xlsx', '../../_data/sbs/B_RawData/bancos\\\\table_clean_30_6_2015.xlsx', '../../_data/sbs/B_RawData/bancos\\\\table_clean_30_6_2016.xlsx', '../../_data/sbs/B_RawData/bancos\\\\table_clean_30_6_2020.xlsx', '../../_data/sbs/B_RawData/bancos\\\\table_clean_30_6_2021.xlsx', '../../_data/sbs/B_RawData/bancos\\\\table_clean_30_6_2022.xlsx', '../../_data/sbs/B_RawData/bancos\\\\table_clean_30_7_2004.xlsx', '../../_data/sbs/B_RawData/bancos\\\\table_clean_30_7_2021.xlsx', '../../_data/sbs/B_RawData/bancos\\\\table_clean_30_9_2002.xlsx', '../../_data/sbs/B_RawData/bancos\\\\table_clean_30_9_2003.xlsx', '../../_data/sbs/B_RawData/bancos\\\\table_clean_30_9_2004.xlsx', '../../_data/sbs/B_RawData/bancos\\\\table_clean_30_9_2005.xlsx', '../../_data/sbs/B_RawData/bancos\\\\table_clean_30_9_2008.xlsx', '../../_data/sbs/B_RawData/bancos\\\\table_clean_30_9_2009.xlsx', '../../_data/sbs/B_RawData/bancos\\\\table_clean_30_9_2010.xlsx', '../../_data/sbs/B_RawData/bancos\\\\table_clean_30_9_2011.xlsx', '../../_data/sbs/B_RawData/bancos\\\\table_clean_30_9_2013.xlsx', '../../_data/sbs/B_RawData/bancos\\\\table_clean_30_9_2014.xlsx', '../../_data/sbs/B_RawData/bancos\\\\table_clean_30_9_2015.xlsx', '../../_data/sbs/B_RawData/bancos\\\\table_clean_30_9_2016.xlsx', '../../_data/sbs/B_RawData/bancos\\\\table_clean_30_9_2019.xlsx', '../../_data/sbs/B_RawData/bancos\\\\table_clean_30_9_2020.xlsx', '../../_data/sbs/B_RawData/bancos\\\\table_clean_30_9_2021.xlsx', '../../_data/sbs/B_RawData/bancos\\\\table_clean_31_10_2002.xlsx', '../../_data/sbs/B_RawData/bancos\\\\table_clean_31_10_2003.xlsx', '../../_data/sbs/B_RawData/bancos\\\\table_clean_31_10_2005.xlsx', '../../_data/sbs/B_RawData/bancos\\\\table_clean_31_10_2006.xlsx', '../../_data/sbs/B_RawData/bancos\\\\table_clean_31_10_2007.xlsx', '../../_data/sbs/B_RawData/bancos\\\\table_clean_31_10_2008.xlsx', '../../_data/sbs/B_RawData/bancos\\\\table_clean_31_10_2012.xlsx', '../../_data/sbs/B_RawData/bancos\\\\table_clean_31_10_2013.xlsx', '../../_data/sbs/B_RawData/bancos\\\\table_clean_31_10_2014.xlsx', '../../_data/sbs/B_RawData/bancos\\\\table_clean_31_10_2016.xlsx', '../../_data/sbs/B_RawData/bancos\\\\table_clean_31_10_2017.xlsx', '../../_data/sbs/B_RawData/bancos\\\\table_clean_31_10_2018.xlsx', '../../_data/sbs/B_RawData/bancos\\\\table_clean_31_12_2002.xlsx', '../../_data/sbs/B_RawData/bancos\\\\table_clean_31_12_2003.xlsx', '../../_data/sbs/B_RawData/bancos\\\\table_clean_31_12_2004.xlsx', '../../_data/sbs/B_RawData/bancos\\\\table_clean_31_12_2007.xlsx', '../../_data/sbs/B_RawData/bancos\\\\table_clean_31_12_2010.xlsx', '../../_data/sbs/B_RawData/bancos\\\\table_clean_31_12_2014.xlsx', '../../_data/sbs/B_RawData/bancos\\\\table_clean_31_12_2015.xlsx', '../../_data/sbs/B_RawData/bancos\\\\table_clean_31_12_2018.xlsx', '../../_data/sbs/B_RawData/bancos\\\\table_clean_31_12_2019.xlsx', '../../_data/sbs/B_RawData/bancos\\\\table_clean_31_12_2020.xlsx', '../../_data/sbs/B_RawData/bancos\\\\table_clean_31_12_2021.xlsx', '../../_data/sbs/B_RawData/bancos\\\\table_clean_31_1_2003.xlsx', '../../_data/sbs/B_RawData/bancos\\\\table_clean_31_1_2005.xlsx', '../../_data/sbs/B_RawData/bancos\\\\table_clean_31_1_2006.xlsx', '../../_data/sbs/B_RawData/bancos\\\\table_clean_31_1_2007.xlsx', '../../_data/sbs/B_RawData/bancos\\\\table_clean_31_1_2008.xlsx', '../../_data/sbs/B_RawData/bancos\\\\table_clean_31_1_2011.xlsx', '../../_data/sbs/B_RawData/bancos\\\\table_clean_31_1_2012.xlsx', '../../_data/sbs/B_RawData/bancos\\\\table_clean_31_1_2013.xlsx', '../../_data/sbs/B_RawData/bancos\\\\table_clean_31_1_2014.xlsx', '../../_data/sbs/B_RawData/bancos\\\\table_clean_31_1_2017.xlsx', '../../_data/sbs/B_RawData/bancos\\\\table_clean_31_1_2018.xlsx', '../../_data/sbs/B_RawData/bancos\\\\table_clean_31_1_2019.xlsx', '../../_data/sbs/B_RawData/bancos\\\\table_clean_31_1_2020.xlsx', '../../_data/sbs/B_RawData/bancos\\\\table_clean_31_1_2022.xlsx', '../../_data/sbs/B_RawData/bancos\\\\table_clean_31_3_2001.xlsx', '../../_data/sbs/B_RawData/bancos\\\\table_clean_31_3_2003.xlsx', '../../_data/sbs/B_RawData/bancos\\\\table_clean_31_3_2004.xlsx', '../../_data/sbs/B_RawData/bancos\\\\table_clean_31_3_2005.xlsx', '../../_data/sbs/B_RawData/bancos\\\\table_clean_31_3_2006.xlsx', '../../_data/sbs/B_RawData/bancos\\\\table_clean_31_3_2008.xlsx', '../../_data/sbs/B_RawData/bancos\\\\table_clean_31_3_2009.xlsx', '../../_data/sbs/B_RawData/bancos\\\\table_clean_31_3_2010.xlsx', '../../_data/sbs/B_RawData/bancos\\\\table_clean_31_3_2011.xlsx', '../../_data/sbs/B_RawData/bancos\\\\table_clean_31_3_2014.xlsx', '../../_data/sbs/B_RawData/bancos\\\\table_clean_31_3_2015.xlsx', '../../_data/sbs/B_RawData/bancos\\\\table_clean_31_3_2016.xlsx', '../../_data/sbs/B_RawData/bancos\\\\table_clean_31_3_2017.xlsx', '../../_data/sbs/B_RawData/bancos\\\\table_clean_31_3_2020.xlsx', '../../_data/sbs/B_RawData/bancos\\\\table_clean_31_3_2021.xlsx', '../../_data/sbs/B_RawData/bancos\\\\table_clean_31_3_2022.xlsx', '../../_data/sbs/B_RawData/bancos\\\\table_clean_31_5_2004.xlsx', '../../_data/sbs/B_RawData/bancos\\\\table_clean_31_5_2005.xlsx', '../../_data/sbs/B_RawData/bancos\\\\table_clean_31_5_2006.xlsx', '../../_data/sbs/B_RawData/bancos\\\\table_clean_31_5_2007.xlsx', '../../_data/sbs/B_RawData/bancos\\\\table_clean_31_5_2010.xlsx', '../../_data/sbs/B_RawData/bancos\\\\table_clean_31_5_2011.xlsx', '../../_data/sbs/B_RawData/bancos\\\\table_clean_31_5_2012.xlsx', '../../_data/sbs/B_RawData/bancos\\\\table_clean_31_5_2013.xlsx', '../../_data/sbs/B_RawData/bancos\\\\table_clean_31_5_2016.xlsx', '../../_data/sbs/B_RawData/bancos\\\\table_clean_31_5_2017.xlsx', '../../_data/sbs/B_RawData/bancos\\\\table_clean_31_5_2018.xlsx', '../../_data/sbs/B_RawData/bancos\\\\table_clean_31_5_2019.xlsx', '../../_data/sbs/B_RawData/bancos\\\\table_clean_31_5_2021.xlsx', '../../_data/sbs/B_RawData/bancos\\\\table_clean_31_5_2022.xlsx', '../../_data/sbs/B_RawData/bancos\\\\table_clean_31_7_2003.xlsx', '../../_data/sbs/B_RawData/bancos\\\\table_clean_31_7_2006.xlsx', '../../_data/sbs/B_RawData/bancos\\\\table_clean_31_7_2007.xlsx', '../../_data/sbs/B_RawData/bancos\\\\table_clean_31_7_2008.xlsx', '../../_data/sbs/B_RawData/bancos\\\\table_clean_31_7_2009.xlsx', '../../_data/sbs/B_RawData/bancos\\\\table_clean_31_7_2012.xlsx', '../../_data/sbs/B_RawData/bancos\\\\table_clean_31_7_2013.xlsx', '../../_data/sbs/B_RawData/bancos\\\\table_clean_31_7_2014.xlsx', '../../_data/sbs/B_RawData/bancos\\\\table_clean_31_7_2015.xlsx', '../../_data/sbs/B_RawData/bancos\\\\table_clean_31_7_2017.xlsx', '../../_data/sbs/B_RawData/bancos\\\\table_clean_31_7_2018.xlsx', '../../_data/sbs/B_RawData/bancos\\\\table_clean_31_7_2019.xlsx', '../../_data/sbs/B_RawData/bancos\\\\table_clean_31_7_2020.xlsx', '../../_data/sbs/B_RawData/bancos\\\\table_clean_31_8_2004.xlsx', '../../_data/sbs/B_RawData/bancos\\\\table_clean_31_8_2005.xlsx', '../../_data/sbs/B_RawData/bancos\\\\table_clean_31_8_2006.xlsx', '../../_data/sbs/B_RawData/bancos\\\\table_clean_31_8_2007.xlsx', '../../_data/sbs/B_RawData/bancos\\\\table_clean_31_8_2009.xlsx', '../../_data/sbs/B_RawData/bancos\\\\table_clean_31_8_2010.xlsx', '../../_data/sbs/B_RawData/bancos\\\\table_clean_31_8_2011.xlsx', '../../_data/sbs/B_RawData/bancos\\\\table_clean_31_8_2015.xlsx', '../../_data/sbs/B_RawData/bancos\\\\table_clean_31_8_2016.xlsx', '../../_data/sbs/B_RawData/bancos\\\\table_clean_31_8_2017.xlsx', '../../_data/sbs/B_RawData/bancos\\\\table_clean_31_8_2020.xlsx', '../../_data/sbs/B_RawData/bancos\\\\table_clean_31_8_2021.xlsx', '../../_data/sbs/B_RawData/bancos\\\\table_clean_31_8_2022.xlsx']\n"
     ]
    }
   ],
   "source": [
    "# Import necessary package\n",
    "import os\n",
    "from os import listdir\n",
    "from os.path import isfile, join\n",
    "import re\n",
    "import pandas as pd\n",
    "\n",
    "# Set the SBS's path\n",
    "filepath = r\"../../_data/sbs/B_RawData/bancos\"\n",
    "# Return the files in the SBS's path\n",
    "sbs_files = [os.path.join(filepath, f) for f in os.listdir(filepath) if os.path.isfile(os.path.join(filepath, f))]\n",
    "# Print the files in the SBS's path\n",
    "print(sbs_files) \n"
   ]
  },
  {
   "cell_type": "markdown",
   "metadata": {},
   "source": [
    "## 1.1. Load data in a big container"
   ]
  },
  {
   "cell_type": "code",
   "execution_count": 1,
   "metadata": {},
   "outputs": [
    {
     "ename": "NameError",
     "evalue": "name 'sbs_files' is not defined",
     "output_type": "error",
     "traceback": [
      "\u001b[1;31m---------------------------------------------------------------------------\u001b[0m",
      "\u001b[1;31mNameError\u001b[0m                                 Traceback (most recent call last)",
      "Cell \u001b[1;32mIn[1], line 2\u001b[0m\n\u001b[0;32m      1\u001b[0m data \u001b[38;5;241m=\u001b[39m {}\n\u001b[1;32m----> 2\u001b[0m \u001b[38;5;28;01mfor\u001b[39;00m file \u001b[38;5;129;01min\u001b[39;00m sbs_files:\n\u001b[0;32m      3\u001b[0m     \u001b[38;5;66;03m# Read excel file and save in a provisional df\u001b[39;00m\n\u001b[0;32m      4\u001b[0m     df \u001b[38;5;241m=\u001b[39m pd\u001b[38;5;241m.\u001b[39mread_excel(file)\n\u001b[0;32m      5\u001b[0m     \u001b[38;5;66;03m# Use regex pattern to detect the day that was published\u001b[39;00m\n",
      "\u001b[1;31mNameError\u001b[0m: name 'sbs_files' is not defined"
     ]
    }
   ],
   "source": [
    "data = {}\n",
    "for file in sbs_files:\n",
    "    # Read excel file and save in a provisional df\n",
    "    df = pd.read_excel(file)\n",
    "    # Use regex pattern to detect the day that was published\n",
    "    patron = r'\\d{1,2}_(\\d{1,2})_(\\d{4})'\n",
    "    # Include date\n",
    "    date = pd.to_datetime(re.search(patron, file).group(0), format = \"%d_%m_%Y\")\n",
    "    df[\"date\"] = date\n",
    "    data[re.search(patron, file).group(0)] = {'date': date, 'month': re.search(patron, file).group(1), 'year': re.search(patron, file).group(2), 'data': df}\n",
    "    #print(df)"
   ]
  },
  {
   "cell_type": "code",
   "execution_count": 2,
   "metadata": {
    "scrolled": true
   },
   "outputs": [
    {
     "data": {
      "text/plain": [
       "{}"
      ]
     },
     "execution_count": 2,
     "metadata": {},
     "output_type": "execute_result"
    }
   ],
   "source": [
    "# Show the result\n",
    "data"
   ]
  },
  {
   "cell_type": "code",
   "execution_count": 3,
   "metadata": {},
   "outputs": [
    {
     "data": {
      "text/plain": [
       "'\\\\d(1, 2)_1_2020'"
      ]
     },
     "execution_count": 3,
     "metadata": {},
     "output_type": "execute_result"
    }
   ],
   "source": [
    "# Algo así se podría usar para la función\n",
    "a = 1\n",
    "b = 2020\n",
    "fr'\\d{1,2}_{a}_{b}'"
   ]
  },
  {
   "cell_type": "markdown",
   "metadata": {},
   "source": [
    "## 2.0. General structure of the function and data import logic for a single month and year"
   ]
  },
  {
   "cell_type": "code",
   "execution_count": null,
   "metadata": {},
   "outputs": [],
   "source": [
    "def import_data_sbs_banks(start_month=None, start_year=None, end_month=None, end_year=None):\n",
    "    # Initialize variables\n",
    "    filepath = r\"../../_data/sbs/B_RawData/bancos\"\n",
    "    # Nested dictionary for storing dataframes\n",
    "    nested_dict = {}\n",
    "\n",
    "    # Logic for importing data when only a month and a year are provided\n",
    "    if start_month is not None and start_year is not None and end_month is None and end_year is None:\n",
    "        # Import data for a single month and year\n",
    "         file_path = f\"{data_path}/{start_year}/{start_month:02d}.csv\"\n",
    "            if os.path.exists(file_path):\n",
    "                nested_dict[start_year] = {start_month: pd.read_csv(file_path)}\n",
    "        \n",
    "    else:\n",
    "        # Logic for importing data within a date range\n",
    "        elif start_month is not None and start_year is not None and end_month is not None and end_year is not None:\n",
    "        # Iterate over the date range and import data\n",
    "        # ...\n",
    "\n",
    "    # Other data logics and manipulations\n",
    "    # ...\n",
    "\n",
    "    return nested_dict"
   ]
  }
 ],
 "metadata": {
  "hide_input": false,
  "kernelspec": {
   "display_name": "Python 3 (ipykernel)",
   "language": "python",
   "name": "python3"
  },
  "language_info": {
   "codemirror_mode": {
    "name": "ipython",
    "version": 3
   },
   "file_extension": ".py",
   "mimetype": "text/x-python",
   "name": "python",
   "nbconvert_exporter": "python",
   "pygments_lexer": "ipython3",
   "version": "3.11.5"
  },
  "toc": {
   "base_numbering": 1,
   "nav_menu": {},
   "number_sections": true,
   "sideBar": true,
   "skip_h1_title": false,
   "title_cell": "Table of Contents",
   "title_sidebar": "Contents",
   "toc_cell": false,
   "toc_position": {},
   "toc_section_display": true,
   "toc_window_display": false
  }
 },
 "nbformat": 4,
 "nbformat_minor": 4
}
