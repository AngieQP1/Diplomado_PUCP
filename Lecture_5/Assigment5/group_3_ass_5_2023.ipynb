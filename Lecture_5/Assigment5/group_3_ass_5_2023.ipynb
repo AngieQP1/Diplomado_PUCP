{
 "cells": [
  {
   "cell_type": "markdown",
   "id": "66dd8564",
   "metadata": {},
   "source": [
    "# Assigment 5\n",
    "This assigment will be graded if everything works well. I will run the script as once and everything should be done without errors and mistakes. I should be able to run your scripts in my computer and get all the results. USE RELATIVE PATHS. An error or exception or anything that breaks the code will means NO GRADE (0). Additionally, you are not able to modify any file handly. It also means NO GRADE (0). Comment everything you think will help others read your script. We expect 0 errors using GitHub. Everything will be graded!\n",
    "\n",
    "ASK EVERYTHING! WE ARE HERE TO HELP YOU!"
   ]
  },
  {
   "cell_type": "code",
   "execution_count": null,
   "id": "f6bf0670",
   "metadata": {},
   "outputs": [],
   "source": []
  },
  {
   "cell_type": "markdown",
   "id": "162734b3",
   "metadata": {},
   "source": [
    "In this path **..\\_data\\sbs\\B_RawData\\bancos** you will find scraped data from [this link](https://www.sbs.gob.pe/app/pp/EstadisticasSAEEPortal/Paginas/TIActivaTipoCreditoEmpresa.aspx?tip=B). We get all the information of the last available day of every each month.\n",
    "\n",
    "1. Generate a function called **import_data_sbs_banks** that take as arguments `start_month`, `start_year`, `end_month` and `end_year`. This function should be able to import the files in **..\\_data\\sbs\\B_RawData\\bancos** taking into consideration these arguments. Additionally, it should work if it is only given the first two arguments `(start_mont, start_year)`. The function should `returns` a nested dictionary. The `main key` must be year and `second key` must be `month`. The values should be the dataframes."
   ]
  },
  {
   "cell_type": "code",
   "execution_count": 2,
   "id": "fcd76793",
   "metadata": {},
   "outputs": [],
   "source": [
    "#1.1 import libraries\n",
    "import os\n",
    "import pandas as pd"
   ]
  },
  {
   "cell_type": "code",
   "execution_count": 7,
   "id": "44d1c9ab",
   "metadata": {},
   "outputs": [],
   "source": [
    "#1.2 define the function\n",
    "def import_data_sbs_banks(start_month, start_year, end_month=None, end_year=None):\n",
    "    \n",
    "    # define the route\n",
    "    path = '../../_data/sbs/B_RawData/bancos'\n",
    "    \n",
    "    \n",
    "    # in the case when give two arguments\n",
    "    if end_month == None and end_year == None:\n",
    "        \n",
    "        #In case we are only give the first two arguments and the start mont is december\n",
    "        if start_month == 12:\n",
    "            start_month_file = str ( 1 )\n",
    "            start_year_file = str ( start_year + 1 )\n",
    "            for filename in os.listdir ( path ):\n",
    "                \n",
    "                #In case we are only given the first two arguments, the start month is december and the filename has 26 characters\n",
    "                if len (filename) == 26:\n",
    "                    if filename [ 15:-10 ] == start_month_file and filename [ 17:-5 ] == start_year_file:\n",
    "                        new_path = os.path.join ( path, filename )\n",
    "                        data = pd.read_excel ( new_path )\n",
    "                        Dict = {}\n",
    "                        Dict[ start_year_file ] = {}\n",
    "                        Dict[ start_year_file ][start_month_file] = data\n",
    "                        return Dict                       \n",
    "    \n",
    "    \n",
    "    "
   ]
  },
  {
   "cell_type": "code",
   "execution_count": null,
   "id": "23c14a1f",
   "metadata": {},
   "outputs": [],
   "source": []
  }
 ],
 "metadata": {
  "kernelspec": {
   "display_name": "Python 3 (ipykernel)",
   "language": "python",
   "name": "python3"
  },
  "language_info": {
   "codemirror_mode": {
    "name": "ipython",
    "version": 3
   },
   "file_extension": ".py",
   "mimetype": "text/x-python",
   "name": "python",
   "nbconvert_exporter": "python",
   "pygments_lexer": "ipython3",
   "version": "3.11.5"
  }
 },
 "nbformat": 4,
 "nbformat_minor": 5
}
