{
 "cells": [
  {
   "cell_type": "markdown",
   "id": "66dd8564",
   "metadata": {},
   "source": [
    "# Assigment 5\n",
    "This assigment will be graded if everything works well. I will run the script as once and everything should be done without errors and mistakes. I should be able to run your scripts in my computer and get all the results. USE RELATIVE PATHS. An error or exception or anything that breaks the code will means NO GRADE (0). Additionally, you are not able to modify any file handly. It also means NO GRADE (0). Comment everything you think will help others read your script. We expect 0 errors using GitHub. Everything will be graded!\n",
    "\n",
    "ASK EVERYTHING! WE ARE HERE TO HELP YOU!"
   ]
  },
  {
   "cell_type": "markdown",
   "id": "162734b3",
   "metadata": {},
   "source": [
    "In this path **..\\_data\\sbs\\B_RawData\\bancos** you will find scraped data from [this link](https://www.sbs.gob.pe/app/pp/EstadisticasSAEEPortal/Paginas/TIActivaTipoCreditoEmpresa.aspx?tip=B). We get all the information of the last available day of every each month.\n",
    "\n",
    "1. Generate a function called **import_data_sbs_banks** that take as arguments `start_month`, `start_year`, `end_month` and `end_year`. This function should be able to import the files in **..\\_data\\sbs\\B_RawData\\bancos** taking into consideration these arguments. Additionally, it should work if it is only given the first two arguments `(start_mont, start_year)`. The function should `returns` a nested dictionary. The `main key` must be year and `second key` must be `month`. The values should be the dataframes."
   ]
  },
  {
   "cell_type": "code",
   "execution_count": 2,
   "id": "fcd76793",
   "metadata": {},
   "outputs": [],
   "source": [
    "#1.1 importamos librerias\n",
    "import os\n",
    "import pandas as pd"
   ]
  },
  {
   "cell_type": "code",
   "execution_count": 7,
   "id": "44d1c9ab",
   "metadata": {},
   "outputs": [],
   "source": [
    "#1.2 Definimos la función\n",
    "def import_data_sbs_banks(start_month, start_year, end_month=None, end_year=None):\n",
    "    \n",
    "    # definimos la ruta\n",
    "    path = r\"../../_data/sbs/B_RawData/bancos\"\n",
    "    \n",
    "    # Listamos los archivos\n",
    "    files = os.listdir(path)\n",
    "    \n",
    "#1.3 creamos el diccionario donde se almacenaran los datos\n",
    "    result_dictionary = {}\n",
    "    \n",
    "    for file in files:\n",
    "        # Comprobamos los archivos y la extensión \n",
    "        if file.startswith(\"table_clean_\") and file.endswith(\".xlsx\"):\n",
    "            # Si es afirmativo, estraemos el día, mes y año del nombre del archivo.\n",
    "            _, _, day, month, year = file[:-5].split('_')\n",
    "            # Se convierte mes y año a enteros (month and year) \n",
    "            month = int(month)\n",
    "            year = int(year)\n",
    "            \n",
    "            # definimos la función para los rangos identificados\n",
    "            if (start_year < year or (start_year == year and start_month <= month)) and \\\n",
    "               (end_year is None or (end_year > year or (end_year == year and end_month >= month))):\n",
    "                \n",
    "                try:\n",
    "                  # definimos la ruta para los archivos\n",
    "                    file_path = os.path.join(path, file)\n",
    "                    #definimos el df para los archivos en excel\n",
    "                    df = pd.read_excel(file_path)\n",
    "                    \n",
    "                   \n",
    "                    if year not in result_dict:\n",
    "                        result_dictionary[year] = {}\n",
    "                    \n",
    "                     # almacenamos de acuerdo al año y mes\n",
    "                    result_dictionary[year][month] = df\n",
    "                \n",
    "                # en el caso de que no se encuentre el archivo \"El archivo no está disponible\"\n",
    "                except FileNotFoundError:\n",
    "                    print(f\"El archivo {file} no está disponible disponible.\")\n",
    "                   \n",
    "                \n",
    "    # ordenar result_dictionary por año y mes\n",
    "    sort_result_dict = dict(sorted(result_dict.items()))\n",
    "\n",
    "    for year, months in sorted_result_dict.items():\n",
    "        sort_result_dict[year] = dict(sorted(months.items()))\n",
    "    \n",
    "    # devolver el resultado de sort_result_dict\n",
    "    return sort_result_dict"
   ]
  },
  {
   "cell_type": "code",
   "execution_count": null,
   "id": "23c14a1f",
   "metadata": {},
   "outputs": [],
   "source": []
  }
 ],
 "metadata": {
  "kernelspec": {
   "display_name": "Python 3 (ipykernel)",
   "language": "python",
   "name": "python3"
  },
  "language_info": {
   "codemirror_mode": {
    "name": "ipython",
    "version": 3
   },
   "file_extension": ".py",
   "mimetype": "text/x-python",
   "name": "python",
   "nbconvert_exporter": "python",
   "pygments_lexer": "ipython3",
   "version": "3.11.5"
  }
 },
 "nbformat": 4,
 "nbformat_minor": 5
}
