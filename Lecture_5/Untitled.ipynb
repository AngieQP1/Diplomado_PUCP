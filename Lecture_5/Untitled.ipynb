{
 "cells": [
  {
   "cell_type": "code",
   "execution_count": 2,
   "id": "a1d5585d",
   "metadata": {},
   "outputs": [],
   "source": [
    "import pandas as pd\n",
    "import numpy as np\n",
    "import os"
   ]
  },
  {
   "cell_type": "code",
   "execution_count": 3,
   "id": "e3b619fd",
   "metadata": {},
   "outputs": [],
   "source": [
    "def import_data_sbs_banks( start_month, start_year, end_month = None, end_year = None ):\n",
    "    \n",
    "    path = '../../_data/sbs/B_RawData/bancos/'\n",
    "    \n",
    "    # In case we are only given the first two arguments\n",
    "    if end_month == None and end_year == None:\n",
    "        \n",
    "        # In case we are only given the first two arguments and the start month is december\n",
    "        if start_month == 12:\n",
    "            start_month_file = str( 1 )\n",
    "            start_year_file = str( start_year + 1 )\n",
    "            for filename in os.listdir( path ):\n",
    "                \n",
    "                # In case we are only given the first two arguments, the start month is december and the filename has 26 characters\n",
    "                if len( filename ) == 26: \n",
    "                    if filename[ 15:-10 ] == start_month_file and filename[ 17:-5 ] == start_year_file:\n",
    "                        new_path = os.path.join( path, filename )\n",
    "                        data = pd.read_excel( new_path )                        \n",
    "                        Dict = { }\n",
    "                        Dict[ start_year_file ] = {}\n",
    "                        Dict[ start_year_file ][ start_month_file ] = data\n",
    "                        return Dict\n",
    "                \n",
    "                # In case we are only given the first two arguments, the start month is december and the filename has 27 characters\n",
    "                if len( filename ) == 27:\n",
    "                    if filename[ 15:-10 ] == start_month_file and filename[ 18:-5 ] == start_year_file:\n",
    "                        new_path = os.path.join( path, filename )\n",
    "                        data = pd.read_excel( new_path )\n",
    "                        Dict = { }\n",
    "                        Dict[ start_year_file ] = {}\n",
    "                        Dict[ start_year_file ][ start_month_file ] = data\n",
    "                        return Dict\n",
    "        \n",
    "        # In case we are only given the first two arguments and  the start month is not december\n",
    "        else:\n",
    "            start_month_file = str( start_month + 1 )\n",
    "            start_year_file = str( start_year )\n",
    "            for filename in os.listdir( path ):\n",
    "                \n",
    "                # In case we are only given the first two arguments, the start month is noy december and the filename has 26 characters\n",
    "                if len( filename ) == 26: \n",
    "                    if filename[ 15:-10 ] == start_month_file and filename[ 17:-5 ] == start_year_file:\n",
    "                        new_path = os.path.join( path, filename )\n",
    "                        data = pd.read_excel( new_path )\n",
    "                        Dict = { }\n",
    "                        Dict[ start_year_file ] = {}\n",
    "                        Dict[ start_year_file ][ start_month_file ] = data\n",
    "                        return Dict\n",
    "                \n",
    "                # In case we are only given the first two arguments, the start month is noy december and the filename has 27 characters\n",
    "                if len( filename ) == 27:\n",
    "                    if filename[ 15:-10 ] == start_month_file and filename[ 18:-5 ] == start_year_file:\n",
    "                        new_path = os.path.join( path, filename )\n",
    "                        data = pd.read_excel( new_path )\n",
    "                        Dict = { }\n",
    "                        Dict[ start_year_file ] = {}\n",
    "                        Dict[ start_year_file ][ start_month_file ] = data\n",
    "                        return Dict\n",
    "    \n",
    "    # In case we are given the four arguments\n",
    "    else:\n",
    "        start_month_file = str( end_month )\n",
    "        start_year_file = str( end_year )\n",
    "        for filename in os.listdir( path ):\n",
    "            \n",
    "            # In case we are given de four arguments and the filename has 26 characters\n",
    "            if len( filename ) == 26: \n",
    "                if filename[ 15:-10 ] == start_month_file and filename[ 17:-5 ] == start_year_file:\n",
    "                    new_path = os.path.join( path, filename )\n",
    "                    data = pd.read_excel( new_path )\n",
    "                    Dict = { }\n",
    "                    Dict[ start_year_file ] = {}\n",
    "                    Dict[ start_year_file ][ start_month_file ] = data\n",
    "                    return Dict\n",
    "            \n",
    "            # In case we are given de four arguments and the filename has 27 characters\n",
    "            if len( filename ) == 27:\n",
    "                if filename[ 15:-10 ] == start_month_file and filename[ 18:-5 ] == start_year_file:\n",
    "                    new_path = os.path.join( path, filename )\n",
    "                    data = pd.read_excel( new_path )\n",
    "                    Dict = { }\n",
    "                    Dict[ start_year_file ] = {}\n",
    "                    Dict[ start_year_file ][ start_month_file ] = data\n",
    "                    return Dict"
   ]
  },
  {
   "cell_type": "code",
   "execution_count": 4,
   "id": "a61462a1",
   "metadata": {},
   "outputs": [
    {
     "ename": "FileNotFoundError",
     "evalue": "[WinError 3] El sistema no puede encontrar la ruta especificada: '../../_data/sbs/B_RawData/bancos/'",
     "output_type": "error",
     "traceback": [
      "\u001b[1;31m---------------------------------------------------------------------------\u001b[0m",
      "\u001b[1;31mFileNotFoundError\u001b[0m                         Traceback (most recent call last)",
      "Cell \u001b[1;32mIn[4], line 1\u001b[0m\n\u001b[1;32m----> 1\u001b[0m import_data_sbs_banks( \u001b[38;5;241m1\u001b[39m, \u001b[38;5;241m2004\u001b[39m, \u001b[38;5;241m2\u001b[39m, \u001b[38;5;241m2004\u001b[39m )\n",
      "Cell \u001b[1;32mIn[3], line 64\u001b[0m, in \u001b[0;36mimport_data_sbs_banks\u001b[1;34m(start_month, start_year, end_month, end_year)\u001b[0m\n\u001b[0;32m     62\u001b[0m start_month_file \u001b[38;5;241m=\u001b[39m \u001b[38;5;28mstr\u001b[39m( end_month )\n\u001b[0;32m     63\u001b[0m start_year_file \u001b[38;5;241m=\u001b[39m \u001b[38;5;28mstr\u001b[39m( end_year )\n\u001b[1;32m---> 64\u001b[0m \u001b[38;5;28;01mfor\u001b[39;00m filename \u001b[38;5;129;01min\u001b[39;00m os\u001b[38;5;241m.\u001b[39mlistdir( path ):\n\u001b[0;32m     65\u001b[0m     \n\u001b[0;32m     66\u001b[0m     \u001b[38;5;66;03m# In case we are given de four arguments and the filename has 26 characters\u001b[39;00m\n\u001b[0;32m     67\u001b[0m     \u001b[38;5;28;01mif\u001b[39;00m \u001b[38;5;28mlen\u001b[39m( filename ) \u001b[38;5;241m==\u001b[39m \u001b[38;5;241m26\u001b[39m: \n\u001b[0;32m     68\u001b[0m         \u001b[38;5;28;01mif\u001b[39;00m filename[ \u001b[38;5;241m15\u001b[39m:\u001b[38;5;241m-\u001b[39m\u001b[38;5;241m10\u001b[39m ] \u001b[38;5;241m==\u001b[39m start_month_file \u001b[38;5;129;01mand\u001b[39;00m filename[ \u001b[38;5;241m17\u001b[39m:\u001b[38;5;241m-\u001b[39m\u001b[38;5;241m5\u001b[39m ] \u001b[38;5;241m==\u001b[39m start_year_file:\n",
      "\u001b[1;31mFileNotFoundError\u001b[0m: [WinError 3] El sistema no puede encontrar la ruta especificada: '../../_data/sbs/B_RawData/bancos/'"
     ]
    }
   ],
   "source": [
    "import_data_sbs_banks( 1, 2004, 2, 2004 )"
   ]
  },
  {
   "cell_type": "code",
   "execution_count": null,
   "id": "b4d51e16",
   "metadata": {},
   "outputs": [],
   "source": []
  }
 ],
 "metadata": {
  "kernelspec": {
   "display_name": "Python 3 (ipykernel)",
   "language": "python",
   "name": "python3"
  },
  "language_info": {
   "codemirror_mode": {
    "name": "ipython",
    "version": 3
   },
   "file_extension": ".py",
   "mimetype": "text/x-python",
   "name": "python",
   "nbconvert_exporter": "python",
   "pygments_lexer": "ipython3",
   "version": "3.11.5"
  }
 },
 "nbformat": 4,
 "nbformat_minor": 5
}
