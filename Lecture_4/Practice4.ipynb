{
 "cells": [
  {
   "cell_type": "code",
   "execution_count": 1,
   "id": "fc49a4d1",
   "metadata": {},
   "outputs": [],
   "source": [
    "import pandas as pd"
   ]
  },
  {
   "cell_type": "markdown",
   "id": "3a195e4c",
   "metadata": {},
   "source": [
    "1. We have data `MotherData.csv` excerpted from a recent Demographic and Health Survey.  First convert the dataset from `wide` (each observation is a mother) to `long` (each observation is a birth, with associated mother id). The id `caseid` identifies uniquely all the mothers.  These columns refer to variable of children **['bidx', 'bord', 'b0', 'b1', 'b2', 'b3', 'b4', 'b5', 'b6', 'b7', 'b8', 'b9', 'b10', 'b11', 'b12', 'b13', 'b15', 'b16']** and have new columns for all their children. We have information for 20 children. It starts from last child to oldest one. Use for loops to reshape this dataset from `wide` to `long` ate mother and children level. If you want to get more information from the columns please see [this pdf](http://www.dhsprogram.com/pubs/pdf/DHSG4/Recode6_DHS_22March2013_DHSG4.pdf)."
   ]
  },
  {
   "cell_type": "markdown",
   "id": "dd73fe55",
   "metadata": {},
   "source": [
    "2. Import all the RECH1.SAV files from all the subfolder located in this folder. `Diplomado_PUCP/_data/endes`"
   ]
  }
 ],
 "metadata": {
  "kernelspec": {
   "display_name": "Python 3 (ipykernel)",
   "language": "python",
   "name": "python3"
  },
  "language_info": {
   "codemirror_mode": {
    "name": "ipython",
    "version": 3
   },
   "file_extension": ".py",
   "mimetype": "text/x-python",
   "name": "python",
   "nbconvert_exporter": "python",
   "pygments_lexer": "ipython3",
   "version": "3.11.5"
  }
 },
 "nbformat": 4,
 "nbformat_minor": 5
}
