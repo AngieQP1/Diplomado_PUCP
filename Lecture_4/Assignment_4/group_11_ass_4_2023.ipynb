{
 "cells": [
  {
   "cell_type": "markdown",
   "id": "7aa46973",
   "metadata": {},
   "source": [
    "# Assignment 4\n"
   ]
  },
  {
   "cell_type": "code",
   "execution_count": null,
   "id": "eae91e45",
   "metadata": {},
   "outputs": [],
   "source": [
    "#pip install pyreadstat\n",
    "#pip install savReaderWriter"
   ]
  },
  {
   "cell_type": "code",
   "execution_count": null,
   "id": "ff65124e",
   "metadata": {},
   "outputs": [],
   "source": [
    "import os\n",
    "import os\n",
    "import pickle\n",
    "import pandas as pd\n",
    "import numpy as np\n",
    "import urllib.request\n",
    "import pyreadstat"
   ]
  },
  {
   "cell_type": "markdown",
   "id": "2bc138d9",
   "metadata": {},
   "source": [
    "1. Import the `REC0111.sav`, `RE223132.sav` and `RE516171.sav` files and their variables and values labels from this path `\"../../_data/endes/2019\"`. The name of imported files should be named as `rec_1`, `rec_2` and `rec_3` for files `REC0111.sav`, `RE223132.sav` and `RE516171.sav` respectively. The name of the variable and value labels should be `var_labels1` and `value_labels1` for `rec1`, `var_labels2` and `value_labels2` for `rec2`, and `var_labels3` and `value_labels3` for `rec3`. **Hint: See the section 3.3.4 of [the lecture 3](https://github.com/alexanderquispe/Diplomado_PUCP/blob/main/Lecture_3/Lecture_3.ipynb)**"
   ]
  },
  {
   "cell_type": "code",
   "execution_count": null,
   "id": "0a6b4d3a",
   "metadata": {},
   "outputs": [],
   "source": [
    "# Importar los archivos y obtener etiquetas de variables y valores\n",
    "rec1, meta_1 = pyreadstat.read_sav( r\"../../_data/endes/2019/REC0111.sav\")\n",
    "var_labels1 = meta_1.variable_value_labels\n",
    "value_labels1 = meta_1.value_labels\n",
    "\n",
    "rec2, meta_2 = pyreadstat.read_sav(r\"../../_data/endes/2019/RE223132.sav\")\n",
    "var_labels2 = meta_2.variable_value_labels\n",
    "value_labels2 = meta_2.value_labels\n",
    "\n",
    "rec3, meta_3 = pyreadstat.read_sav( r\"../../_data/endes/2019/RE516171.sav\")\n",
    "var_labels3 = meta_3.variable_value_labels\n",
    "value_labels3 = meta_3.value_labels"
   ]
  },
  {
   "cell_type": "code",
   "execution_count": null,
   "id": "40c19308",
   "metadata": {},
   "outputs": [],
   "source": [
    "# adding labels to variables\n",
    "rec1.attrs[ 'value_labels1' ] = value_labels1\n",
    "rec1.attrs[ 'var_labels1' ] = var_labels1\n",
    "\n",
    "rec2.attrs[ 'value_labels2' ] = value_labels2\n",
    "rec2.attrs[ 'var_labels2' ] = var_labels2\n",
    "\n",
    "rec3.attrs[ 'value_labels3' ] = value_labels3\n",
    "rec3.attrs[ 'var_labels3' ] = var_labels3"
   ]
  },
  {
   "cell_type": "markdown",
   "id": "10bced78",
   "metadata": {},
   "source": [
    "2. Select the following columns for each data set:\n",
    "|Data|Columns|\n",
    "|---|---|\n",
    "|rec1| CASEID, V000, V001, V002, V003, V004, V007, V008, V009, V010, V011, V012, V024, V102, V120, V121, V122, V123, V124, V125, V127, V133 |\n",
    "|rec2| CASEID, V201, V218, V301, V302, V323, V323A, V325A, V326, V327, V337, V359, V360, V361, V362, V363, V364, V367, V372, V372A, V375A, V376, V376A, V379, V380 |\n",
    "|rec3| CASEID, V501, V502, V503, V504, V505, V506, V507, V508, V509, V510, V511, V512, V513, V525, V613, V714, V715 |\n",
    "\n",
    "\n",
    "Additioanlly, you should update the variables and value labels objects. They must have information only for the selected columns. The new dataframes should be name as `rec1_1`, `rec2_1`, and `rec3_1`. The new varible labels objects should be named as `new_var_labels1`, `new_var_labels2`, and `new_var_labels3`. The new value labels objects should be named as `new_value_labels1`, `new_value_labels2`, and `new_value_labels3` **Hint: Use the `loc` and column names to filter. Update the dictionary.**"
   ]
  },
  {
   "cell_type": "code",
   "execution_count": null,
   "id": "2069f478",
   "metadata": {},
   "outputs": [],
   "source": [
    "# Make a dictionary of the columns in each data set that should be chosen\n",
    "rec1_1 = rec1.loc[ : , ['CASEID', 'V000', 'V001', 'V002', 'V003', 'V004', 'V007', 'V008', 'V009', \n",
    "                        'V010', 'V011', 'V012', 'V024', 'V102', 'V120', 'V121', 'V122', 'V123',\n",
    "                        'V124', 'V125', 'V127', 'V133'] ]\n",
    "\n",
    "rec2_1 = rec2.loc[ : , ['CASEID', 'V201', 'V218', 'V301', 'V302', 'V323', 'V323A', 'V325A', 'V326', \n",
    "                        'V327', 'V337', 'V359', 'V360', 'V361', 'V362', 'V363', 'V364', 'V367', \n",
    "                        'V372', 'V372A', 'V375A', 'V376', 'V376A', 'V379', 'V380'] ]\n",
    "\n",
    "rec3_1 = rec3.loc[ : , ['CASEID', 'V501', 'V502', 'V503', 'V504', 'V505', 'V506', 'V507', 'V508', \n",
    "                        'V509', 'V510', 'V511', 'V512', 'V513', 'V525', 'V613', 'V714', 'V715'] ]\n",
    "\n",
    "#generamos un array con el nombre de las variables de interés\n",
    "#Por ello generamos nuevos diccionarios para las etiquetas que cumplan la condición de que sus llaves forman parte del array.\n",
    "new_keys1 = rec1_1.columns.values   \n",
    "new_value_labels1 = { key:value for ( key, value ) in value_labels1.items() if key in new_keys1 }\n",
    "new_var_labels1 = { key:value for ( key, value ) in var_labels1.items() if key in new_keys1 }\n",
    "\n",
    "#replicamos el código previo para la base acotada de RE223132\n",
    "new_keys2 = rec2_1.columns.values\n",
    "new_value_labels2 = { key:value for ( key, value ) in value_labels2.items() if key in new_keys2 }\n",
    "new_var_labels2 = { key:value for ( key, value ) in var_labels2.items() if key in new_keys2 }\n",
    "\n",
    "#replicamos el código previo para la base acotada de RE516171 \n",
    "new_keys3 = rec3_1.columns.values\n",
    "new_value_labels3 = { key:value for ( key, value ) in value_labels3.items() if key in new_keys3 }\n",
    "new_var_labels3 = { key:value for ( key, value ) in var_labels3.items() if key in new_keys3 }"
   ]
  },
  {
   "cell_type": "markdown",
   "id": "49071f46",
   "metadata": {},
   "source": [
    "3. Generate a new column for `rec1_1` named as `year`. It should be equal to `2019`. Also, you must update this new variable for the `var_labels` dictionary. Generate a new key for `new_var_labels1` and the value for this key should be **\"Year of the survey\"** **Hint: Use `loc` and `update` method.**"
   ]
  },
  {
   "cell_type": "code",
   "execution_count": null,
   "id": "d6d090f1",
   "metadata": {},
   "outputs": [],
   "source": [
    "# Generate a new column \"year\" for rec1_1 with the constant value 2019\n",
    "rec1_1.loc[:, 'year'] = 2019\n",
    "\n",
    "# Update variable labels for the new column\n",
    "new_var_labels1.update({'year': \"Year of the survey\"})"
   ]
  },
  {
   "cell_type": "markdown",
   "id": "4656a8df",
   "metadata": {},
   "source": [
    "4. Merge `rec1_1`, `rec2_1`, and `rec3_1` using **CASEID**. Name this new object as `endes_2019`. **Hint: Use [this link](https://stackoverflow.com/questions/53645882/pandas-merging-101)**"
   ]
  },
  {
   "cell_type": "code",
   "execution_count": null,
   "id": "40e69aa2",
   "metadata": {},
   "outputs": [],
   "source": [
    "# Merge rec1_1, rec2_1, and rec3_1 using CASEID\n",
    "endes_2019 = pd.merge(rec1_1, rec2_1, on='CASEID', how='inner')\n",
    "endes_2019 = pd.merge(endes_2019, rec3_1, on='CASEID', how='inner')"
   ]
  },
  {
   "cell_type": "markdown",
   "id": "4d86aed0",
   "metadata": {},
   "source": [
    "5. Unify all the `new_var_labels` in one object and `new_value_labels` in another one object. Name these two objects as `var_labels` and `value_labels`. Use them to generate new attributes for `endes_2019`. These attributes should be named as `var_labels` and `value_labels`. **Hint: Use `update` method.**\n"
   ]
  },
  {
   "cell_type": "code",
   "execution_count": null,
   "id": "3923a3b8",
   "metadata": {},
   "outputs": [],
   "source": [
    "var_labels = {}  #Generate a empty dictionary\n",
    "var_labels.update(new_var_labels1)  #Update the labels of the variables.\n",
    "var_labels.update(new_var_labels2)\n",
    "var_labels.update(new_var_labels3)\n",
    "\n",
    "value_labels = {} #Creating a empty dictionary\n",
    "value_labels.update(new_value_labels1) #Updating the value labels\n",
    "value_labels.update(new_value_labels2)\n",
    "value_labels.update(new_value_labels3)"
   ]
  },
  {
   "cell_type": "code",
   "execution_count": null,
   "id": "3f53c42c",
   "metadata": {},
   "outputs": [],
   "source": [
    "# Assigning labels to variables\n",
    "endes_2019.attrs[ 'var_labels' ] = var_labels\n",
    "endes_2019.attrs[ 'value_labels' ] = value_labels"
   ]
  },
  {
   "cell_type": "code",
   "execution_count": null,
   "id": "0414e7f6",
   "metadata": {},
   "outputs": [],
   "source": [
    "\n"
   ]
  },
  {
   "cell_type": "code",
   "execution_count": null,
   "id": "97e0286f",
   "metadata": {},
   "outputs": [],
   "source": []
  }
 ],
 "metadata": {
  "kernelspec": {
   "display_name": "Python 3 (ipykernel)",
   "language": "python",
   "name": "python3"
  },
  "language_info": {
   "codemirror_mode": {
    "name": "ipython",
    "version": 3
   },
   "file_extension": ".py",
   "mimetype": "text/x-python",
   "name": "python",
   "nbconvert_exporter": "python",
   "pygments_lexer": "ipython3",
   "version": "3.9.7"
  }
 },
 "nbformat": 4,
 "nbformat_minor": 5
}
