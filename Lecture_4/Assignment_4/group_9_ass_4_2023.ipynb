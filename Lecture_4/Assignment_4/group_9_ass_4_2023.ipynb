{
 "cells": [
  {
   "cell_type": "markdown",
   "id": "c1da47d7-0efe-4ba8-82a8-709ad6b161f8",
   "metadata": {},
   "source": [
    "# 1 Assignment 4"
   ]
  },
  {
   "cell_type": "markdown",
   "id": "2e561c0f-a8e0-48e1-9a30-01fd1189bc04",
   "metadata": {},
   "source": [
    "## 1. Install and import libraries\n",
    " Import the `REC0111.sav`, `RE223132.sav` and `RE516171.sav` files and their variables and values labels from this path `\"../../_data/endes/2019\"`. The name of imported files should be named as `rec_1`, `rec_2` and `rec_3` for files `REC0111.sav`, `RE223132.sav` and `RE516171.sav` respectively. The name of the variable and value labels should be `var_labels1` and `value_labels1` for `rec1`, `var_labels2` and `value_labels2` for `rec2`, and `var_labels3` and `value_labels3` for `rec3`. **Hint: See the section 3.3.4 of [the lecture 3](https://github.com/alexanderquispe/Diplomado_PUCP/blob/main/Lecture_3/Lecture_3.ipynb)**"
   ]
  },
  {
   "cell_type": "markdown",
   "id": "145cb2b4-55f5-4a8b-bd2f-9921e8c10402",
   "metadata": {},
   "source": [
    "### _Solution_"
   ]
  },
  {
   "cell_type": "code",
   "execution_count": 1,
   "id": "1b1769dc-901a-4bda-abbc-93dd752e5233",
   "metadata": {},
   "outputs": [],
   "source": [
    "#For those with compatibility issues (python 3.10 and above):\n",
    "from collections import abc,  Counter, defaultdict, namedtuple, OrderedDict\n",
    "from collections.abc import Iterable\n",
    "import collections.abc\n",
    "collections.Iterable = collections.abc.Iterable\n",
    "collections.Mapping = collections.abc.Mapping\n",
    "collections.MutableSet = collections.abc.MutableSet\n",
    "collections.MutableMapping = collections.abc.MutableMapping"
   ]
  },
  {
   "cell_type": "code",
   "execution_count": 2,
   "id": "54ff632f-61da-4b5b-a44c-a417693c2bef",
   "metadata": {},
   "outputs": [],
   "source": [
    "import os\n",
    "import pickle\n",
    "import pandas as pd\n",
    "import numpy as np\n",
    "import pyreadstat\n",
    "import urllib.request\n",
    "import savReaderWriter as sav"
   ]
  },
  {
   "cell_type": "markdown",
   "id": "0bb375f8-073f-48cf-b5c6-54568f8e2391",
   "metadata": {},
   "source": [
    "#### 1.2 Loop-Based Processing of Multiple SPSS Data Files with Pandas and savReaderWriter\n",
    "In this code, a file path and a list of file names are specified. Subsequently, three empty lis(`recs`, `var_labels`, and `value_labels`),ls) are initialized to store data, variable labels, and value labels, respectively. The code then enters a loop where, for each file in the list, it constructs the full file path, assigns dynamic names to variables, and reads the data and metadata from an SPSS (.sav) file using the SavReader module. The obtained data, variable labels, and value labels are then stored in the respective lis\n",
    "\n",
    "Within the loop, the code reads the data from each .sav file and stores it in a Pandas DataFrame. The variable labels and value labels are also extracted from the file. The obtained data, variable labels, and value labels are then appended to their respective lists (`recs`, `var_labels`, and `value_labels`). Additionally, the code dynamically assigns variable names to the loaded data and labels using the locals() function, ensuring that the variables are easily accessible and identifiable.ts."
   ]
  },
  {
   "cell_type": "code",
   "execution_count": null,
   "id": "e195d2ea-6355-4227-b01f-9e7daa872b8f",
   "metadata": {},
   "outputs": [],
   "source": [
    "data_path = \"D:\\\\tarea 3\\\\_data\\\\endes\\\\2019\"\n",
    "file_names = [\"REC0111.sav\", \"RE223132.sav\", \"RE516171.sav\"]\n",
    "\n",
    "recs = []\n",
    "var_labels = []\n",
    "value_labels = []\n",
    "\n",
    "for i, file_name in enumerate(file_names, start=1):\n",
    "    file_path = os.path.join(data_path, file_name)\n",
    "    rec_name = f\"rec_{i}\"\n",
    "    var_labels_name = f\"var_labels{i}\"\n",
    "    value_labels_name = f\"value_labels{i}\"\n",
    "\n",
    "    # Read the .sav file\n",
    "    with sav.SavReader(file_path, ioUtf8=True) as reader:\n",
    "        # Obtener datos y metadatos\n",
    "        data = pd.DataFrame(reader.all(), columns=reader.header)\n",
    "        var_labels_data = reader.varLabels\n",
    "        value_labels_data = reader.valueLabels\n",
    "\n",
    "    # Store data and labels in lists.\n",
    "    recs.append(data)\n",
    "    var_labels.append(var_labels_data)\n",
    "    value_labels.append(value_labels_data)\n",
    "\n",
    "    # Assign variable names and labels.\n",
    "    locals()[rec_name] = data\n",
    "    locals()[var_labels_name] = var_labels_data\n",
    "    locals()[value_labels_name] = value_labels_data"
   ]
  },
  {
   "cell_type": "markdown",
   "id": "67069aa0-a527-4447-8021-b98853e701f7",
   "metadata": {},
   "source": [
    "Now, the data is stored in rec_1, rec_2, and rec_3, and the labels in var_labels1, var_labels2, var_labels3, value_labels1, value_labels2\n",
    ", value_labels3."
   ]
  },
  {
   "cell_type": "code",
   "execution_count": null,
   "id": "ef594fbf-cb76-4172-a3c9-9fae1bf30238",
   "metadata": {},
   "outputs": [],
   "source": [
    "rec_1"
   ]
  },
  {
   "cell_type": "code",
   "execution_count": null,
   "id": "1938c2c5-7e07-4cc1-9839-87c9ac23c0d6",
   "metadata": {},
   "outputs": [],
   "source": [
    "var_labels1"
   ]
  },
  {
   "cell_type": "code",
   "execution_count": null,
   "id": "40160f7e-6c42-4642-90f8-d84dfbc8f590",
   "metadata": {},
   "outputs": [],
   "source": [
    "value_labels1"
   ]
  },
  {
   "cell_type": "markdown",
   "id": "a465c6e8-89a0-439a-8cff-bfde966833b8",
   "metadata": {},
   "source": [
    "## 2. Select the following columns for each data set:\n",
    "|Data|Columns|\n",
    "|---|---|\n",
    "|rec1| CASEID, V000, V001, V002, V003, V004, V007, V008, V009, V010, V011, V012, V024, V102, V120, V121, V122, V123, V124, V125, V127, V133 |\n",
    "|rec2| CASEID, V201, V218, V301, V302, V323, V323A, V325A, V326, V327, V337, V359, V360, V361, V362, V363, V364, V367, V372, V372A, V375A, V376, V376A, V379, V380 |\n",
    "|rec3| CASEID, V501, V502, V503, V504, V505, V506, V507, V508, V509, V510, V511, V512, V513, V525, V613, V714, V715 |\n",
    "\n",
    "\n",
    "Additioanlly, you should update the variables and value labels objects. They must have information only for the selected columns. The new dataframes should be name as `rec1_1`, `rec2_1`, and `rec3_1`. The new varible labels objects should be named as `new_var_labels1`, `new_var_labels2`, and `new_var_labels3`. The new value labels objects should be named as `new_value_labels1`, `new_value_labels2`, and `new_value_labels3` **Hint: Use the `loc` and column names to filter, `for loop`,   and [this link](https://stackoverflow.com/questions/3420122/filter-dict-to-contain-only-certain-keys) to update the var and value dictionary.**"
   ]
  },
  {
   "cell_type": "markdown",
   "id": "b82d80ed-145b-4de4-9a58-1aa238e38d00",
   "metadata": {},
   "source": [
    "### _Solution_\n",
    "#### 2.1. Selection of columns\n",
    "First, we create lists that contain the names of the variables to be used for each dataset:"
   ]
  },
  {
   "cell_type": "code",
   "execution_count": null,
   "id": "ff3f1975-fbf8-43a1-8a4a-ed553f61a05b",
   "metadata": {},
   "outputs": [],
   "source": [
    "columns_rec1 = ['CASEID', 'V000', 'V001', 'V002', 'V003', 'V004', 'V007', 'V008', 'V009', 'V010', 'V011', 'V012', 'V024', 'V102', 'V120', 'V121', 'V122', 'V123', 'V124', 'V125', 'V127', 'V133']\n",
    "columns_rec2 = ['CASEID', 'V201', 'V218', 'V301', 'V302', 'V323', 'V323A', 'V325A', 'V326', 'V327', 'V337', 'V359', 'V360', 'V361', 'V362', 'V363', 'V364', 'V367', 'V372', 'V372A', 'V375A', 'V376', 'V376A', 'V379', 'V380']\n",
    "columns_rec3 =['CASEID', 'V501', 'V502', 'V503', 'V504', 'V505', 'V506', 'V507', 'V508', 'V509', 'V510', 'V511', 'V512', 'V513', 'V525', 'V613', 'V714', 'V715']"
   ]
  },
  {
   "cell_type": "markdown",
   "id": "2cdf650f-1c29-4768-ba65-f4a87bd1e989",
   "metadata": {},
   "source": [
    "#### 2.2 Creation of a new dataset\n",
    "Now, the code dynamically creates new variables for each iteration of the loop, containing subsets of data, variable labels, and value labels based on the specified columns for each dataframe in the `rec` list.\n",
    "\n",
    "The code begins by defining a list of specific columns that will be used to extract data subsets from various DataFrames. It then employs a loop to iterate through each DataFrame in the recs list. During each iteration, dynamic variable names are generated to store the results of the subset, including a modified version of the original DataFrame, variable labels, and value labels. This dynamic approach allows for efficient and structured subset operations for each DataFrame.\n",
    "\n",
    "Within the loop, the code uses the loc function to select specific columns from the current DataFrame. These data subsets are stored in new variables with dynamic names, such as reci_1. Additionally, subsets of variable labels (new_var_labelsi) and value labels (new_value_labelsi) are generated. These subsets are created by filtering the original labels, retaining only those corresponding to the selected specific columns. This approach ensures that the new datasets and labels are tailored and contain only relevant information for the specified columns, facilitating subsequent analysis or data manipulation."
   ]
  },
  {
   "cell_type": "code",
   "execution_count": null,
   "id": "9f773402-cf86-49b5-bcf9-495f4f97af2e",
   "metadata": {},
   "outputs": [],
   "source": [
    "columns_recs = [columns_rec1, columns_rec2, columns_rec3]\n",
    "for i in range(len(recs)):\n",
    "        reci_1 = f\"rec{i+1}_1\"\n",
    "        new_var_labelsi = f\"new_var_labels{i+1}\"\n",
    "        new_value_labelsi = f\"new_value_labels{i+1}\"\n",
    "    \n",
    "        locals()[reci_1] = recs[i].loc[:, columns_recs[i]]\n",
    "        locals()[new_var_labelsi] = {key : value for key, value in var_labels[i].items() if key in columns_recs[i]}\n",
    "        locals()[new_value_labelsi] = {key: value for key, value in value_labels[i].items() if key in columns_recs[i]}"
   ]
  },
  {
   "cell_type": "markdown",
   "id": "f1b60389-3007-40f3-b8d7-9333722e2af1",
   "metadata": {},
   "source": [
    "## 3. Generate new columns\n",
    "Generate a new column for `rec1_1` named as `year`. It should be equal to `2019`. Also, you must update this new variable for the `var_labels` dictionary. Generate a new key for `new_var_labels1` and the value for this key should be **\"Year of the survey\"** **Hint: Use `loc` and `update` method.**"
   ]
  },
  {
   "cell_type": "markdown",
   "id": "b2a4e6e4-1a15-4d5a-8311-4ca005756f34",
   "metadata": {},
   "source": [
    "### _Solution_\n",
    "In this code, a specific action is performed on the DataFrame `rec1_1`. All rows of the dataset where the value in the 'year' column equals 2019 are selected using the expression `rec1_1.loc[:,'year']=2019`. Subsequently, the variable labels associated with the DataFrame are updated: a new variable-label pair is added, where the variable is 'year' and the label is \"Year of the survey,\" both in the original dictionary `var_labels1` and in a new dictionary named `new_var_labels1`. This process ensures that the labels associated with the 'year' variable are kept updated with information relevant to the survey year."
   ]
  },
  {
   "cell_type": "code",
   "execution_count": null,
   "id": "72ac3e34-049d-4dff-9a53-37dc6613e463",
   "metadata": {},
   "outputs": [],
   "source": [
    "rec1_1.loc[:,'year']=2019 #Selection of all rows of the dataset if the value in the columns year is 2019\n",
    "var_labels1.update({'year': \"Year of the survey\"}) #Adds a new pair of variable and label to the dictionnary var_labels1\n",
    "new_var_labels1.update({'year': \"Year of the survey\"}) #Does the same for the dictionnary new_var_labels1"
   ]
  }
 ],
 "metadata": {
  "kernelspec": {
   "display_name": "Python 3 (ipykernel)",
   "language": "python",
   "name": "python3"
  },
  "language_info": {
   "codemirror_mode": {
    "name": "ipython",
    "version": 3
   },
   "file_extension": ".py",
   "mimetype": "text/x-python",
   "name": "python",
   "nbconvert_exporter": "python",
   "pygments_lexer": "ipython3",
   "version": "3.8.18"
  }
 },
 "nbformat": 4,
 "nbformat_minor": 5
}
